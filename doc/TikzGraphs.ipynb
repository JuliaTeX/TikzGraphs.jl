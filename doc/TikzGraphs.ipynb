{
 "cells": [
  {
   "cell_type": "markdown",
   "metadata": {},
   "source": [
    "# TikzGraphs"
   ]
  },
  {
   "cell_type": "markdown",
   "metadata": {},
   "source": [
    "This library uses the LaTeX package [pgf/tikz](http://www.ctan.org/pkg/pgf) to produce graphs. It integrates with IJulia, outputting SVG images to the notebook."
   ]
  },
  {
   "cell_type": "markdown",
   "metadata": {},
   "source": [
    "## Installation"
   ]
  },
  {
   "cell_type": "code",
   "execution_count": null,
   "metadata": {},
   "outputs": [],
   "source": [
    "using Pkg\n",
    "Pkg.add(\"TikzGraphs\")"
   ]
  },
  {
   "cell_type": "markdown",
   "metadata": {},
   "source": [
    "In addition, you will need to install the following dependencies if you do not already have them on your system.\n",
    "* Pdf2svg. This is required by TikzPictures. On Ubuntu, you can get this by running `sudo apt-get install pdf2svg`. On Windows, you can download the binaries from http://www.cityinthesky.co.uk/opensource/pdf2svg/. Be sure to add pdf2svg to your path (and restart).\n",
    "* Pgf (version 3.0 or later). Install using your latex package manager (e.g., texlive or miktex).\n",
    "\n",
    "Once these things are installed, you should be able to run the following:"
   ]
  },
  {
   "cell_type": "code",
   "execution_count": 1,
   "metadata": {},
   "outputs": [],
   "source": [
    "using TikzGraphs"
   ]
  },
  {
   "cell_type": "markdown",
   "metadata": {},
   "source": [
    "## Examples"
   ]
  },
  {
   "cell_type": "code",
   "execution_count": 2,
   "metadata": {},
   "outputs": [
    {
     "data": {
      "image/svg+xml": [
       "<?xml version=\"1.0\" encoding=\"UTF-8\"?>\n",
       "<svg xmlns=\"http://www.w3.org/2000/svg\" xmlns:xlink=\"http://www.w3.org/1999/xlink\" width=\"38.587pt\" height=\"70.133pt\" viewBox=\"0 0 38.587 70.133\" version=\"1.1\">\n",
       "<defs>\n",
       "<g>\n",
       "<symbol overflow=\"visible\" id=\"glyph-1636526391308275-0-0\">\n",
       "<path style=\"stroke:none;\" d=\"\"/>\n",
       "</symbol>\n",
       "<symbol overflow=\"visible\" id=\"glyph-1636526391308275-0-1\">\n",
       "<path style=\"stroke:none;\" d=\"M 4.171875 0 L 4.171875 -0.3125 L 3.859375 -0.3125 C 2.953125 -0.3125 2.9375 -0.421875 2.9375 -0.78125 L 2.9375 -6.375 C 2.9375 -6.625 2.9375 -6.640625 2.703125 -6.640625 C 2.078125 -6 1.203125 -6 0.890625 -6 L 0.890625 -5.6875 C 1.09375 -5.6875 1.671875 -5.6875 2.1875 -5.953125 L 2.1875 -0.78125 C 2.1875 -0.421875 2.15625 -0.3125 1.265625 -0.3125 L 0.953125 -0.3125 L 0.953125 0 C 1.296875 -0.03125 2.15625 -0.03125 2.5625 -0.03125 C 2.953125 -0.03125 3.828125 -0.03125 4.171875 0 Z M 4.171875 0 \"/>\n",
       "</symbol>\n",
       "<symbol overflow=\"visible\" id=\"glyph-1636526391308275-0-2\">\n",
       "<path style=\"stroke:none;\" d=\"M 4.46875 -1.734375 L 4.234375 -1.734375 C 4.171875 -1.4375 4.109375 -1 4 -0.84375 C 3.9375 -0.765625 3.28125 -0.765625 3.0625 -0.765625 L 1.265625 -0.765625 L 2.328125 -1.796875 C 3.875 -3.171875 4.46875 -3.703125 4.46875 -4.703125 C 4.46875 -5.84375 3.578125 -6.640625 2.359375 -6.640625 C 1.234375 -6.640625 0.5 -5.71875 0.5 -4.828125 C 0.5 -4.28125 1 -4.28125 1.03125 -4.28125 C 1.203125 -4.28125 1.546875 -4.390625 1.546875 -4.8125 C 1.546875 -5.0625 1.359375 -5.328125 1.015625 -5.328125 C 0.9375 -5.328125 0.921875 -5.328125 0.890625 -5.3125 C 1.109375 -5.96875 1.65625 -6.328125 2.234375 -6.328125 C 3.140625 -6.328125 3.5625 -5.515625 3.5625 -4.703125 C 3.5625 -3.90625 3.078125 -3.125 2.515625 -2.5 L 0.609375 -0.375 C 0.5 -0.265625 0.5 -0.234375 0.5 0 L 4.203125 0 Z M 4.46875 -1.734375 \"/>\n",
       "</symbol>\n",
       "<symbol overflow=\"visible\" id=\"glyph-1636526391308275-0-3\">\n",
       "<path style=\"stroke:none;\" d=\"M 4.5625 -1.703125 C 4.5625 -2.515625 3.921875 -3.296875 2.890625 -3.515625 C 3.703125 -3.78125 4.28125 -4.46875 4.28125 -5.265625 C 4.28125 -6.078125 3.40625 -6.640625 2.453125 -6.640625 C 1.453125 -6.640625 0.6875 -6.046875 0.6875 -5.28125 C 0.6875 -4.953125 0.90625 -4.765625 1.203125 -4.765625 C 1.5 -4.765625 1.703125 -4.984375 1.703125 -5.28125 C 1.703125 -5.765625 1.234375 -5.765625 1.09375 -5.765625 C 1.390625 -6.265625 2.046875 -6.390625 2.40625 -6.390625 C 2.828125 -6.390625 3.375 -6.171875 3.375 -5.28125 C 3.375 -5.15625 3.34375 -4.578125 3.09375 -4.140625 C 2.796875 -3.65625 2.453125 -3.625 2.203125 -3.625 C 2.125 -3.609375 1.890625 -3.59375 1.8125 -3.59375 C 1.734375 -3.578125 1.671875 -3.5625 1.671875 -3.46875 C 1.671875 -3.359375 1.734375 -3.359375 1.90625 -3.359375 L 2.34375 -3.359375 C 3.15625 -3.359375 3.53125 -2.6875 3.53125 -1.703125 C 3.53125 -0.34375 2.84375 -0.0625 2.40625 -0.0625 C 1.96875 -0.0625 1.21875 -0.234375 0.875 -0.8125 C 1.21875 -0.765625 1.53125 -0.984375 1.53125 -1.359375 C 1.53125 -1.71875 1.265625 -1.921875 0.984375 -1.921875 C 0.734375 -1.921875 0.421875 -1.78125 0.421875 -1.34375 C 0.421875 -0.4375 1.34375 0.21875 2.4375 0.21875 C 3.65625 0.21875 4.5625 -0.6875 4.5625 -1.703125 Z M 4.5625 -1.703125 \"/>\n",
       "</symbol>\n",
       "<symbol overflow=\"visible\" id=\"glyph-1636526391308275-0-4\">\n",
       "<path style=\"stroke:none;\" d=\"M 4.6875 -1.640625 L 4.6875 -1.953125 L 3.703125 -1.953125 L 3.703125 -6.484375 C 3.703125 -6.6875 3.703125 -6.75 3.53125 -6.75 C 3.453125 -6.75 3.421875 -6.75 3.34375 -6.625 L 0.28125 -1.953125 L 0.28125 -1.640625 L 2.9375 -1.640625 L 2.9375 -0.78125 C 2.9375 -0.421875 2.90625 -0.3125 2.171875 -0.3125 L 1.96875 -0.3125 L 1.96875 0 C 2.375 -0.03125 2.890625 -0.03125 3.3125 -0.03125 C 3.734375 -0.03125 4.25 -0.03125 4.671875 0 L 4.671875 -0.3125 L 4.453125 -0.3125 C 3.71875 -0.3125 3.703125 -0.421875 3.703125 -0.78125 L 3.703125 -1.640625 Z M 2.984375 -1.953125 L 0.5625 -1.953125 L 2.984375 -5.671875 Z M 2.984375 -1.953125 \"/>\n",
       "</symbol>\n",
       "</g>\n",
       "</defs>\n",
       "<g id=\"surface1\">\n",
       "<path style=\"fill:none;stroke-width:0.3985;stroke-linecap:butt;stroke-linejoin:miter;stroke:rgb(0%,0%,0%);stroke-opacity:1;stroke-miterlimit:10;\" d=\"M 0.0015 -6.83925 L 0.0015 -21.050187 \" transform=\"matrix(1,0,0,-1,5.811,6.692)\"/>\n",
       "<path style=\"fill:none;stroke-width:0.31879;stroke-linecap:round;stroke-linejoin:round;stroke:rgb(0%,0%,0%);stroke-opacity:1;stroke-miterlimit:10;\" d=\"M -1.196225 1.59525 C -1.094663 0.997594 -0.0009125 0.0991563 0.299869 0.0015 C -0.0009125 -0.100062 -1.094663 -0.994594 -1.196225 -1.59225 \" transform=\"matrix(0,1,1,0,5.811,27.7431)\"/>\n",
       "<path style=\"fill:none;stroke-width:0.3985;stroke-linecap:butt;stroke-linejoin:miter;stroke:rgb(0%,0%,0%);stroke-opacity:1;stroke-miterlimit:10;\" d=\"M 0.0015 -35.183 L 0.0015 -49.288469 \" transform=\"matrix(1,0,0,-1,5.811,6.692)\"/>\n",
       "<path style=\"fill:none;stroke-width:0.31879;stroke-linecap:round;stroke-linejoin:round;stroke:rgb(0%,0%,0%);stroke-opacity:1;stroke-miterlimit:10;\" d=\"M -1.195144 1.59525 C -1.097488 0.997594 0.00016875 0.0991563 0.297044 0.0015 C 0.00016875 -0.100062 -1.097488 -0.994594 -1.195144 -1.59225 \" transform=\"matrix(0,1,1,0,5.811,55.9803)\"/>\n",
       "<g style=\"fill:rgb(0%,0%,0%);fill-opacity:1;\">\n",
       "  <use xlink:href=\"#glyph-1636526391308275-0-1\" x=\"3.321\" y=\"10.01\"/>\n",
       "</g>\n",
       "<g style=\"fill:rgb(0%,0%,0%);fill-opacity:1;\">\n",
       "  <use xlink:href=\"#glyph-1636526391308275-0-2\" x=\"3.321\" y=\"38.356\"/>\n",
       "</g>\n",
       "<g style=\"fill:rgb(0%,0%,0%);fill-opacity:1;\">\n",
       "  <use xlink:href=\"#glyph-1636526391308275-0-3\" x=\"3.321\" y=\"66.593\"/>\n",
       "</g>\n",
       "<g style=\"fill:rgb(0%,0%,0%);fill-opacity:1;\">\n",
       "  <use xlink:href=\"#glyph-1636526391308275-0-4\" x=\"30.285\" y=\"10.065\"/>\n",
       "</g>\n",
       "</g>\n",
       "</svg>\n",
       "\n"
      ],
      "text/plain": [
       "TikzPictures.TikzPicture(\"\\\\graph [layered layout, ] {\\n1/\\\"1\\\" [],\\n2/\\\"2\\\" [],\\n3/\\\"3\\\" [],\\n4/\\\"4\\\" [],\\n;\\n1 -> [,] 2;\\n2 -> [,] 3;\\n};\\n\", \"\", \"\\\\usepackage{fontspec}\\n\\\\setmainfont{Latin Modern Math}\\n\\\\usetikzlibrary{arrows}\\n\\\\usetikzlibrary{graphs}\\n\\\\usetikzlibrary{graphdrawing}\\n\\n% from: https://tex.stackexchange.com/questions/453132/fresh-install-of-tl2018-no-tikz-graph-drawing-libraries-found\\n\\\\usepackage{luacode}\\n\\\\begin{luacode*}\\n\\tfunction pgf_lookup_and_require(name)\\n\\tlocal sep = package.config:sub(1,1)\\n\\tlocal function lookup(name)\\n\\tlocal sub = name:gsub('%.',sep)  \\n\\tif kpse.find_file(sub, 'lua') then\\n\\trequire(name)\\n\\telseif kpse.find_file(sub, 'clua') then\\n\\tcollectgarbage('stop') \\n\\trequire(name)\\n\\tcollectgarbage('restart')\\n\\telse\\n\\treturn false\\n\\tend\\n\\treturn true\\n\\tend\\n\\treturn\\n\\tlookup('pgf.gd.' .. name .. '.library') or\\n\\tlookup('pgf.gd.' .. name) or\\n\\tlookup(name .. '.library') or\\n\\tlookup(name) \\n\\tend\\n\\\\end{luacode*}\\n\\n\\\\usegdlibrary{layered}\", \"tikzpicture\", \"\", \"\", true, true)"
      ]
     },
     "execution_count": 2,
     "metadata": {},
     "output_type": "execute_result"
    }
   ],
   "source": [
    "using TikzGraphs\n",
    "using Graphs\n",
    "g = DiGraph(4)\n",
    "add_edge!(g, 1, 2)\n",
    "add_edge!(g, 2, 3)\n",
    "TikzGraphs.plot(g)"
   ]
  },
  {
   "cell_type": "code",
   "execution_count": 3,
   "metadata": {},
   "outputs": [
    {
     "data": {
      "image/svg+xml": [
       "<?xml version=\"1.0\" encoding=\"UTF-8\"?>\n",
       "<svg xmlns=\"http://www.w3.org/2000/svg\" xmlns:xlink=\"http://www.w3.org/1999/xlink\" width=\"39.969pt\" height=\"98.37pt\" viewBox=\"0 0 39.969 98.37\" version=\"1.1\">\n",
       "<defs>\n",
       "<g>\n",
       "<symbol overflow=\"visible\" id=\"glyph-1636526391308276-0-0\">\n",
       "<path style=\"stroke:none;\" d=\"\"/>\n",
       "</symbol>\n",
       "<symbol overflow=\"visible\" id=\"glyph-1636526391308276-0-1\">\n",
       "<path style=\"stroke:none;\" d=\"M 4.171875 0 L 4.171875 -0.3125 L 3.859375 -0.3125 C 2.953125 -0.3125 2.9375 -0.421875 2.9375 -0.78125 L 2.9375 -6.375 C 2.9375 -6.625 2.9375 -6.640625 2.703125 -6.640625 C 2.078125 -6 1.203125 -6 0.890625 -6 L 0.890625 -5.6875 C 1.09375 -5.6875 1.671875 -5.6875 2.1875 -5.953125 L 2.1875 -0.78125 C 2.1875 -0.421875 2.15625 -0.3125 1.265625 -0.3125 L 0.953125 -0.3125 L 0.953125 0 C 1.296875 -0.03125 2.15625 -0.03125 2.5625 -0.03125 C 2.953125 -0.03125 3.828125 -0.03125 4.171875 0 Z M 4.171875 0 \"/>\n",
       "</symbol>\n",
       "<symbol overflow=\"visible\" id=\"glyph-1636526391308276-0-2\">\n",
       "<path style=\"stroke:none;\" d=\"M 4.46875 -1.734375 L 4.234375 -1.734375 C 4.171875 -1.4375 4.109375 -1 4 -0.84375 C 3.9375 -0.765625 3.28125 -0.765625 3.0625 -0.765625 L 1.265625 -0.765625 L 2.328125 -1.796875 C 3.875 -3.171875 4.46875 -3.703125 4.46875 -4.703125 C 4.46875 -5.84375 3.578125 -6.640625 2.359375 -6.640625 C 1.234375 -6.640625 0.5 -5.71875 0.5 -4.828125 C 0.5 -4.28125 1 -4.28125 1.03125 -4.28125 C 1.203125 -4.28125 1.546875 -4.390625 1.546875 -4.8125 C 1.546875 -5.0625 1.359375 -5.328125 1.015625 -5.328125 C 0.9375 -5.328125 0.921875 -5.328125 0.890625 -5.3125 C 1.109375 -5.96875 1.65625 -6.328125 2.234375 -6.328125 C 3.140625 -6.328125 3.5625 -5.515625 3.5625 -4.703125 C 3.5625 -3.90625 3.078125 -3.125 2.515625 -2.5 L 0.609375 -0.375 C 0.5 -0.265625 0.5 -0.234375 0.5 0 L 4.203125 0 Z M 4.46875 -1.734375 \"/>\n",
       "</symbol>\n",
       "<symbol overflow=\"visible\" id=\"glyph-1636526391308276-0-3\">\n",
       "<path style=\"stroke:none;\" d=\"M 4.5625 -1.703125 C 4.5625 -2.515625 3.921875 -3.296875 2.890625 -3.515625 C 3.703125 -3.78125 4.28125 -4.46875 4.28125 -5.265625 C 4.28125 -6.078125 3.40625 -6.640625 2.453125 -6.640625 C 1.453125 -6.640625 0.6875 -6.046875 0.6875 -5.28125 C 0.6875 -4.953125 0.90625 -4.765625 1.203125 -4.765625 C 1.5 -4.765625 1.703125 -4.984375 1.703125 -5.28125 C 1.703125 -5.765625 1.234375 -5.765625 1.09375 -5.765625 C 1.390625 -6.265625 2.046875 -6.390625 2.40625 -6.390625 C 2.828125 -6.390625 3.375 -6.171875 3.375 -5.28125 C 3.375 -5.15625 3.34375 -4.578125 3.09375 -4.140625 C 2.796875 -3.65625 2.453125 -3.625 2.203125 -3.625 C 2.125 -3.609375 1.890625 -3.59375 1.8125 -3.59375 C 1.734375 -3.578125 1.671875 -3.5625 1.671875 -3.46875 C 1.671875 -3.359375 1.734375 -3.359375 1.90625 -3.359375 L 2.34375 -3.359375 C 3.15625 -3.359375 3.53125 -2.6875 3.53125 -1.703125 C 3.53125 -0.34375 2.84375 -0.0625 2.40625 -0.0625 C 1.96875 -0.0625 1.21875 -0.234375 0.875 -0.8125 C 1.21875 -0.765625 1.53125 -0.984375 1.53125 -1.359375 C 1.53125 -1.71875 1.265625 -1.921875 0.984375 -1.921875 C 0.734375 -1.921875 0.421875 -1.78125 0.421875 -1.34375 C 0.421875 -0.4375 1.34375 0.21875 2.4375 0.21875 C 3.65625 0.21875 4.5625 -0.6875 4.5625 -1.703125 Z M 4.5625 -1.703125 \"/>\n",
       "</symbol>\n",
       "<symbol overflow=\"visible\" id=\"glyph-1636526391308276-0-4\">\n",
       "<path style=\"stroke:none;\" d=\"M 4.6875 -1.640625 L 4.6875 -1.953125 L 3.703125 -1.953125 L 3.703125 -6.484375 C 3.703125 -6.6875 3.703125 -6.75 3.53125 -6.75 C 3.453125 -6.75 3.421875 -6.75 3.34375 -6.625 L 0.28125 -1.953125 L 0.28125 -1.640625 L 2.9375 -1.640625 L 2.9375 -0.78125 C 2.9375 -0.421875 2.90625 -0.3125 2.171875 -0.3125 L 1.96875 -0.3125 L 1.96875 0 C 2.375 -0.03125 2.890625 -0.03125 3.3125 -0.03125 C 3.734375 -0.03125 4.25 -0.03125 4.671875 0 L 4.671875 -0.3125 L 4.453125 -0.3125 C 3.71875 -0.3125 3.703125 -0.421875 3.703125 -0.78125 L 3.703125 -1.640625 Z M 2.984375 -1.953125 L 0.5625 -1.953125 L 2.984375 -5.671875 Z M 2.984375 -1.953125 \"/>\n",
       "</symbol>\n",
       "</g>\n",
       "</defs>\n",
       "<g id=\"surface1\">\n",
       "<path style=\"fill:none;stroke-width:0.3985;stroke-linecap:butt;stroke-linejoin:miter;stroke:rgb(0%,0%,0%);stroke-opacity:1;stroke-miterlimit:10;\" d=\"M -6.009563 -6.010438 L -22.013469 -22.010438 \" transform=\"matrix(1,0,0,-1,34.158,6.638)\"/>\n",
       "<path style=\"fill:none;stroke-width:0.31879;stroke-linecap:round;stroke-linejoin:round;stroke:rgb(0%,0%,0%);stroke-opacity:1;stroke-miterlimit:10;\" d=\"M -1.19366 1.594386 C -1.096984 0.994997 -0.000405706 0.0972944 0.30067 0.000618724 C -0.000405706 -0.101581 -1.094222 -0.996522 -1.19366 -1.593149 \" transform=\"matrix(-0.7071,0.7071,0.7071,0.7071,12.14576,28.65024)\"/>\n",
       "<path style=\"fill:none;stroke-width:0.3985;stroke-linecap:butt;stroke-linejoin:miter;stroke:rgb(0%,0%,0%);stroke-opacity:1;stroke-miterlimit:10;\" d=\"M -0.00175 -6.838563 L -0.00175 -77.690125 \" transform=\"matrix(1,0,0,-1,34.158,6.638)\"/>\n",
       "<path style=\"fill:none;stroke-width:0.31879;stroke-linecap:round;stroke-linejoin:round;stroke:rgb(0%,0%,0%);stroke-opacity:1;stroke-miterlimit:10;\" d=\"M -1.195097 1.595906 C -1.097441 0.994344 0.000215 0.0998125 0.29709 -0.00175 C 0.000215 -0.0994063 -1.097441 -0.997844 -1.195097 -1.5955 \" transform=\"matrix(0,1,1,0,34.158,84.32791)\"/>\n",
       "<path style=\"fill:none;stroke-width:0.3985;stroke-linecap:butt;stroke-linejoin:miter;stroke:rgb(0%,0%,0%);stroke-opacity:1;stroke-miterlimit:10;\" d=\"M -28.3455 -35.182313 L -28.3455 -49.287781 \" transform=\"matrix(1,0,0,-1,34.158,6.638)\"/>\n",
       "<path style=\"fill:none;stroke-width:0.31879;stroke-linecap:round;stroke-linejoin:round;stroke:rgb(0%,0%,0%);stroke-opacity:1;stroke-miterlimit:10;\" d=\"M -1.195831 1.59505 C -1.094269 0.997394 -0.00051875 0.0989563 0.300263 0.0013 C -0.00051875 -0.100262 -1.094269 -0.994794 -1.195831 -1.59245 \" transform=\"matrix(0,1,1,0,5.8112,55.9263)\"/>\n",
       "<path style=\"fill:none;stroke-width:0.3985;stroke-linecap:butt;stroke-linejoin:miter;stroke:rgb(0%,0%,0%);stroke-opacity:1;stroke-miterlimit:10;\" d=\"M -22.337688 -62.70575 L -6.333781 -78.70575 \" transform=\"matrix(1,0,0,-1,34.158,6.638)\"/>\n",
       "<path style=\"fill:none;stroke-width:0.31879;stroke-linecap:round;stroke-linejoin:round;stroke:rgb(0%,0%,0%);stroke-opacity:1;stroke-miterlimit:10;\" d=\"M -1.19555 1.594389 C -1.096113 0.997762 0.000465811 0.100059 0.298779 0.000621376 C 0.000465811 -0.0988165 -1.096113 -0.996519 -1.19555 -1.593146 \" transform=\"matrix(0.7071,0.7071,0.7071,-0.7071,27.82345,85.34386)\"/>\n",
       "<g style=\"fill:rgb(0%,0%,0%);fill-opacity:1;\">\n",
       "  <use xlink:href=\"#glyph-1636526391308276-0-1\" x=\"31.667\" y=\"9.955\"/>\n",
       "</g>\n",
       "<g style=\"fill:rgb(0%,0%,0%);fill-opacity:1;\">\n",
       "  <use xlink:href=\"#glyph-1636526391308276-0-2\" x=\"3.321\" y=\"38.302\"/>\n",
       "</g>\n",
       "<g style=\"fill:rgb(0%,0%,0%);fill-opacity:1;\">\n",
       "  <use xlink:href=\"#glyph-1636526391308276-0-3\" x=\"3.321\" y=\"66.539\"/>\n",
       "</g>\n",
       "<g style=\"fill:rgb(0%,0%,0%);fill-opacity:1;\">\n",
       "  <use xlink:href=\"#glyph-1636526391308276-0-4\" x=\"31.667\" y=\"95.049\"/>\n",
       "</g>\n",
       "</g>\n",
       "</svg>\n",
       "\n"
      ],
      "text/plain": [
       "TikzPictures.TikzPicture(\"\\\\graph [layered layout, ] {\\n1/\\\"1\\\" [],\\n2/\\\"2\\\" [],\\n3/\\\"3\\\" [],\\n4/\\\"4\\\" [],\\n;\\n1 -> [,] 2;\\n1 -> [,] 4;\\n2 -> [,] 3;\\n3 -> [,] 4;\\n};\\n\", \"\", \"\\\\usepackage{fontspec}\\n\\\\setmainfont{Latin Modern Math}\\n\\\\usetikzlibrary{arrows}\\n\\\\usetikzlibrary{graphs}\\n\\\\usetikzlibrary{graphdrawing}\\n\\n% from: https://tex.stackexchange.com/questions/453132/fresh-install-of-tl2018-no-tikz-graph-drawing-libraries-found\\n\\\\usepackage{luacode}\\n\\\\begin{luacode*}\\n\\tfunction pgf_lookup_and_require(name)\\n\\tlocal sep = package.config:sub(1,1)\\n\\tlocal function lookup(name)\\n\\tlocal sub = name:gsub('%.',sep)  \\n\\tif kpse.find_file(sub, 'lua') then\\n\\trequire(name)\\n\\telseif kpse.find_file(sub, 'clua') then\\n\\tcollectgarbage('stop') \\n\\trequire(name)\\n\\tcollectgarbage('restart')\\n\\telse\\n\\treturn false\\n\\tend\\n\\treturn true\\n\\tend\\n\\treturn\\n\\tlookup('pgf.gd.' .. name .. '.library') or\\n\\tlookup('pgf.gd.' .. name) or\\n\\tlookup(name .. '.library') or\\n\\tlookup(name) \\n\\tend\\n\\\\end{luacode*}\\n\\n\\\\usegdlibrary{layered}\", \"tikzpicture\", \"\", \"\", true, true)"
      ]
     },
     "execution_count": 3,
     "metadata": {},
     "output_type": "execute_result"
    }
   ],
   "source": [
    "add_edge!(g, 3, 4)\n",
    "add_edge!(g, 1, 4)\n",
    "TikzGraphs.plot(g)"
   ]
  },
  {
   "cell_type": "markdown",
   "metadata": {},
   "source": [
    "You can save your graphs to PDF, SVG, and TEX."
   ]
  },
  {
   "cell_type": "code",
   "execution_count": 4,
   "metadata": {},
   "outputs": [],
   "source": [
    "t = TikzGraphs.plot(g)\n",
    "using TikzPictures # this is required for saving\n",
    "TikzPictures.save(PDF(\"graph\"), t)\n",
    "TikzPictures.save(SVG(\"graph\"), t)\n",
    "TikzPictures.save(TEX(\"graph\"), t)"
   ]
  },
  {
   "cell_type": "markdown",
   "metadata": {},
   "source": [
    "## Labels"
   ]
  },
  {
   "cell_type": "markdown",
   "metadata": {},
   "source": [
    "You can also specify the node labels."
   ]
  },
  {
   "cell_type": "code",
   "execution_count": 5,
   "metadata": {},
   "outputs": [
    {
     "data": {
      "image/svg+xml": [
       "<?xml version=\"1.0\" encoding=\"UTF-8\"?>\n",
       "<svg xmlns=\"http://www.w3.org/2000/svg\" xmlns:xlink=\"http://www.w3.org/1999/xlink\" width=\"42.39pt\" height=\"98.649pt\" viewBox=\"0 0 42.39 98.649\" version=\"1.1\">\n",
       "<defs>\n",
       "<g>\n",
       "<symbol overflow=\"visible\" id=\"glyph-1636526391308277-0-0\">\n",
       "<path style=\"stroke:none;\" d=\"\"/>\n",
       "</symbol>\n",
       "<symbol overflow=\"visible\" id=\"glyph-1636526391308277-0-1\">\n",
       "<path style=\"stroke:none;\" d=\"M 7.140625 0 L 7.140625 -0.3125 L 6.96875 -0.3125 C 6.375 -0.3125 6.234375 -0.375 6.125 -0.703125 L 3.96875 -6.9375 C 3.921875 -7.0625 3.890625 -7.140625 3.734375 -7.140625 C 3.578125 -7.140625 3.546875 -7.078125 3.5 -6.9375 L 1.4375 -0.984375 C 1.25 -0.46875 0.859375 -0.3125 0.3125 -0.3125 L 0.3125 0 L 1.328125 -0.03125 L 2.484375 0 L 2.484375 -0.3125 C 1.984375 -0.3125 1.734375 -0.5625 1.734375 -0.8125 C 1.734375 -0.84375 1.75 -0.953125 1.75 -0.96875 L 2.21875 -2.265625 L 4.671875 -2.265625 L 5.203125 -0.75 C 5.21875 -0.703125 5.234375 -0.640625 5.234375 -0.609375 C 5.234375 -0.3125 4.671875 -0.3125 4.40625 -0.3125 L 4.40625 0 C 4.765625 -0.03125 5.46875 -0.03125 5.84375 -0.03125 Z M 4.5625 -2.578125 L 2.328125 -2.578125 L 3.4375 -5.828125 Z M 4.5625 -2.578125 \"/>\n",
       "</symbol>\n",
       "<symbol overflow=\"visible\" id=\"glyph-1636526391308277-0-2\">\n",
       "<path style=\"stroke:none;\" d=\"M 6.484375 -1.828125 C 6.484375 -2.6875 5.671875 -3.4375 4.5625 -3.5625 C 5.53125 -3.75 6.21875 -4.390625 6.21875 -5.125 C 6.21875 -5.984375 5.296875 -6.8125 4 -6.8125 L 0.359375 -6.8125 L 0.359375 -6.5 L 0.59375 -6.5 C 1.359375 -6.5 1.390625 -6.390625 1.390625 -6.03125 L 1.390625 -0.78125 C 1.390625 -0.421875 1.359375 -0.3125 0.59375 -0.3125 L 0.359375 -0.3125 L 0.359375 0 L 4.265625 0 C 5.59375 0 6.484375 -0.890625 6.484375 -1.828125 Z M 5.25 -5.125 C 5.25 -4.484375 4.765625 -3.65625 3.65625 -3.65625 L 2.21875 -3.65625 L 2.21875 -6.09375 C 2.21875 -6.4375 2.234375 -6.5 2.703125 -6.5 L 3.9375 -6.5 C 4.90625 -6.5 5.25 -5.65625 5.25 -5.125 Z M 5.5 -1.828125 C 5.5 -1.125 4.96875 -0.3125 3.953125 -0.3125 L 2.703125 -0.3125 C 2.234375 -0.3125 2.21875 -0.375 2.21875 -0.703125 L 2.21875 -3.421875 L 4.09375 -3.421875 C 5.078125 -3.421875 5.5 -2.5 5.5 -1.828125 Z M 5.5 -1.828125 \"/>\n",
       "</symbol>\n",
       "<symbol overflow=\"visible\" id=\"glyph-1636526391308277-0-3\">\n",
       "<path style=\"stroke:none;\" d=\"M 6.625 -2.328125 C 6.625 -2.421875 6.625 -2.5 6.5 -2.5 C 6.390625 -2.5 6.390625 -2.4375 6.375 -2.328125 C 6.296875 -0.90625 5.234375 -0.09375 4.140625 -0.09375 C 3.53125 -0.09375 1.578125 -0.421875 1.578125 -3.40625 C 1.578125 -6.375 3.53125 -6.71875 4.140625 -6.71875 C 5.21875 -6.71875 6.109375 -5.8125 6.3125 -4.359375 C 6.328125 -4.21875 6.328125 -4.1875 6.46875 -4.1875 C 6.625 -4.1875 6.625 -4.21875 6.625 -4.421875 L 6.625 -6.78125 C 6.625 -6.953125 6.625 -7.03125 6.515625 -7.03125 C 6.484375 -7.03125 6.4375 -7.03125 6.359375 -6.90625 L 5.859375 -6.171875 C 5.5 -6.53125 4.984375 -7.03125 4.03125 -7.03125 C 2.15625 -7.03125 0.5625 -5.4375 0.5625 -3.40625 C 0.5625 -1.34375 2.171875 0.21875 4.03125 0.21875 C 5.65625 0.21875 6.625 -1.171875 6.625 -2.328125 Z M 6.625 -2.328125 \"/>\n",
       "</symbol>\n",
       "<symbol overflow=\"visible\" id=\"glyph-1636526391308277-0-4\">\n",
       "<path style=\"stroke:none;\" d=\"M 7.046875 -3.34375 C 7.046875 -5.25 5.703125 -6.8125 4 -6.8125 L 0.34375 -6.8125 L 0.34375 -6.5 L 0.59375 -6.5 C 1.359375 -6.5 1.375 -6.390625 1.375 -6.03125 L 1.375 -0.78125 C 1.375 -0.421875 1.359375 -0.3125 0.59375 -0.3125 L 0.34375 -0.3125 L 0.34375 0 L 4 0 C 5.671875 0 7.046875 -1.46875 7.046875 -3.34375 Z M 6.046875 -3.34375 C 6.046875 -2.25 5.859375 -1.640625 5.5 -1.15625 C 5.296875 -0.890625 4.734375 -0.3125 3.734375 -0.3125 L 2.71875 -0.3125 C 2.25 -0.3125 2.234375 -0.375 2.234375 -0.703125 L 2.234375 -6.09375 C 2.234375 -6.4375 2.25 -6.5 2.71875 -6.5 L 3.71875 -6.5 C 4.34375 -6.5 5.03125 -6.28125 5.53125 -5.578125 C 5.96875 -4.984375 6.046875 -4.125 6.046875 -3.34375 Z M 6.046875 -3.34375 \"/>\n",
       "</symbol>\n",
       "</g>\n",
       "</defs>\n",
       "<g id=\"surface1\">\n",
       "<path style=\"fill:none;stroke-width:0.3985;stroke-linecap:butt;stroke-linejoin:miter;stroke:rgb(0%,0%,0%);stroke-opacity:1;stroke-miterlimit:10;\" d=\"M -7.087219 -7.085656 L -21.098938 -21.101281 \" transform=\"matrix(1,0,0,-1,35.263,6.887)\"/>\n",
       "<path style=\"fill:none;stroke-width:0.31879;stroke-linecap:round;stroke-linejoin:round;stroke:rgb(0%,0%,0%);stroke-opacity:1;stroke-miterlimit:10;\" d=\"M -1.196795 1.595425 C -1.094595 0.996036 -0.000778709 0.101095 0.300297 -0.00110486 C -0.000778709 -0.0977805 -1.097357 -0.995483 -1.194033 -1.594873 \" transform=\"matrix(-0.7071,0.7071,0.7071,0.7071,14.16234,27.98766)\"/>\n",
       "<path style=\"fill:none;stroke-width:0.3985;stroke-linecap:butt;stroke-linejoin:miter;stroke:rgb(0%,0%,0%);stroke-opacity:1;stroke-miterlimit:10;\" d=\"M -0.00128125 -7.085656 L -0.00128125 -77.659875 \" transform=\"matrix(1,0,0,-1,35.263,6.887)\"/>\n",
       "<path style=\"fill:none;stroke-width:0.31879;stroke-linecap:round;stroke-linejoin:round;stroke:rgb(0%,0%,0%);stroke-opacity:1;stroke-miterlimit:10;\" d=\"M -1.195467 1.592469 C -1.097811 0.994812 -0.000155 0.100281 0.300626 -0.00128125 C -0.000155 -0.0989375 -1.097811 -0.997375 -1.195467 -1.595031 \" transform=\"matrix(0,1,1,0,35.263,84.54703)\"/>\n",
       "<path style=\"fill:none;stroke-width:0.3985;stroke-linecap:butt;stroke-linejoin:miter;stroke:rgb(0%,0%,0%);stroke-opacity:1;stroke-miterlimit:10;\" d=\"M -28.345031 -35.26925 L -28.345031 -49.093469 \" transform=\"matrix(1,0,0,-1,35.263,6.887)\"/>\n",
       "<path style=\"fill:none;stroke-width:0.31879;stroke-linecap:round;stroke-linejoin:round;stroke:rgb(0%,0%,0%);stroke-opacity:1;stroke-miterlimit:10;\" d=\"M -1.195884 1.595519 C -1.094321 0.997862 -0.00057125 0.099425 0.30021 0.00176875 C -0.00057125 -0.0997938 -1.094321 -0.994325 -1.195884 -1.595888 \" transform=\"matrix(0,1,1,0,6.9162,55.98104)\"/>\n",
       "<path style=\"fill:none;stroke-width:0.3985;stroke-linecap:butt;stroke-linejoin:miter;stroke:rgb(0%,0%,0%);stroke-opacity:1;stroke-miterlimit:10;\" d=\"M -21.23175 -63.808312 L -7.247375 -77.792687 \" transform=\"matrix(1,0,0,-1,35.263,6.887)\"/>\n",
       "<path style=\"fill:none;stroke-width:0.31879;stroke-linecap:round;stroke-linejoin:round;stroke:rgb(0%,0%,0%);stroke-opacity:1;stroke-miterlimit:10;\" d=\"M -1.198009 1.594013 C -1.095809 0.994624 -0.00199229 0.0996836 0.299083 -0.00251644 C -0.00199229 -0.0991921 -1.095809 -0.994133 -1.195246 -1.596284 \" transform=\"matrix(0.7071,0.7071,0.7071,-0.7071,28.01686,84.68127)\"/>\n",
       "<g style=\"fill:rgb(0%,0%,0%);fill-opacity:1;\">\n",
       "  <use xlink:href=\"#glyph-1636526391308277-0-1\" x=\"31.527\" y=\"10.454\"/>\n",
       "</g>\n",
       "<g style=\"fill:rgb(0%,0%,0%);fill-opacity:1;\">\n",
       "  <use xlink:href=\"#glyph-1636526391308277-0-2\" x=\"3.39\" y=\"38.636\"/>\n",
       "</g>\n",
       "<g style=\"fill:rgb(0%,0%,0%);fill-opacity:1;\">\n",
       "  <use xlink:href=\"#glyph-1636526391308277-0-3\" x=\"3.321\" y=\"66.982\"/>\n",
       "</g>\n",
       "<g style=\"fill:rgb(0%,0%,0%);fill-opacity:1;\">\n",
       "  <use xlink:href=\"#glyph-1636526391308277-0-4\" x=\"31.458\" y=\"95.328\"/>\n",
       "</g>\n",
       "</g>\n",
       "</svg>\n",
       "\n"
      ],
      "text/plain": [
       "TikzPicture(\"\\\\graph [layered layout, ] {\\n1/\\\"A\\\" [],\\n2/\\\"B\\\" [],\\n3/\\\"C\\\" [],\\n4/\\\"D\\\" [],\\n;\\n1 -> [,] 2;\\n1 -> [,] 4;\\n2 -> [,] 3;\\n3 -> [,] 4;\\n};\\n\", \"\", \"\\\\usepackage{fontspec}\\n\\\\setmainfont{Latin Modern Math}\\n\\\\usetikzlibrary{arrows}\\n\\\\usetikzlibrary{graphs}\\n\\\\usetikzlibrary{graphdrawing}\\n\\n% from: https://tex.stackexchange.com/questions/453132/fresh-install-of-tl2018-no-tikz-graph-drawing-libraries-found\\n\\\\usepackage{luacode}\\n\\\\begin{luacode*}\\n\\tfunction pgf_lookup_and_require(name)\\n\\tlocal sep = package.config:sub(1,1)\\n\\tlocal function lookup(name)\\n\\tlocal sub = name:gsub('%.',sep)  \\n\\tif kpse.find_file(sub, 'lua') then\\n\\trequire(name)\\n\\telseif kpse.find_file(sub, 'clua') then\\n\\tcollectgarbage('stop') \\n\\trequire(name)\\n\\tcollectgarbage('restart')\\n\\telse\\n\\treturn false\\n\\tend\\n\\treturn true\\n\\tend\\n\\treturn\\n\\tlookup('pgf.gd.' .. name .. '.library') or\\n\\tlookup('pgf.gd.' .. name) or\\n\\tlookup(name .. '.library') or\\n\\tlookup(name) \\n\\tend\\n\\\\end{luacode*}\\n\\n\\\\usegdlibrary{layered}\", \"tikzpicture\", \"\", \"\", true, true)"
      ]
     },
     "execution_count": 5,
     "metadata": {},
     "output_type": "execute_result"
    }
   ],
   "source": [
    "TikzGraphs.plot(g, [\"A\", \"B\", \"C\", \"D\"])"
   ]
  },
  {
   "cell_type": "markdown",
   "metadata": {},
   "source": [
    "You can even use unicode."
   ]
  },
  {
   "cell_type": "code",
   "execution_count": 6,
   "metadata": {},
   "outputs": [
    {
     "data": {
      "image/svg+xml": [
       "<?xml version=\"1.0\" encoding=\"UTF-8\"?>\n",
       "<svg xmlns=\"http://www.w3.org/2000/svg\" xmlns:xlink=\"http://www.w3.org/1999/xlink\" width=\"41.1pt\" height=\"97.538pt\" viewBox=\"0 0 41.1 97.538\" version=\"1.1\">\n",
       "<defs>\n",
       "<g>\n",
       "<symbol overflow=\"visible\" id=\"glyph-1636526391308278-0-0\">\n",
       "<path style=\"stroke:none;\" d=\"\"/>\n",
       "</symbol>\n",
       "<symbol overflow=\"visible\" id=\"glyph-1636526391308278-0-1\">\n",
       "<path style=\"stroke:none;\" d=\"M 6.34375 -0.59375 C 6.328125 -0.671875 6.265625 -0.703125 6.203125 -0.703125 C 6.140625 -0.703125 6.109375 -0.671875 6.09375 -0.59375 C 6.046875 -0.109375 5.65625 -0.109375 5.65625 -0.109375 C 5.359375 -0.109375 5.15625 -0.890625 5.109375 -1.125 C 5.046875 -1.328125 5.046875 -1.359375 5.109375 -1.46875 C 5.765625 -2.65625 5.671875 -3.8125 5.671875 -3.8125 C 5.671875 -3.8125 5.640625 -3.921875 5.53125 -3.921875 C 5.4375 -3.921875 5.4375 -3.890625 5.4375 -3.703125 C 5.40625 -3.078125 5.28125 -2.328125 4.953125 -1.734375 L 4.796875 -2.359375 C 4.40625 -3.921875 3.359375 -4.40625 2.625 -4.40625 C 1.25 -4.40625 0.296875 -2.984375 0.640625 -1.578125 C 0.875 -0.640625 1.671875 0.109375 2.6875 0.109375 C 3.3125 0.109375 3.96875 -0.125 4.578125 -0.734375 C 4.828125 -0.203125 5.25 0.109375 5.6875 0.109375 C 6.21875 0.109375 6.390625 -0.4375 6.34375 -0.59375 Z M 4.46875 -0.984375 C 3.78125 -0.21875 3.046875 -0.109375 2.640625 -0.109375 C 2.046875 -0.109375 1.640625 -0.5625 1.46875 -1.203125 C 1.359375 -1.6875 1.34375 -2.765625 1.53125 -3.265625 C 1.828125 -4 2.3125 -4.1875 2.65625 -4.1875 C 3.65625 -4.1875 3.984375 -2.875 4.171875 -2.109375 C 4.265625 -1.734375 4.40625 -1.15625 4.46875 -0.984375 Z M 4.46875 -0.984375 \"/>\n",
       "</symbol>\n",
       "<symbol overflow=\"visible\" id=\"glyph-1636526391308278-0-2\">\n",
       "<path style=\"stroke:none;\" d=\"M 4.84375 -1.859375 C 4.828125 -2.078125 4.8125 -2.296875 4.765625 -2.5 C 4.671875 -2.890625 4.46875 -3.265625 4.203125 -3.5625 C 4.03125 -3.734375 3.859375 -3.890625 3.65625 -4 C 3.734375 -4.0625 3.828125 -4.109375 3.90625 -4.203125 C 4.234375 -4.5 4.421875 -4.90625 4.421875 -5.359375 C 4.421875 -5.484375 4.421875 -5.609375 4.390625 -5.71875 C 4.3125 -6.03125 4.125 -6.3125 3.890625 -6.546875 C 3.53125 -6.859375 3.078125 -7.03125 2.609375 -7.03125 C 1.421875 -7.03125 0.84375 -5.671875 0.84375 -4.3125 L 0.84375 1.8125 C 0.859375 1.890625 0.90625 1.9375 0.96875 1.9375 L 1.015625 1.9375 C 1.0625 1.9375 1.109375 1.90625 1.109375 1.859375 L 1.09375 -0.875 C 1.421875 -0.296875 1.96875 0.109375 2.65625 0.109375 C 3.21875 0.109375 3.78125 -0.078125 4.203125 -0.453125 C 4.59375 -0.8125 4.828125 -1.328125 4.84375 -1.859375 Z M 4.171875 -1.90625 C 4.171875 -1.453125 4.0625 -0.984375 3.765625 -0.625 C 3.46875 -0.296875 3.046875 -0.109375 2.609375 -0.109375 C 1.890625 -0.109375 1.34375 -0.65625 1.171875 -1.359375 C 1.125 -1.53125 1.109375 -1.6875 1.109375 -1.859375 L 1.09375 -4.265625 C 1.109375 -5.515625 1.5625 -6.8125 2.65625 -6.8125 C 2.984375 -6.8125 3.3125 -6.671875 3.53125 -6.40625 C 3.65625 -6.265625 3.734375 -6.09375 3.78125 -5.90625 C 3.8125 -5.734375 3.84375 -5.578125 3.84375 -5.40625 C 3.84375 -5.03125 3.765625 -4.640625 3.515625 -4.359375 C 3.453125 -4.28125 3.375 -4.21875 3.3125 -4.171875 C 3.09375 -4.25 2.84375 -4.296875 2.609375 -4.296875 C 2.25 -4.296875 1.828125 -4.296875 1.828125 -4.03125 L 1.828125 -3.953125 C 1.890625 -3.71875 2.296875 -3.71875 2.65625 -3.71875 C 2.90625 -3.71875 3.140625 -3.765625 3.375 -3.84375 C 3.515625 -3.75 3.65625 -3.625 3.765625 -3.453125 C 3.921875 -3.25 4 -3.015625 4.078125 -2.765625 C 4.140625 -2.5 4.171875 -2.1875 4.171875 -1.90625 Z M 3.015625 -4.015625 C 2.890625 -3.96875 2.734375 -3.9375 2.609375 -3.9375 C 2.375 -3.9375 2.078125 -3.9375 2.078125 -3.984375 C 2.078125 -4.0625 2.40625 -4.0625 2.65625 -4.0625 C 2.78125 -4.0625 2.90625 -4.046875 3.015625 -4.015625 Z M 3.015625 -4.015625 \"/>\n",
       "</symbol>\n",
       "<symbol overflow=\"visible\" id=\"glyph-1636526391308278-0-3\">\n",
       "<path style=\"stroke:none;\" d=\"M 5.140625 -4.203125 C 5.109375 -4.296875 4.984375 -4.296875 4.984375 -4.296875 C 4.953125 -4.296875 4.890625 -4.296875 4.890625 -4.234375 C 4.609375 -3.28125 4.453125 -2.28125 4.3125 -1.28125 C 4.21875 -1.578125 4.015625 -2.34375 3.390625 -3.3125 C 3 -3.921875 2.484375 -4.40625 1.796875 -4.40625 C 0.546875 -4.40625 0.234375 -2.890625 0.296875 -2.578125 C 0.328125 -2.484375 0.421875 -2.484375 0.515625 -2.484375 L 0.546875 -2.53125 C 0.640625 -3.671875 1.734375 -3.6875 1.84375 -3.6875 C 3.34375 -3.6875 3.890625 -1.9375 4.09375 -1.15625 C 4.234375 -0.546875 4.234375 -0.375 4.21875 -0.171875 C 4.171875 0.546875 4.171875 1.703125 4.234375 1.96875 C 4.25 2.078125 4.328125 2.140625 4.40625 2.140625 C 4.53125 2.140625 4.5625 1.921875 4.578125 1.546875 C 4.59375 0.703125 4.546875 0.140625 4.515625 -0.171875 C 4.5 -0.296875 4.484375 -0.421875 4.5 -0.5625 C 4.5625 -1.546875 4.828125 -3.03125 5.03125 -3.8125 C 5.078125 -3.9375 5.140625 -4.15625 5.140625 -4.203125 Z M 5.140625 -4.203125 \"/>\n",
       "</symbol>\n",
       "<symbol overflow=\"visible\" id=\"glyph-1636526391308278-0-4\">\n",
       "<path style=\"stroke:none;\" d=\"M 4.015625 -1.8125 C 4.015625 -2.15625 3.984375 -2.5 3.890625 -2.828125 C 3.859375 -2.984375 3.8125 -3.140625 3.765625 -3.296875 C 3.546875 -3.765625 3.234375 -4.15625 2.875 -4.5 C 2.296875 -5.078125 1.46875 -5.859375 1.359375 -6.3125 C 1.328125 -6.375 1.328125 -6.4375 1.359375 -6.484375 C 1.375 -6.5625 1.4375 -6.65625 1.515625 -6.703125 C 1.609375 -6.765625 1.703125 -6.765625 1.8125 -6.765625 C 2.265625 -6.75 2.625 -6.4375 3.046875 -6.265625 C 3.09375 -6.265625 3.125 -6.25 3.15625 -6.25 C 3.296875 -6.25 3.421875 -6.34375 3.46875 -6.46875 C 3.484375 -6.53125 3.484375 -6.59375 3.46875 -6.65625 C 3.4375 -6.78125 3.34375 -6.875 3.203125 -6.90625 C 2.8125 -7 2.359375 -7.09375 2 -7.09375 C 1.90625 -7.09375 1.828125 -7.09375 1.75 -7.078125 C 1.609375 -7.046875 1.46875 -7.015625 1.359375 -6.921875 C 1.25 -6.84375 1.171875 -6.71875 1.140625 -6.578125 C 1.09375 -6.4375 1.09375 -6.265625 1.140625 -6.078125 C 1.28125 -5.546875 1.75 -4.90625 2.1875 -4.34375 C 1.796875 -4.25 1.453125 -4.046875 1.171875 -3.75 C 0.78125 -3.3125 0.59375 -2.75 0.59375 -2.171875 C 0.59375 -1.96875 0.625 -1.765625 0.671875 -1.5625 C 0.75 -1.203125 0.9375 -0.859375 1.203125 -0.5625 C 1.5625 -0.15625 2.109375 0.109375 2.65625 0.109375 C 3.53125 0.109375 4.015625 -0.84375 4.015625 -1.8125 Z M 3.40625 -1.625 C 3.40625 -0.890625 3.234375 -0.109375 2.609375 -0.109375 C 2.203125 -0.109375 1.859375 -0.34375 1.609375 -0.671875 C 1.5 -0.859375 1.390625 -1.0625 1.34375 -1.28125 C 1.28125 -1.5625 1.265625 -1.84375 1.265625 -2.125 C 1.265625 -2.640625 1.328125 -3.171875 1.625 -3.59375 C 1.796875 -3.84375 2.0625 -4.046875 2.34375 -4.140625 L 2.390625 -4.09375 C 2.6875 -3.734375 2.953125 -3.34375 3.140625 -2.9375 C 3.21875 -2.765625 3.265625 -2.609375 3.3125 -2.4375 C 3.375 -2.171875 3.421875 -1.890625 3.40625 -1.625 Z M 3.40625 -1.625 \"/>\n",
       "</symbol>\n",
       "</g>\n",
       "</defs>\n",
       "<g id=\"surface1\">\n",
       "<path style=\"fill:none;stroke-width:0.3985;stroke-linecap:butt;stroke-linejoin:miter;stroke:rgb(0%,0%,0%);stroke-opacity:1;stroke-miterlimit:10;\" d=\"M -5.777406 -5.774563 L -21.722719 -21.723781 \" transform=\"matrix(1,0,0,-1,34.586,5.577)\"/>\n",
       "<path style=\"fill:none;stroke-width:0.31879;stroke-linecap:round;stroke-linejoin:round;stroke:rgb(0%,0%,0%);stroke-opacity:1;stroke-miterlimit:10;\" d=\"M -1.196129 1.594519 C -1.096692 0.997892 -0.000113138 0.100189 0.2982 0.000751308 C -0.000113138 -0.0986865 -1.096692 -0.996389 -1.196129 -1.593016 \" transform=\"matrix(-0.7071,0.7071,0.7071,0.7071,12.86267,27.30033)\"/>\n",
       "<path style=\"fill:none;stroke-width:0.3985;stroke-linecap:butt;stroke-linejoin:miter;stroke:rgb(0%,0%,0%);stroke-opacity:1;stroke-miterlimit:10;\" d=\"M -0.0000625 -5.774563 L -0.0000625 -77.462063 \" transform=\"matrix(1,0,0,-1,34.586,5.577)\"/>\n",
       "<path style=\"fill:none;stroke-width:0.31879;stroke-linecap:round;stroke-linejoin:round;stroke:rgb(0%,0%,0%);stroke-opacity:1;stroke-miterlimit:10;\" d=\"M -1.19402 1.593688 C -1.096364 0.996031 0.0012925 0.1015 0.298168 -0.0000625 C 0.0012925 -0.0977187 -1.096364 -0.996156 -1.19402 -1.593812 \" transform=\"matrix(0,1,1,0,34.586,83.03777)\"/>\n",
       "<path style=\"fill:none;stroke-width:0.3985;stroke-linecap:butt;stroke-linejoin:miter;stroke:rgb(0%,0%,0%);stroke-opacity:1;stroke-miterlimit:10;\" d=\"M -28.347719 -36.348781 L -28.347719 -49.442531 \" transform=\"matrix(1,0,0,-1,34.586,5.577)\"/>\n",
       "<path style=\"fill:none;stroke-width:0.31879;stroke-linecap:round;stroke-linejoin:round;stroke:rgb(0%,0%,0%);stroke-opacity:1;stroke-miterlimit:10;\" d=\"M -1.195531 1.592831 C -1.093969 0.995175 -0.00021875 0.100644 0.300563 -0.00091875 C -0.00021875 -0.098575 -1.093969 -0.997012 -1.195531 -1.594669 \" transform=\"matrix(0,1,1,0,6.2392,55.01975)\"/>\n",
       "<path style=\"fill:none;stroke-width:0.3985;stroke-linecap:butt;stroke-linejoin:miter;stroke:rgb(0%,0%,0%);stroke-opacity:1;stroke-miterlimit:10;\" d=\"M -21.906312 -63.133938 L -6.203187 -78.837063 \" transform=\"matrix(1,0,0,-1,34.586,5.577)\"/>\n",
       "<path style=\"fill:none;stroke-width:0.31879;stroke-linecap:round;stroke-linejoin:round;stroke:rgb(0%,0%,0%);stroke-opacity:1;stroke-miterlimit:10;\" d=\"M -1.193517 1.593874 C -1.096841 0.994485 0.00249965 0.0995439 0.300813 0.000106067 C -0.000262516 -0.102094 -1.094079 -0.997035 -1.193517 -1.593662 \" transform=\"matrix(0.7071,0.7071,0.7071,-0.7071,28.38097,84.41237)\"/>\n",
       "<g style=\"fill:rgb(0%,0%,0%);fill-opacity:1;\">\n",
       "  <use xlink:href=\"#glyph-1636526391308278-0-1\" x=\"31.393\" y=\"7.724\"/>\n",
       "</g>\n",
       "<g style=\"fill:rgb(0%,0%,0%);fill-opacity:1;\">\n",
       "  <use xlink:href=\"#glyph-1636526391308278-0-2\" x=\"3.46\" y=\"36.474\"/>\n",
       "</g>\n",
       "<g style=\"fill:rgb(0%,0%,0%);fill-opacity:1;\">\n",
       "  <use xlink:href=\"#glyph-1636526391308278-0-3\" x=\"3.321\" y=\"63.4\"/>\n",
       "</g>\n",
       "<g style=\"fill:rgb(0%,0%,0%);fill-opacity:1;\">\n",
       "  <use xlink:href=\"#glyph-1636526391308278-0-4\" x=\"32.225\" y=\"94.108\"/>\n",
       "</g>\n",
       "</g>\n",
       "</svg>\n",
       "\n"
      ],
      "text/plain": [
       "TikzPicture(\"\\\\graph [layered layout, ] {\\n1/\\\"α\\\" [],\\n2/\\\"β\\\" [],\\n3/\\\"γ\\\" [],\\n4/\\\"δ\\\" [],\\n;\\n1 -> [,] 2;\\n1 -> [,] 4;\\n2 -> [,] 3;\\n3 -> [,] 4;\\n};\\n\", \"\", \"\\\\usepackage{fontspec}\\n\\\\setmainfont{Latin Modern Math}\\n\\\\usetikzlibrary{arrows}\\n\\\\usetikzlibrary{graphs}\\n\\\\usetikzlibrary{graphdrawing}\\n\\n% from: https://tex.stackexchange.com/questions/453132/fresh-install-of-tl2018-no-tikz-graph-drawing-libraries-found\\n\\\\usepackage{luacode}\\n\\\\begin{luacode*}\\n\\tfunction pgf_lookup_and_require(name)\\n\\tlocal sep = package.config:sub(1,1)\\n\\tlocal function lookup(name)\\n\\tlocal sub = name:gsub('%.',sep)  \\n\\tif kpse.find_file(sub, 'lua') then\\n\\trequire(name)\\n\\telseif kpse.find_file(sub, 'clua') then\\n\\tcollectgarbage('stop') \\n\\trequire(name)\\n\\tcollectgarbage('restart')\\n\\telse\\n\\treturn false\\n\\tend\\n\\treturn true\\n\\tend\\n\\treturn\\n\\tlookup('pgf.gd.' .. name .. '.library') or\\n\\tlookup('pgf.gd.' .. name) or\\n\\tlookup(name .. '.library') or\\n\\tlookup(name) \\n\\tend\\n\\\\end{luacode*}\\n\\n\\\\usegdlibrary{layered}\", \"tikzpicture\", \"\", \"\", true, true)"
      ]
     },
     "execution_count": 6,
     "metadata": {},
     "output_type": "execute_result"
    }
   ],
   "source": [
    "TikzGraphs.plot(g, [\"α\", \"β\", \"γ\", \"δ\"])"
   ]
  },
  {
   "cell_type": "markdown",
   "metadata": {},
   "source": [
    "You can also have latex labels."
   ]
  },
  {
   "cell_type": "code",
   "execution_count": 7,
   "metadata": {},
   "outputs": [
    {
     "data": {
      "image/svg+xml": [
       "<?xml version=\"1.0\" encoding=\"UTF-8\"?>\n",
       "<svg xmlns=\"http://www.w3.org/2000/svg\" xmlns:xlink=\"http://www.w3.org/1999/xlink\" width=\"65.137pt\" height=\"103.66pt\" viewBox=\"0 0 65.137 103.66\" version=\"1.1\">\n",
       "<defs>\n",
       "<g>\n",
       "<symbol overflow=\"visible\" id=\"glyph-1636526391308279-0-0\">\n",
       "<path style=\"stroke:none;\" d=\"\"/>\n",
       "</symbol>\n",
       "<symbol overflow=\"visible\" id=\"glyph-1636526391308279-0-1\">\n",
       "<path style=\"stroke:none;\" d=\"M 2.71875 8.765625 C 2.578125 10.40625 2.21875 10.859375 1.65625 10.859375 C 1.53125 10.859375 1.21875 10.828125 1.015625 10.640625 C 1.3125 10.609375 1.390625 10.375 1.390625 10.234375 C 1.390625 9.953125 1.171875 9.8125 0.984375 9.8125 C 0.78125 9.8125 0.5625 9.953125 0.5625 10.25 C 0.5625 10.71875 1.0625 11.078125 1.65625 11.078125 C 2.609375 11.078125 3.078125 10.203125 3.296875 9.3125 C 3.421875 8.796875 3.78125 5.890625 3.875 4.78125 L 4.0625 2.296875 C 4.203125 0.46875 4.53125 0.21875 4.984375 0.21875 C 5.078125 0.21875 5.390625 0.234375 5.609375 0.421875 C 5.328125 0.46875 5.25 0.703125 5.25 0.84375 C 5.25 1.125 5.46875 1.25 5.65625 1.25 C 5.859375 1.25 6.078125 1.125 6.078125 0.828125 C 6.078125 0.34375 5.578125 0 4.96875 0 C 4.03125 0 3.640625 0.96875 3.46875 1.71875 C 3.34375 2.265625 2.984375 5.078125 2.90625 6.296875 Z M 2.71875 8.765625 \"/>\n",
       "</symbol>\n",
       "<symbol overflow=\"visible\" id=\"glyph-1636526391308279-1-0\">\n",
       "<path style=\"stroke:none;\" d=\"\"/>\n",
       "</symbol>\n",
       "<symbol overflow=\"visible\" id=\"glyph-1636526391308279-1-1\">\n",
       "<path style=\"stroke:none;\" d=\"M 4.03125 -1.90625 C 3.65625 -2.34375 3.546875 -2.453125 3.28125 -2.640625 C 2.859375 -2.953125 2.40625 -3.078125 2.03125 -3.078125 C 1.15625 -3.078125 0.53125 -2.328125 0.53125 -1.5 C 0.53125 -0.6875 1.140625 0.0625 2 0.0625 C 2.96875 0.0625 3.65625 -0.71875 3.90625 -1.09375 C 4.265625 -0.65625 4.390625 -0.546875 4.640625 -0.359375 C 5.078125 -0.046875 5.515625 0.0625 5.90625 0.0625 C 6.765625 0.0625 7.390625 -0.671875 7.390625 -1.5 C 7.390625 -2.328125 6.796875 -3.078125 5.921875 -3.078125 C 4.953125 -3.078125 4.28125 -2.28125 4.03125 -1.90625 Z M 4.25 -1.65625 C 4.53125 -2.109375 5.140625 -2.8125 5.984375 -2.8125 C 6.703125 -2.8125 7.203125 -2.171875 7.203125 -1.5 C 7.203125 -0.84375 6.65625 -0.3125 6.015625 -0.3125 C 5.359375 -0.3125 4.921875 -0.84375 4.25 -1.65625 Z M 3.671875 -1.359375 C 3.40625 -0.90625 2.796875 -0.1875 1.9375 -0.1875 C 1.21875 -0.1875 0.734375 -0.828125 0.734375 -1.5 C 0.734375 -2.171875 1.28125 -2.6875 1.921875 -2.6875 C 2.5625 -2.6875 3.015625 -2.15625 3.671875 -1.359375 Z M 3.671875 -1.359375 \"/>\n",
       "</symbol>\n",
       "<symbol overflow=\"visible\" id=\"glyph-1636526391308279-2-0\">\n",
       "<path style=\"stroke:none;\" d=\"\"/>\n",
       "</symbol>\n",
       "<symbol overflow=\"visible\" id=\"glyph-1636526391308279-2-1\">\n",
       "<path style=\"stroke:none;\" d=\"M 3.59375 -2.21875 C 3.59375 -2.984375 3.5 -3.546875 3.1875 -4.03125 C 2.96875 -4.34375 2.53125 -4.625 1.984375 -4.625 C 0.359375 -4.625 0.359375 -2.71875 0.359375 -2.21875 C 0.359375 -1.71875 0.359375 0.140625 1.984375 0.140625 C 3.59375 0.140625 3.59375 -1.71875 3.59375 -2.21875 Z M 1.984375 -0.0625 C 1.65625 -0.0625 1.234375 -0.25 1.09375 -0.8125 C 1 -1.21875 1 -1.796875 1 -2.3125 C 1 -2.828125 1 -3.359375 1.09375 -3.734375 C 1.25 -4.28125 1.6875 -4.4375 1.984375 -4.4375 C 2.359375 -4.4375 2.71875 -4.203125 2.84375 -3.796875 C 2.953125 -3.421875 2.96875 -2.921875 2.96875 -2.3125 C 2.96875 -1.796875 2.96875 -1.28125 2.875 -0.84375 C 2.734375 -0.203125 2.265625 -0.0625 1.984375 -0.0625 Z M 1.984375 -0.0625 \"/>\n",
       "</symbol>\n",
       "<symbol overflow=\"visible\" id=\"glyph-1636526391308279-2-2\">\n",
       "<path style=\"stroke:none;\" d=\"M 3.515625 -1.265625 L 3.28125 -1.265625 C 3.265625 -1.109375 3.1875 -0.703125 3.09375 -0.640625 C 3.046875 -0.59375 2.515625 -0.59375 2.40625 -0.59375 L 1.125 -0.59375 C 1.859375 -1.234375 2.109375 -1.4375 2.515625 -1.765625 C 3.03125 -2.171875 3.515625 -2.609375 3.515625 -3.265625 C 3.515625 -4.109375 2.78125 -4.625 1.890625 -4.625 C 1.03125 -4.625 0.4375 -4.015625 0.4375 -3.375 C 0.4375 -3.03125 0.734375 -2.984375 0.8125 -2.984375 C 0.96875 -2.984375 1.171875 -3.109375 1.171875 -3.359375 C 1.171875 -3.484375 1.125 -3.734375 0.765625 -3.734375 C 0.984375 -4.21875 1.453125 -4.375 1.78125 -4.375 C 2.484375 -4.375 2.84375 -3.828125 2.84375 -3.265625 C 2.84375 -2.65625 2.40625 -2.1875 2.1875 -1.9375 L 0.515625 -0.265625 C 0.4375 -0.203125 0.4375 -0.1875 0.4375 0 L 3.3125 0 Z M 3.515625 -1.265625 \"/>\n",
       "</symbol>\n",
       "<symbol overflow=\"visible\" id=\"glyph-1636526391308279-2-3\">\n",
       "<path style=\"stroke:none;\" d=\"M 2.328125 -4.4375 C 2.328125 -4.625 2.328125 -4.625 2.125 -4.625 C 1.671875 -4.1875 1.046875 -4.1875 0.765625 -4.1875 L 0.765625 -3.9375 C 0.921875 -3.9375 1.390625 -3.9375 1.765625 -4.125 L 1.765625 -0.578125 C 1.765625 -0.34375 1.765625 -0.25 1.078125 -0.25 L 0.8125 -0.25 L 0.8125 0 C 0.9375 0 1.796875 -0.03125 2.046875 -0.03125 C 2.265625 -0.03125 3.140625 0 3.296875 0 L 3.296875 -0.25 L 3.03125 -0.25 C 2.328125 -0.25 2.328125 -0.34375 2.328125 -0.578125 Z M 2.328125 -4.4375 \"/>\n",
       "</symbol>\n",
       "<symbol overflow=\"visible\" id=\"glyph-1636526391308279-3-0\">\n",
       "<path style=\"stroke:none;\" d=\"\"/>\n",
       "</symbol>\n",
       "<symbol overflow=\"visible\" id=\"glyph-1636526391308279-3-1\">\n",
       "<path style=\"stroke:none;\" d=\"M 3.65625 -3.984375 L 4.515625 -3.984375 C 4.71875 -3.984375 4.8125 -3.984375 4.8125 -4.1875 C 4.8125 -4.296875 4.71875 -4.296875 4.546875 -4.296875 L 3.71875 -4.296875 L 3.921875 -5.4375 C 3.96875 -5.640625 4.109375 -6.34375 4.171875 -6.46875 C 4.25 -6.65625 4.421875 -6.8125 4.640625 -6.8125 C 4.671875 -6.8125 4.9375 -6.8125 5.125 -6.625 C 4.6875 -6.59375 4.578125 -6.234375 4.578125 -6.09375 C 4.578125 -5.859375 4.765625 -5.734375 4.953125 -5.734375 C 5.21875 -5.734375 5.5 -5.96875 5.5 -6.34375 C 5.5 -6.796875 5.046875 -7.03125 4.640625 -7.03125 C 4.296875 -7.03125 3.671875 -6.84375 3.375 -5.859375 C 3.3125 -5.65625 3.28125 -5.546875 3.046875 -4.296875 L 2.359375 -4.296875 C 2.15625 -4.296875 2.046875 -4.296875 2.046875 -4.109375 C 2.046875 -3.984375 2.140625 -3.984375 2.328125 -3.984375 L 2.984375 -3.984375 L 2.25 -0.046875 C 2.0625 0.921875 1.890625 1.828125 1.375 1.828125 C 1.328125 1.828125 1.09375 1.828125 0.890625 1.640625 C 1.359375 1.609375 1.453125 1.25 1.453125 1.109375 C 1.453125 0.875 1.265625 0.75 1.078125 0.75 C 0.8125 0.75 0.53125 0.984375 0.53125 1.359375 C 0.53125 1.796875 0.96875 2.046875 1.375 2.046875 C 1.921875 2.046875 2.328125 1.453125 2.5 1.078125 C 2.828125 0.453125 3.046875 -0.75 3.0625 -0.828125 Z M 3.65625 -3.984375 \"/>\n",
       "</symbol>\n",
       "<symbol overflow=\"visible\" id=\"glyph-1636526391308279-3-2\">\n",
       "<path style=\"stroke:none;\" d=\"M 3.328125 -3.015625 C 3.390625 -3.265625 3.625 -4.1875 4.3125 -4.1875 C 4.359375 -4.1875 4.609375 -4.1875 4.8125 -4.0625 C 4.53125 -4 4.34375 -3.765625 4.34375 -3.515625 C 4.34375 -3.359375 4.453125 -3.171875 4.71875 -3.171875 C 4.9375 -3.171875 5.25 -3.34375 5.25 -3.75 C 5.25 -4.265625 4.671875 -4.40625 4.328125 -4.40625 C 3.75 -4.40625 3.40625 -3.875 3.28125 -3.65625 C 3.03125 -4.3125 2.5 -4.40625 2.203125 -4.40625 C 1.171875 -4.40625 0.59375 -3.125 0.59375 -2.875 C 0.59375 -2.765625 0.703125 -2.765625 0.71875 -2.765625 C 0.796875 -2.765625 0.828125 -2.796875 0.84375 -2.875 C 1.1875 -3.9375 1.84375 -4.1875 2.1875 -4.1875 C 2.375 -4.1875 2.71875 -4.09375 2.71875 -3.515625 C 2.71875 -3.203125 2.546875 -2.546875 2.1875 -1.140625 C 2.03125 -0.53125 1.671875 -0.109375 1.234375 -0.109375 C 1.171875 -0.109375 0.953125 -0.109375 0.734375 -0.234375 C 0.984375 -0.296875 1.203125 -0.5 1.203125 -0.78125 C 1.203125 -1.046875 0.984375 -1.125 0.84375 -1.125 C 0.53125 -1.125 0.296875 -0.875 0.296875 -0.546875 C 0.296875 -0.09375 0.78125 0.109375 1.21875 0.109375 C 1.890625 0.109375 2.25 -0.59375 2.265625 -0.640625 C 2.390625 -0.28125 2.75 0.109375 3.34375 0.109375 C 4.375 0.109375 4.9375 -1.171875 4.9375 -1.421875 C 4.9375 -1.53125 4.859375 -1.53125 4.828125 -1.53125 C 4.734375 -1.53125 4.71875 -1.484375 4.6875 -1.421875 C 4.359375 -0.34375 3.6875 -0.109375 3.375 -0.109375 C 2.984375 -0.109375 2.828125 -0.421875 2.828125 -0.765625 C 2.828125 -0.984375 2.875 -1.203125 2.984375 -1.640625 Z M 3.328125 -3.015625 \"/>\n",
       "</symbol>\n",
       "<symbol overflow=\"visible\" id=\"glyph-1636526391308279-3-3\">\n",
       "<path style=\"stroke:none;\" d=\"M 5.140625 -6.8125 C 5.140625 -6.8125 5.140625 -6.921875 5.015625 -6.921875 C 4.859375 -6.921875 3.921875 -6.828125 3.75 -6.8125 C 3.671875 -6.796875 3.609375 -6.75 3.609375 -6.625 C 3.609375 -6.5 3.703125 -6.5 3.84375 -6.5 C 4.328125 -6.5 4.34375 -6.4375 4.34375 -6.328125 L 4.3125 -6.125 L 3.71875 -3.765625 C 3.53125 -4.140625 3.25 -4.40625 2.796875 -4.40625 C 1.640625 -4.40625 0.40625 -2.9375 0.40625 -1.484375 C 0.40625 -0.546875 0.953125 0.109375 1.71875 0.109375 C 1.921875 0.109375 2.421875 0.0625 3.015625 -0.640625 C 3.09375 -0.21875 3.453125 0.109375 3.921875 0.109375 C 4.28125 0.109375 4.5 -0.125 4.671875 -0.4375 C 4.828125 -0.796875 4.96875 -1.40625 4.96875 -1.421875 C 4.96875 -1.53125 4.875 -1.53125 4.84375 -1.53125 C 4.75 -1.53125 4.734375 -1.484375 4.703125 -1.34375 C 4.53125 -0.703125 4.359375 -0.109375 3.953125 -0.109375 C 3.671875 -0.109375 3.65625 -0.375 3.65625 -0.5625 C 3.65625 -0.8125 3.671875 -0.875 3.703125 -1.046875 Z M 3.078125 -1.1875 C 3.015625 -1 3.015625 -0.984375 2.875 -0.8125 C 2.4375 -0.265625 2.03125 -0.109375 1.75 -0.109375 C 1.25 -0.109375 1.109375 -0.65625 1.109375 -1.046875 C 1.109375 -1.546875 1.421875 -2.765625 1.65625 -3.234375 C 1.96875 -3.8125 2.40625 -4.1875 2.8125 -4.1875 C 3.453125 -4.1875 3.59375 -3.375 3.59375 -3.3125 C 3.59375 -3.25 3.578125 -3.1875 3.5625 -3.140625 Z M 3.078125 -1.1875 \"/>\n",
       "</symbol>\n",
       "<symbol overflow=\"visible\" id=\"glyph-1636526391308279-4-0\">\n",
       "<path style=\"stroke:none;\" d=\"\"/>\n",
       "</symbol>\n",
       "<symbol overflow=\"visible\" id=\"glyph-1636526391308279-4-1\">\n",
       "<path style=\"stroke:none;\" d=\"M 3.296875 2.390625 C 3.296875 2.359375 3.296875 2.34375 3.125 2.171875 C 1.890625 0.921875 1.5625 -0.96875 1.5625 -2.5 C 1.5625 -4.234375 1.9375 -5.96875 3.171875 -7.203125 C 3.296875 -7.328125 3.296875 -7.34375 3.296875 -7.375 C 3.296875 -7.453125 3.265625 -7.484375 3.203125 -7.484375 C 3.09375 -7.484375 2.203125 -6.796875 1.609375 -5.53125 C 1.109375 -4.4375 0.984375 -3.328125 0.984375 -2.5 C 0.984375 -1.71875 1.09375 -0.515625 1.640625 0.625 C 2.25 1.84375 3.09375 2.5 3.203125 2.5 C 3.265625 2.5 3.296875 2.46875 3.296875 2.390625 Z M 3.296875 2.390625 \"/>\n",
       "</symbol>\n",
       "<symbol overflow=\"visible\" id=\"glyph-1636526391308279-4-2\">\n",
       "<path style=\"stroke:none;\" d=\"M 2.875 -2.5 C 2.875 -3.265625 2.765625 -4.46875 2.21875 -5.609375 C 1.625 -6.828125 0.765625 -7.484375 0.671875 -7.484375 C 0.609375 -7.484375 0.5625 -7.4375 0.5625 -7.375 C 0.5625 -7.34375 0.5625 -7.328125 0.75 -7.140625 C 1.734375 -6.15625 2.296875 -4.578125 2.296875 -2.5 C 2.296875 -0.78125 1.9375 0.96875 0.703125 2.21875 C 0.5625 2.34375 0.5625 2.359375 0.5625 2.390625 C 0.5625 2.453125 0.609375 2.5 0.671875 2.5 C 0.765625 2.5 1.671875 1.8125 2.25 0.546875 C 2.765625 -0.546875 2.875 -1.65625 2.875 -2.5 Z M 2.875 -2.5 \"/>\n",
       "</symbol>\n",
       "<symbol overflow=\"visible\" id=\"glyph-1636526391308279-4-3\">\n",
       "<path style=\"stroke:none;\" d=\"M 1.265625 -0.765625 L 2.328125 -1.796875 C 3.875 -3.171875 4.46875 -3.703125 4.46875 -4.703125 C 4.46875 -5.84375 3.578125 -6.640625 2.359375 -6.640625 C 1.234375 -6.640625 0.5 -5.71875 0.5 -4.828125 C 0.5 -4.28125 1 -4.28125 1.03125 -4.28125 C 1.203125 -4.28125 1.546875 -4.390625 1.546875 -4.8125 C 1.546875 -5.0625 1.359375 -5.328125 1.015625 -5.328125 C 0.9375 -5.328125 0.921875 -5.328125 0.890625 -5.3125 C 1.109375 -5.96875 1.65625 -6.328125 2.234375 -6.328125 C 3.140625 -6.328125 3.5625 -5.515625 3.5625 -4.703125 C 3.5625 -3.90625 3.078125 -3.125 2.515625 -2.5 L 0.609375 -0.375 C 0.5 -0.265625 0.5 -0.234375 0.5 0 L 4.203125 0 L 4.46875 -1.734375 L 4.234375 -1.734375 C 4.171875 -1.4375 4.109375 -1 4 -0.84375 C 3.9375 -0.765625 3.28125 -0.765625 3.0625 -0.765625 Z M 1.265625 -0.765625 \"/>\n",
       "</symbol>\n",
       "<symbol overflow=\"visible\" id=\"glyph-1636526391308279-5-0\">\n",
       "<path style=\"stroke:none;\" d=\"\"/>\n",
       "</symbol>\n",
       "<symbol overflow=\"visible\" id=\"glyph-1636526391308279-5-1\">\n",
       "<path style=\"stroke:none;\" d=\"M 3.875 8.515625 L 2.125 4.640625 C 2.046875 4.484375 2 4.484375 1.96875 4.484375 C 1.96875 4.484375 1.90625 4.484375 1.796875 4.5625 L 0.859375 5.28125 C 0.734375 5.390625 0.734375 5.40625 0.734375 5.4375 C 0.734375 5.5 0.75 5.546875 0.828125 5.546875 C 0.890625 5.546875 1.0625 5.40625 1.171875 5.328125 C 1.21875 5.28125 1.375 5.171875 1.484375 5.09375 L 3.453125 9.40625 C 3.515625 9.5625 3.5625 9.5625 3.65625 9.5625 C 3.8125 9.5625 3.84375 9.515625 3.90625 9.375 L 8.4375 0 C 8.5 -0.140625 8.5 -0.171875 8.5 -0.203125 C 8.5 -0.296875 8.421875 -0.40625 8.296875 -0.40625 C 8.21875 -0.40625 8.15625 -0.34375 8.078125 -0.1875 Z M 3.875 8.515625 \"/>\n",
       "</symbol>\n",
       "</g>\n",
       "</defs>\n",
       "<g id=\"surface1\">\n",
       "<path style=\"fill:none;stroke-width:0.3985;stroke-linecap:butt;stroke-linejoin:miter;stroke:rgb(0%,0%,0%);stroke-opacity:1;stroke-miterlimit:10;\" d=\"M -9.574625 -9.575219 L -19.320719 -19.321313 \" transform=\"matrix(1,0,0,-1,38.309,9.374)\"/>\n",
       "<path style=\"fill:none;stroke-width:0.31879;stroke-linecap:round;stroke-linejoin:round;stroke:rgb(0%,0%,0%);stroke-opacity:1;stroke-miterlimit:10;\" d=\"M -1.197847 1.594188 C -1.095647 0.994798 -0.00183054 0.0998577 0.299245 -0.00234231 C -0.00183054 -0.099018 -1.095647 -0.993959 -1.195085 -1.59611 \" transform=\"matrix(-0.7071,0.7071,0.7071,0.7071,18.98669,28.69631)\"/>\n",
       "<path style=\"fill:none;stroke-width:0.3985;stroke-linecap:butt;stroke-linejoin:miter;stroke:rgb(0%,0%,0%);stroke-opacity:1;stroke-miterlimit:10;\" d=\"M -0.00040625 -9.575219 L -0.00040625 -75.137719 \" transform=\"matrix(1,0,0,-1,38.309,9.374)\"/>\n",
       "<path style=\"fill:none;stroke-width:0.31879;stroke-linecap:round;stroke-linejoin:round;stroke:rgb(0%,0%,0%);stroke-opacity:1;stroke-miterlimit:10;\" d=\"M -1.193654 1.593344 C -1.095997 0.995688 0.00165875 0.101156 0.298534 -0.00040625 C 0.00165875 -0.0980625 -1.095997 -0.9965 -1.193654 -1.594156 \" transform=\"matrix(0,1,1,0,38.309,84.51006)\"/>\n",
       "<path style=\"fill:none;stroke-width:0.3985;stroke-linecap:butt;stroke-linejoin:miter;stroke:rgb(0%,0%,0%);stroke-opacity:1;stroke-miterlimit:10;\" d=\"M -28.348062 -37.047875 L -28.348062 -48.661156 \" transform=\"matrix(1,0,0,-1,38.309,9.374)\"/>\n",
       "<path style=\"fill:none;stroke-width:0.31879;stroke-linecap:round;stroke-linejoin:round;stroke:rgb(0%,0%,0%);stroke-opacity:1;stroke-miterlimit:10;\" d=\"M -1.194796 1.592488 C -1.09714 0.994831 0.00051625 0.1003 0.297391 -0.0012625 C 0.00051625 -0.0989187 -1.09714 -0.997356 -1.194796 -1.595012 \" transform=\"matrix(0,1,1,0,9.9622,58.03464)\"/>\n",
       "<path style=\"fill:none;stroke-width:0.3985;stroke-linecap:butt;stroke-linejoin:miter;stroke:rgb(0%,0%,0%);stroke-opacity:1;stroke-miterlimit:10;\" d=\"M -20.773844 -64.266625 L -7.023844 -78.016625 \" transform=\"matrix(1,0,0,-1,38.309,9.374)\"/>\n",
       "<path style=\"fill:none;stroke-width:0.31879;stroke-linecap:round;stroke-linejoin:round;stroke:rgb(0%,0%,0%);stroke-opacity:1;stroke-miterlimit:10;\" d=\"M -1.194304 1.593719 C -1.094866 0.997092 0.0017121 0.0993892 0.300026 -0.0000486141 C 0.0017121 -0.0994865 -1.094866 -0.997189 -1.194304 -1.593816 \" transform=\"matrix(0.7071,0.7071,0.7071,-0.7071,31.28398,87.38938)\"/>\n",
       "<g style=\"fill:rgb(0%,0%,0%);fill-opacity:1;\">\n",
       "  <use xlink:href=\"#glyph-1636526391308279-0-1\" x=\"14.801\" y=\"3.86\"/>\n",
       "</g>\n",
       "<g style=\"fill:rgb(0%,0%,0%);fill-opacity:1;\">\n",
       "  <use xlink:href=\"#glyph-1636526391308279-1-1\" x=\"21.443\" y=\"6.323\"/>\n",
       "</g>\n",
       "<g style=\"fill:rgb(0%,0%,0%);fill-opacity:1;\">\n",
       "  <use xlink:href=\"#glyph-1636526391308279-2-1\" x=\"19.506\" y=\"15.428\"/>\n",
       "</g>\n",
       "<g style=\"fill:rgb(0%,0%,0%);fill-opacity:1;\">\n",
       "  <use xlink:href=\"#glyph-1636526391308279-3-1\" x=\"31.544\" y=\"11.885\"/>\n",
       "</g>\n",
       "<g style=\"fill:rgb(0%,0%,0%);fill-opacity:1;\">\n",
       "  <use xlink:href=\"#glyph-1636526391308279-4-1\" x=\"37.494\" y=\"11.885\"/>\n",
       "</g>\n",
       "<g style=\"fill:rgb(0%,0%,0%);fill-opacity:1;\">\n",
       "  <use xlink:href=\"#glyph-1636526391308279-3-2\" x=\"41.368\" y=\"11.885\"/>\n",
       "</g>\n",
       "<g style=\"fill:rgb(0%,0%,0%);fill-opacity:1;\">\n",
       "  <use xlink:href=\"#glyph-1636526391308279-4-2\" x=\"47.062\" y=\"11.885\"/>\n",
       "</g>\n",
       "<g style=\"fill:rgb(0%,0%,0%);fill-opacity:1;\">\n",
       "  <use xlink:href=\"#glyph-1636526391308279-3-3\" x=\"50.937\" y=\"11.885\"/>\n",
       "  <use xlink:href=\"#glyph-1636526391308279-3-2\" x=\"56.122554\" y=\"11.885\"/>\n",
       "</g>\n",
       "<g style=\"fill:rgb(0%,0%,0%);fill-opacity:1;\">\n",
       "  <use xlink:href=\"#glyph-1636526391308279-5-1\" x=\"3.321\" y=\"33.337\"/>\n",
       "</g>\n",
       "<path style=\"fill:none;stroke-width:0.398;stroke-linecap:butt;stroke-linejoin:miter;stroke:rgb(0%,0%,0%);stroke-opacity:1;stroke-miterlimit:10;\" d=\"M -0.00190625 0.00128125 L 4.982469 0.00128125 \" transform=\"matrix(1,0,0,-1,11.623,33.138)\"/>\n",
       "<g style=\"fill:rgb(0%,0%,0%);fill-opacity:1;\">\n",
       "  <use xlink:href=\"#glyph-1636526391308279-4-3\" x=\"11.623\" y=\"41.578\"/>\n",
       "</g>\n",
       "<g style=\"fill:rgb(0%,0%,0%);fill-opacity:1;\">\n",
       "  <use xlink:href=\"#glyph-1636526391308279-3-2\" x=\"4.881\" y=\"70.122\"/>\n",
       "</g>\n",
       "<g style=\"fill:rgb(0%,0%,0%);fill-opacity:1;\">\n",
       "  <use xlink:href=\"#glyph-1636526391308279-2-2\" x=\"10.575\" y=\"66.506\"/>\n",
       "</g>\n",
       "<g style=\"fill:rgb(0%,0%,0%);fill-opacity:1;\">\n",
       "  <use xlink:href=\"#glyph-1636526391308279-2-3\" x=\"36.323\" y=\"92.981\"/>\n",
       "</g>\n",
       "<path style=\"fill:none;stroke-width:0.398;stroke-linecap:butt;stroke-linejoin:miter;stroke:rgb(0%,0%,0%);stroke-opacity:1;stroke-miterlimit:10;\" d=\"M 0.00121875 -0.0010625 L 3.969969 -0.0010625 \" transform=\"matrix(1,0,0,-1,36.323,94.413)\"/>\n",
       "<g style=\"fill:rgb(0%,0%,0%);fill-opacity:1;\">\n",
       "  <use xlink:href=\"#glyph-1636526391308279-2-2\" x=\"36.323\" y=\"100.339\"/>\n",
       "</g>\n",
       "</g>\n",
       "</svg>\n",
       "\n"
      ],
      "text/plain": [
       "TikzPicture(\"\\\\graph [layered layout, ] {\\n1/\\\"\\$\\\\int_0^\\\\infty f(x) dx\\$\\\" [],\\n2/\\\"\\$\\\\sqrt{2}\\$\\\" [],\\n3/\\\"\\$x^2\\$\\\" [],\\n4/\\\"\\$\\\\frac{1}{2}\\$\\\" [],\\n;\\n1 -> [,] 2;\\n1 -> [,] 4;\\n2 -> [,] 3;\\n3 -> [,] 4;\\n};\\n\", \"\", \"\\\\usepackage{fontspec}\\n\\\\setmainfont{Latin Modern Math}\\n\\\\usetikzlibrary{arrows}\\n\\\\usetikzlibrary{graphs}\\n\\\\usetikzlibrary{graphdrawing}\\n\\n% from: https://tex.stackexchange.com/questions/453132/fresh-install-of-tl2018-no-tikz-graph-drawing-libraries-found\\n\\\\usepackage{luacode}\\n\\\\begin{luacode*}\\n\\tfunction pgf_lookup_and_require(name)\\n\\tlocal sep = package.config:sub(1,1)\\n\\tlocal function lookup(name)\\n\\tlocal sub = name:gsub('%.',sep)  \\n\\tif kpse.find_file(sub, 'lua') then\\n\\trequire(name)\\n\\telseif kpse.find_file(sub, 'clua') then\\n\\tcollectgarbage('stop') \\n\\trequire(name)\\n\\tcollectgarbage('restart')\\n\\telse\\n\\treturn false\\n\\tend\\n\\treturn true\\n\\tend\\n\\treturn\\n\\tlookup('pgf.gd.' .. name .. '.library') or\\n\\tlookup('pgf.gd.' .. name) or\\n\\tlookup(name .. '.library') or\\n\\tlookup(name) \\n\\tend\\n\\\\end{luacode*}\\n\\n\\\\usegdlibrary{layered}\", \"tikzpicture\", \"\", \"\", true, true)"
      ]
     },
     "execution_count": 7,
     "metadata": {},
     "output_type": "execute_result"
    }
   ],
   "source": [
    "using LaTeXStrings\n",
    "TikzGraphs.plot(g, [L\"\\int_0^\\infty f(x) dx\", L\"\\sqrt{2}\", L\"x^2\", L\"\\frac{1}{2}\"])"
   ]
  },
  {
   "cell_type": "markdown",
   "metadata": {},
   "source": [
    "You can have repeated labels."
   ]
  },
  {
   "cell_type": "code",
   "execution_count": 8,
   "metadata": {},
   "outputs": [
    {
     "data": {
      "image/svg+xml": [
       "<?xml version=\"1.0\" encoding=\"UTF-8\"?>\n",
       "<svg xmlns=\"http://www.w3.org/2000/svg\" xmlns:xlink=\"http://www.w3.org/1999/xlink\" width=\"41.1pt\" height=\"96.193pt\" viewBox=\"0 0 41.1 96.193\" version=\"1.1\">\n",
       "<defs>\n",
       "<g>\n",
       "<symbol overflow=\"visible\" id=\"glyph-1636526391308280-0-0\">\n",
       "<path style=\"stroke:none;\" d=\"\"/>\n",
       "</symbol>\n",
       "<symbol overflow=\"visible\" id=\"glyph-1636526391308280-0-1\">\n",
       "<path style=\"stroke:none;\" d=\"M 6.34375 -0.59375 C 6.328125 -0.671875 6.265625 -0.703125 6.203125 -0.703125 C 6.140625 -0.703125 6.109375 -0.671875 6.09375 -0.59375 C 6.046875 -0.109375 5.65625 -0.109375 5.65625 -0.109375 C 5.359375 -0.109375 5.15625 -0.890625 5.109375 -1.125 C 5.046875 -1.328125 5.046875 -1.359375 5.109375 -1.46875 C 5.765625 -2.65625 5.671875 -3.8125 5.671875 -3.8125 C 5.671875 -3.8125 5.640625 -3.921875 5.53125 -3.921875 C 5.4375 -3.921875 5.4375 -3.890625 5.4375 -3.703125 C 5.40625 -3.078125 5.28125 -2.328125 4.953125 -1.734375 L 4.796875 -2.359375 C 4.40625 -3.921875 3.359375 -4.40625 2.625 -4.40625 C 1.25 -4.40625 0.296875 -2.984375 0.640625 -1.578125 C 0.875 -0.640625 1.671875 0.109375 2.6875 0.109375 C 3.3125 0.109375 3.96875 -0.125 4.578125 -0.734375 C 4.828125 -0.203125 5.25 0.109375 5.6875 0.109375 C 6.21875 0.109375 6.390625 -0.4375 6.34375 -0.59375 Z M 4.46875 -0.984375 C 3.78125 -0.21875 3.046875 -0.109375 2.640625 -0.109375 C 2.046875 -0.109375 1.640625 -0.5625 1.46875 -1.203125 C 1.359375 -1.6875 1.34375 -2.765625 1.53125 -3.265625 C 1.828125 -4 2.3125 -4.1875 2.65625 -4.1875 C 3.65625 -4.1875 3.984375 -2.875 4.171875 -2.109375 C 4.265625 -1.734375 4.40625 -1.15625 4.46875 -0.984375 Z M 4.46875 -0.984375 \"/>\n",
       "</symbol>\n",
       "<symbol overflow=\"visible\" id=\"glyph-1636526391308280-0-2\">\n",
       "<path style=\"stroke:none;\" d=\"M 4.84375 -1.859375 C 4.828125 -2.078125 4.8125 -2.296875 4.765625 -2.5 C 4.671875 -2.890625 4.46875 -3.265625 4.203125 -3.5625 C 4.03125 -3.734375 3.859375 -3.890625 3.65625 -4 C 3.734375 -4.0625 3.828125 -4.109375 3.90625 -4.203125 C 4.234375 -4.5 4.421875 -4.90625 4.421875 -5.359375 C 4.421875 -5.484375 4.421875 -5.609375 4.390625 -5.71875 C 4.3125 -6.03125 4.125 -6.3125 3.890625 -6.546875 C 3.53125 -6.859375 3.078125 -7.03125 2.609375 -7.03125 C 1.421875 -7.03125 0.84375 -5.671875 0.84375 -4.3125 L 0.84375 1.8125 C 0.859375 1.890625 0.90625 1.9375 0.96875 1.9375 L 1.015625 1.9375 C 1.0625 1.9375 1.109375 1.90625 1.109375 1.859375 L 1.09375 -0.875 C 1.421875 -0.296875 1.96875 0.109375 2.65625 0.109375 C 3.21875 0.109375 3.78125 -0.078125 4.203125 -0.453125 C 4.59375 -0.8125 4.828125 -1.328125 4.84375 -1.859375 Z M 4.171875 -1.90625 C 4.171875 -1.453125 4.0625 -0.984375 3.765625 -0.625 C 3.46875 -0.296875 3.046875 -0.109375 2.609375 -0.109375 C 1.890625 -0.109375 1.34375 -0.65625 1.171875 -1.359375 C 1.125 -1.53125 1.109375 -1.6875 1.109375 -1.859375 L 1.09375 -4.265625 C 1.109375 -5.515625 1.5625 -6.8125 2.65625 -6.8125 C 2.984375 -6.8125 3.3125 -6.671875 3.53125 -6.40625 C 3.65625 -6.265625 3.734375 -6.09375 3.78125 -5.90625 C 3.8125 -5.734375 3.84375 -5.578125 3.84375 -5.40625 C 3.84375 -5.03125 3.765625 -4.640625 3.515625 -4.359375 C 3.453125 -4.28125 3.375 -4.21875 3.3125 -4.171875 C 3.09375 -4.25 2.84375 -4.296875 2.609375 -4.296875 C 2.25 -4.296875 1.828125 -4.296875 1.828125 -4.03125 L 1.828125 -3.953125 C 1.890625 -3.71875 2.296875 -3.71875 2.65625 -3.71875 C 2.90625 -3.71875 3.140625 -3.765625 3.375 -3.84375 C 3.515625 -3.75 3.65625 -3.625 3.765625 -3.453125 C 3.921875 -3.25 4 -3.015625 4.078125 -2.765625 C 4.140625 -2.5 4.171875 -2.1875 4.171875 -1.90625 Z M 3.015625 -4.015625 C 2.890625 -3.96875 2.734375 -3.9375 2.609375 -3.9375 C 2.375 -3.9375 2.078125 -3.9375 2.078125 -3.984375 C 2.078125 -4.0625 2.40625 -4.0625 2.65625 -4.0625 C 2.78125 -4.0625 2.90625 -4.046875 3.015625 -4.015625 Z M 3.015625 -4.015625 \"/>\n",
       "</symbol>\n",
       "<symbol overflow=\"visible\" id=\"glyph-1636526391308280-0-3\">\n",
       "<path style=\"stroke:none;\" d=\"M 5.140625 -4.203125 C 5.109375 -4.296875 4.984375 -4.296875 4.984375 -4.296875 C 4.953125 -4.296875 4.890625 -4.296875 4.890625 -4.234375 C 4.609375 -3.28125 4.453125 -2.28125 4.3125 -1.28125 C 4.21875 -1.578125 4.015625 -2.34375 3.390625 -3.3125 C 3 -3.921875 2.484375 -4.40625 1.796875 -4.40625 C 0.546875 -4.40625 0.234375 -2.890625 0.296875 -2.578125 C 0.328125 -2.484375 0.421875 -2.484375 0.515625 -2.484375 L 0.546875 -2.53125 C 0.640625 -3.671875 1.734375 -3.6875 1.84375 -3.6875 C 3.34375 -3.6875 3.890625 -1.9375 4.09375 -1.15625 C 4.234375 -0.546875 4.234375 -0.375 4.21875 -0.171875 C 4.171875 0.546875 4.171875 1.703125 4.234375 1.96875 C 4.25 2.078125 4.328125 2.140625 4.40625 2.140625 C 4.53125 2.140625 4.5625 1.921875 4.578125 1.546875 C 4.59375 0.703125 4.546875 0.140625 4.515625 -0.171875 C 4.5 -0.296875 4.484375 -0.421875 4.5 -0.5625 C 4.5625 -1.546875 4.828125 -3.03125 5.03125 -3.8125 C 5.078125 -3.9375 5.140625 -4.15625 5.140625 -4.203125 Z M 5.140625 -4.203125 \"/>\n",
       "</symbol>\n",
       "</g>\n",
       "</defs>\n",
       "<g id=\"surface1\">\n",
       "<path style=\"fill:none;stroke-width:0.3985;stroke-linecap:butt;stroke-linejoin:miter;stroke:rgb(0%,0%,0%);stroke-opacity:1;stroke-miterlimit:10;\" d=\"M -5.777406 -5.774563 L -21.722719 -21.723781 \" transform=\"matrix(1,0,0,-1,34.586,5.577)\"/>\n",
       "<path style=\"fill:none;stroke-width:0.31879;stroke-linecap:round;stroke-linejoin:round;stroke:rgb(0%,0%,0%);stroke-opacity:1;stroke-miterlimit:10;\" d=\"M -1.196129 1.594519 C -1.096692 0.997892 -0.000113138 0.100189 0.2982 0.000751308 C -0.000113138 -0.0986865 -1.096692 -0.996389 -1.196129 -1.593016 \" transform=\"matrix(-0.7071,0.7071,0.7071,0.7071,12.86267,27.30033)\"/>\n",
       "<path style=\"fill:none;stroke-width:0.3985;stroke-linecap:butt;stroke-linejoin:miter;stroke:rgb(0%,0%,0%);stroke-opacity:1;stroke-miterlimit:10;\" d=\"M -0.0000625 -5.774563 L -0.0000625 -78.805813 \" transform=\"matrix(1,0,0,-1,34.586,5.577)\"/>\n",
       "<path style=\"fill:none;stroke-width:0.31879;stroke-linecap:round;stroke-linejoin:round;stroke:rgb(0%,0%,0%);stroke-opacity:1;stroke-miterlimit:10;\" d=\"M -1.19526 1.593688 C -1.097604 0.996031 0.0000525 0.1015 0.296928 -0.0000625 C 0.0000525 -0.0977187 -1.097604 -0.996156 -1.19526 -1.593812 \" transform=\"matrix(0,1,1,0,34.586,84.38276)\"/>\n",
       "<path style=\"fill:none;stroke-width:0.3985;stroke-linecap:butt;stroke-linejoin:miter;stroke:rgb(0%,0%,0%);stroke-opacity:1;stroke-miterlimit:10;\" d=\"M -28.347719 -36.348781 L -28.347719 -49.442531 \" transform=\"matrix(1,0,0,-1,34.586,5.577)\"/>\n",
       "<path style=\"fill:none;stroke-width:0.31879;stroke-linecap:round;stroke-linejoin:round;stroke:rgb(0%,0%,0%);stroke-opacity:1;stroke-miterlimit:10;\" d=\"M -1.195531 1.592831 C -1.093969 0.995175 -0.00021875 0.100644 0.300562 -0.00091875 C -0.00021875 -0.098575 -1.093969 -0.997012 -1.195531 -1.594669 \" transform=\"matrix(0,1,1,0,6.2392,55.01975)\"/>\n",
       "<path style=\"fill:none;stroke-width:0.3985;stroke-linecap:butt;stroke-linejoin:miter;stroke:rgb(0%,0%,0%);stroke-opacity:1;stroke-miterlimit:10;\" d=\"M -21.906312 -63.133938 L -6.101625 -78.938625 \" transform=\"matrix(1,0,0,-1,34.586,5.577)\"/>\n",
       "<path style=\"fill:none;stroke-width:0.31879;stroke-linecap:round;stroke-linejoin:round;stroke:rgb(0%,0%,0%);stroke-opacity:1;stroke-miterlimit:10;\" d=\"M -1.197834 1.593881 C -1.095634 0.994492 -0.00181728 0.099551 0.296496 0.000113138 C -0.00181728 -0.0993247 -1.095634 -0.994265 -1.197834 -1.593655 \" transform=\"matrix(0.7071,0.7071,0.7071,-0.7071,28.48558,84.51699)\"/>\n",
       "<g style=\"fill:rgb(0%,0%,0%);fill-opacity:1;\">\n",
       "  <use xlink:href=\"#glyph-1636526391308280-0-1\" x=\"31.393\" y=\"7.724\"/>\n",
       "</g>\n",
       "<g style=\"fill:rgb(0%,0%,0%);fill-opacity:1;\">\n",
       "  <use xlink:href=\"#glyph-1636526391308280-0-2\" x=\"3.46\" y=\"36.473\"/>\n",
       "</g>\n",
       "<g style=\"fill:rgb(0%,0%,0%);fill-opacity:1;\">\n",
       "  <use xlink:href=\"#glyph-1636526391308280-0-3\" x=\"3.321\" y=\"63.4\"/>\n",
       "</g>\n",
       "<g style=\"fill:rgb(0%,0%,0%);fill-opacity:1;\">\n",
       "  <use xlink:href=\"#glyph-1636526391308280-0-1\" x=\"31.393\" y=\"92.763\"/>\n",
       "</g>\n",
       "</g>\n",
       "</svg>\n",
       "\n"
      ],
      "text/plain": [
       "TikzPicture(\"\\\\graph [layered layout, ] {\\n1/\\\"α\\\" [],\\n2/\\\"β\\\" [],\\n3/\\\"γ\\\" [],\\n4/\\\"α\\\" [],\\n;\\n1 -> [,] 2;\\n1 -> [,] 4;\\n2 -> [,] 3;\\n3 -> [,] 4;\\n};\\n\", \"\", \"\\\\usepackage{fontspec}\\n\\\\setmainfont{Latin Modern Math}\\n\\\\usetikzlibrary{arrows}\\n\\\\usetikzlibrary{graphs}\\n\\\\usetikzlibrary{graphdrawing}\\n\\n% from: https://tex.stackexchange.com/questions/453132/fresh-install-of-tl2018-no-tikz-graph-drawing-libraries-found\\n\\\\usepackage{luacode}\\n\\\\begin{luacode*}\\n\\tfunction pgf_lookup_and_require(name)\\n\\tlocal sep = package.config:sub(1,1)\\n\\tlocal function lookup(name)\\n\\tlocal sub = name:gsub('%.',sep)  \\n\\tif kpse.find_file(sub, 'lua') then\\n\\trequire(name)\\n\\telseif kpse.find_file(sub, 'clua') then\\n\\tcollectgarbage('stop') \\n\\trequire(name)\\n\\tcollectgarbage('restart')\\n\\telse\\n\\treturn false\\n\\tend\\n\\treturn true\\n\\tend\\n\\treturn\\n\\tlookup('pgf.gd.' .. name .. '.library') or\\n\\tlookup('pgf.gd.' .. name) or\\n\\tlookup(name .. '.library') or\\n\\tlookup(name) \\n\\tend\\n\\\\end{luacode*}\\n\\n\\\\usegdlibrary{layered}\", \"tikzpicture\", \"\", \"\", true, true)"
      ]
     },
     "execution_count": 8,
     "metadata": {},
     "output_type": "execute_result"
    }
   ],
   "source": [
    "TikzGraphs.plot(g, [\"α\", \"β\", \"γ\", \"α\"])"
   ]
  },
  {
   "cell_type": "markdown",
   "metadata": {},
   "source": [
    "You can specify the style for the nodes."
   ]
  },
  {
   "cell_type": "code",
   "execution_count": 9,
   "metadata": {},
   "outputs": [
    {
     "data": {
      "image/svg+xml": [
       "<?xml version=\"1.0\" encoding=\"UTF-8\"?>\n",
       "<svg xmlns=\"http://www.w3.org/2000/svg\" xmlns:xlink=\"http://www.w3.org/1999/xlink\" width=\"41.498pt\" height=\"96.592pt\" viewBox=\"0 0 41.498 96.592\" version=\"1.1\">\n",
       "<defs>\n",
       "<g>\n",
       "<symbol overflow=\"visible\" id=\"glyph-1636526391308281-0-0\">\n",
       "<path style=\"stroke:none;\" d=\"\"/>\n",
       "</symbol>\n",
       "<symbol overflow=\"visible\" id=\"glyph-1636526391308281-0-1\">\n",
       "<path style=\"stroke:none;\" d=\"M 6.34375 -0.59375 C 6.328125 -0.671875 6.265625 -0.703125 6.203125 -0.703125 C 6.140625 -0.703125 6.109375 -0.671875 6.09375 -0.59375 C 6.046875 -0.109375 5.65625 -0.109375 5.65625 -0.109375 C 5.359375 -0.109375 5.15625 -0.890625 5.109375 -1.125 C 5.046875 -1.328125 5.046875 -1.359375 5.109375 -1.46875 C 5.765625 -2.65625 5.671875 -3.8125 5.671875 -3.8125 C 5.671875 -3.8125 5.640625 -3.921875 5.53125 -3.921875 C 5.4375 -3.921875 5.4375 -3.890625 5.4375 -3.703125 C 5.40625 -3.078125 5.28125 -2.328125 4.953125 -1.734375 L 4.796875 -2.359375 C 4.40625 -3.921875 3.359375 -4.40625 2.625 -4.40625 C 1.25 -4.40625 0.296875 -2.984375 0.640625 -1.578125 C 0.875 -0.640625 1.671875 0.109375 2.6875 0.109375 C 3.3125 0.109375 3.96875 -0.125 4.578125 -0.734375 C 4.828125 -0.203125 5.25 0.109375 5.6875 0.109375 C 6.21875 0.109375 6.390625 -0.4375 6.34375 -0.59375 Z M 4.46875 -0.984375 C 3.78125 -0.21875 3.046875 -0.109375 2.640625 -0.109375 C 2.046875 -0.109375 1.640625 -0.5625 1.46875 -1.203125 C 1.359375 -1.6875 1.34375 -2.765625 1.53125 -3.265625 C 1.828125 -4 2.3125 -4.1875 2.65625 -4.1875 C 3.65625 -4.1875 3.984375 -2.875 4.171875 -2.109375 C 4.265625 -1.734375 4.40625 -1.15625 4.46875 -0.984375 Z M 4.46875 -0.984375 \"/>\n",
       "</symbol>\n",
       "<symbol overflow=\"visible\" id=\"glyph-1636526391308281-0-2\">\n",
       "<path style=\"stroke:none;\" d=\"M 4.84375 -1.859375 C 4.828125 -2.078125 4.8125 -2.296875 4.765625 -2.5 C 4.671875 -2.890625 4.46875 -3.265625 4.203125 -3.5625 C 4.03125 -3.734375 3.859375 -3.890625 3.65625 -4 C 3.734375 -4.0625 3.828125 -4.109375 3.90625 -4.203125 C 4.234375 -4.5 4.421875 -4.90625 4.421875 -5.359375 C 4.421875 -5.484375 4.421875 -5.609375 4.390625 -5.71875 C 4.3125 -6.03125 4.125 -6.3125 3.890625 -6.546875 C 3.53125 -6.859375 3.078125 -7.03125 2.609375 -7.03125 C 1.421875 -7.03125 0.84375 -5.671875 0.84375 -4.3125 L 0.84375 1.8125 C 0.859375 1.890625 0.90625 1.9375 0.96875 1.9375 L 1.015625 1.9375 C 1.0625 1.9375 1.109375 1.90625 1.109375 1.859375 L 1.09375 -0.875 C 1.421875 -0.296875 1.96875 0.109375 2.65625 0.109375 C 3.21875 0.109375 3.78125 -0.078125 4.203125 -0.453125 C 4.59375 -0.8125 4.828125 -1.328125 4.84375 -1.859375 Z M 4.171875 -1.90625 C 4.171875 -1.453125 4.0625 -0.984375 3.765625 -0.625 C 3.46875 -0.296875 3.046875 -0.109375 2.609375 -0.109375 C 1.890625 -0.109375 1.34375 -0.65625 1.171875 -1.359375 C 1.125 -1.53125 1.109375 -1.6875 1.109375 -1.859375 L 1.09375 -4.265625 C 1.109375 -5.515625 1.5625 -6.8125 2.65625 -6.8125 C 2.984375 -6.8125 3.3125 -6.671875 3.53125 -6.40625 C 3.65625 -6.265625 3.734375 -6.09375 3.78125 -5.90625 C 3.8125 -5.734375 3.84375 -5.578125 3.84375 -5.40625 C 3.84375 -5.03125 3.765625 -4.640625 3.515625 -4.359375 C 3.453125 -4.28125 3.375 -4.21875 3.3125 -4.171875 C 3.09375 -4.25 2.84375 -4.296875 2.609375 -4.296875 C 2.25 -4.296875 1.828125 -4.296875 1.828125 -4.03125 L 1.828125 -3.953125 C 1.890625 -3.71875 2.296875 -3.71875 2.65625 -3.71875 C 2.90625 -3.71875 3.140625 -3.765625 3.375 -3.84375 C 3.515625 -3.75 3.65625 -3.625 3.765625 -3.453125 C 3.921875 -3.25 4 -3.015625 4.078125 -2.765625 C 4.140625 -2.5 4.171875 -2.1875 4.171875 -1.90625 Z M 3.015625 -4.015625 C 2.890625 -3.96875 2.734375 -3.9375 2.609375 -3.9375 C 2.375 -3.9375 2.078125 -3.9375 2.078125 -3.984375 C 2.078125 -4.0625 2.40625 -4.0625 2.65625 -4.0625 C 2.78125 -4.0625 2.90625 -4.046875 3.015625 -4.015625 Z M 3.015625 -4.015625 \"/>\n",
       "</symbol>\n",
       "<symbol overflow=\"visible\" id=\"glyph-1636526391308281-0-3\">\n",
       "<path style=\"stroke:none;\" d=\"M 5.140625 -4.203125 C 5.109375 -4.296875 4.984375 -4.296875 4.984375 -4.296875 C 4.953125 -4.296875 4.890625 -4.296875 4.890625 -4.234375 C 4.609375 -3.28125 4.453125 -2.28125 4.3125 -1.28125 C 4.21875 -1.578125 4.015625 -2.34375 3.390625 -3.3125 C 3 -3.921875 2.484375 -4.40625 1.796875 -4.40625 C 0.546875 -4.40625 0.234375 -2.890625 0.296875 -2.578125 C 0.328125 -2.484375 0.421875 -2.484375 0.515625 -2.484375 L 0.546875 -2.53125 C 0.640625 -3.671875 1.734375 -3.6875 1.84375 -3.6875 C 3.34375 -3.6875 3.890625 -1.9375 4.09375 -1.15625 C 4.234375 -0.546875 4.234375 -0.375 4.21875 -0.171875 C 4.171875 0.546875 4.171875 1.703125 4.234375 1.96875 C 4.25 2.078125 4.328125 2.140625 4.40625 2.140625 C 4.53125 2.140625 4.5625 1.921875 4.578125 1.546875 C 4.59375 0.703125 4.546875 0.140625 4.515625 -0.171875 C 4.5 -0.296875 4.484375 -0.421875 4.5 -0.5625 C 4.5625 -1.546875 4.828125 -3.03125 5.03125 -3.8125 C 5.078125 -3.9375 5.140625 -4.15625 5.140625 -4.203125 Z M 5.140625 -4.203125 \"/>\n",
       "</symbol>\n",
       "</g>\n",
       "<clipPath id=\"clip-1636526391308281-1\">\n",
       "  <path d=\"M 28 0 L 41.496094 0 L 41.496094 12 L 28 12 Z M 28 0 \"/>\n",
       "</clipPath>\n",
       "<clipPath id=\"clip-1636526391308281-2\">\n",
       "  <path d=\"M 22 0 L 41.496094 0 L 41.496094 17 L 22 17 Z M 22 0 \"/>\n",
       "</clipPath>\n",
       "<clipPath id=\"clip-1636526391308281-3\">\n",
       "  <path d=\"M 28 85 L 41.496094 85 L 41.496094 96.59375 L 28 96.59375 Z M 28 85 \"/>\n",
       "</clipPath>\n",
       "<clipPath id=\"clip-1636526391308281-4\">\n",
       "  <path d=\"M 22 79 L 41.496094 79 L 41.496094 96.59375 L 22 96.59375 Z M 22 79 \"/>\n",
       "</clipPath>\n",
       "</defs>\n",
       "<g id=\"surface1\">\n",
       "<path style=\"fill:none;stroke-width:0.3985;stroke-linecap:butt;stroke-linejoin:miter;stroke:rgb(0%,0%,0%);stroke-opacity:1;stroke-miterlimit:10;\" d=\"M -4.980313 -4.981813 L -22.2225 -22.220094 \" transform=\"matrix(1,0,0,-1,34.785,5.776)\"/>\n",
       "<path style=\"fill:none;stroke-width:0.31879;stroke-linecap:round;stroke-linejoin:round;stroke:rgb(0%,0%,0%);stroke-opacity:1;stroke-miterlimit:10;\" d=\"M -1.193923 1.594828 C -1.097248 0.995439 -0.000669106 0.0977364 0.300407 0.00106067 C -0.000669106 -0.101139 -1.094485 -0.99608 -1.196685 -1.595469 \" transform=\"matrix(-0.7071,0.7071,0.7071,0.7071,12.56323,27.99777)\"/>\n",
       "<path style=\"fill:none;stroke-width:0.3985;stroke-linecap:butt;stroke-linejoin:miter;stroke:rgb(0%,0%,0%);stroke-opacity:1;stroke-miterlimit:10;\" d=\"M 0.00015625 -5.774781 L 0.00015625 -78.806031 \" transform=\"matrix(1,0,0,-1,34.785,5.776)\"/>\n",
       "<path style=\"fill:none;stroke-width:0.31879;stroke-linecap:round;stroke-linejoin:round;stroke:rgb(0%,0%,0%);stroke-opacity:1;stroke-miterlimit:10;\" d=\"M -1.195021 1.593906 C -1.097365 0.99625 0.00029125 0.0978125 0.297166 0.00015625 C 0.00029125 -0.101406 -1.097365 -0.995938 -1.195021 -1.593594 \" transform=\"matrix(0,1,1,0,34.785,84.58174)\"/>\n",
       "<path style=\"fill:none;stroke-width:0.3985;stroke-linecap:butt;stroke-linejoin:miter;stroke:rgb(0%,0%,0%);stroke-opacity:1;stroke-miterlimit:10;\" d=\"M -28.3475 -36.349 L -28.3475 -49.44275 \" transform=\"matrix(1,0,0,-1,34.785,5.776)\"/>\n",
       "<path style=\"fill:none;stroke-width:0.31879;stroke-linecap:round;stroke-linejoin:round;stroke:rgb(0%,0%,0%);stroke-opacity:1;stroke-miterlimit:10;\" d=\"M -1.195293 1.59305 C -1.097636 0.995394 0.00002 0.100862 0.300801 -0.0007 C 0.00002 -0.0983563 -1.097636 -0.996794 -1.195293 -1.59445 \" transform=\"matrix(0,1,1,0,6.4382,55.21873)\"/>\n",
       "<path style=\"fill:none;stroke-width:0.3985;stroke-linecap:butt;stroke-linejoin:miter;stroke:rgb(0%,0%,0%);stroke-opacity:1;stroke-miterlimit:10;\" d=\"M -22.960781 -62.079469 L -5.304531 -79.735719 \" transform=\"matrix(1,0,0,-1,34.785,5.776)\"/>\n",
       "<path style=\"fill:none;stroke-width:0.31879;stroke-linecap:round;stroke-linejoin:round;stroke:rgb(0%,0%,0%);stroke-opacity:1;stroke-miterlimit:10;\" d=\"M -1.193982 1.593881 C -1.094544 0.997254 0.00203472 0.099551 0.300348 0.000113138 C 0.00203472 -0.0993247 -1.094544 -0.997027 -1.193982 -1.593655 \" transform=\"matrix(0.7071,0.7071,0.7071,-0.7071,29.47895,85.51036)\"/>\n",
       "<g clip-path=\"url(#clip-1636526391308281-1)\" clip-rule=\"nonzero\">\n",
       "<path style=\" stroke:none;fill-rule:nonzero;fill:rgb(89.99939%,89.99939%,100%);fill-opacity:1;\" d=\"M 37.3125 0.199219 L 32.257812 0.199219 C 30.054688 0.199219 28.269531 1.984375 28.269531 4.183594 L 28.269531 7.367188 C 28.269531 9.570312 30.054688 11.351562 32.257812 11.351562 L 37.3125 11.351562 C 39.515625 11.351562 41.296875 9.570312 41.296875 7.367188 L 41.296875 4.183594 C 41.296875 1.984375 39.515625 0.199219 37.3125 0.199219 Z M 37.3125 0.199219 \"/>\n",
       "</g>\n",
       "<g clip-path=\"url(#clip-1636526391308281-2)\" clip-rule=\"nonzero\">\n",
       "<path style=\"fill:none;stroke-width:0.3985;stroke-linecap:butt;stroke-linejoin:miter;stroke:rgb(0%,0%,0%);stroke-opacity:1;stroke-miterlimit:10;\" d=\"M 2.5275 5.576781 L -2.527188 5.576781 C -4.730313 5.576781 -6.515469 3.791625 -6.515469 1.592406 L -6.515469 -1.591188 C -6.515469 -3.794313 -4.730313 -5.575563 -2.527188 -5.575563 L 2.5275 -5.575563 C 4.730625 -5.575563 6.511875 -3.794313 6.511875 -1.591188 L 6.511875 1.592406 C 6.511875 3.791625 4.730625 5.576781 2.5275 5.576781 Z M 2.5275 5.576781 \" transform=\"matrix(1,0,0,-1,34.785,5.776)\"/>\n",
       "</g>\n",
       "<g style=\"fill:rgb(0%,0%,0%);fill-opacity:1;\">\n",
       "  <use xlink:href=\"#glyph-1636526391308281-0-1\" x=\"31.592\" y=\"7.923\"/>\n",
       "</g>\n",
       "<path style=\"fill-rule:nonzero;fill:rgb(89.99939%,89.99939%,100%);fill-opacity:1;stroke-width:0.3985;stroke-linecap:butt;stroke-linejoin:miter;stroke:rgb(0%,0%,0%);stroke-opacity:1;stroke-miterlimit:10;\" d=\"M 2.115687 7.802687 L -2.114781 7.802687 C -4.317906 7.802687 -6.099156 6.021437 -6.099156 3.818312 L -6.099156 -3.818406 C -6.099156 -6.021531 -4.317906 -7.802781 -2.114781 -7.802781 L 2.115687 -7.802781 C 4.314906 -7.802781 6.100062 -6.021531 6.100062 -3.818406 L 6.100062 3.818312 C 6.100062 6.021437 4.314906 7.802687 2.115687 7.802687 Z M 2.115687 7.802687 \" transform=\"matrix(1,0,0,-1,6.439,34.123)\"/>\n",
       "<g style=\"fill:rgb(0%,0%,0%);fill-opacity:1;\">\n",
       "  <use xlink:href=\"#glyph-1636526391308281-0-2\" x=\"3.659\" y=\"36.673\"/>\n",
       "</g>\n",
       "<path style=\"fill-rule:nonzero;fill:rgb(89.99939%,89.99939%,100%);fill-opacity:1;stroke-width:0.3985;stroke-linecap:butt;stroke-linejoin:miter;stroke:rgb(0%,0%,0%);stroke-opacity:1;stroke-miterlimit:10;\" d=\"M 2.256312 6.594 L -2.255406 6.594 C -4.454625 6.594 -6.239781 4.808844 -6.239781 2.609625 L -6.239781 -2.609125 C -6.239781 -4.808344 -4.454625 -6.5935 -2.255406 -6.5935 L 2.256312 -6.5935 C 4.455531 -6.5935 6.240687 -4.808344 6.240687 -2.609125 L 6.240687 2.609625 C 6.240687 4.808844 4.455531 6.594 2.256312 6.594 Z M 2.256312 6.594 \" transform=\"matrix(1,0,0,-1,6.439,62.469)\"/>\n",
       "<g style=\"fill:rgb(0%,0%,0%);fill-opacity:1;\">\n",
       "  <use xlink:href=\"#glyph-1636526391308281-0-3\" x=\"3.52\" y=\"63.6\"/>\n",
       "</g>\n",
       "<g clip-path=\"url(#clip-1636526391308281-3)\" clip-rule=\"nonzero\">\n",
       "<path style=\" stroke:none;fill-rule:nonzero;fill:rgb(89.99939%,89.99939%,100%);fill-opacity:1;\" d=\"M 37.3125 85.238281 L 32.257812 85.238281 C 30.054688 85.238281 28.269531 87.023438 28.269531 89.222656 L 28.269531 92.40625 C 28.269531 94.609375 30.054688 96.394531 32.257812 96.394531 L 37.3125 96.394531 C 39.515625 96.394531 41.296875 94.609375 41.296875 92.40625 L 41.296875 89.222656 C 41.296875 87.023438 39.515625 85.238281 37.3125 85.238281 Z M 37.3125 85.238281 \"/>\n",
       "</g>\n",
       "<g clip-path=\"url(#clip-1636526391308281-4)\" clip-rule=\"nonzero\">\n",
       "<path style=\"fill:none;stroke-width:0.3985;stroke-linecap:butt;stroke-linejoin:miter;stroke:rgb(0%,0%,0%);stroke-opacity:1;stroke-miterlimit:10;\" d=\"M 2.5275 5.577719 L -2.527188 5.577719 C -4.730313 5.577719 -6.515469 3.792563 -6.515469 1.593344 L -6.515469 -1.59025 C -6.515469 -3.793375 -4.730313 -5.578531 -2.527188 -5.578531 L 2.5275 -5.578531 C 4.730625 -5.578531 6.511875 -3.793375 6.511875 -1.59025 L 6.511875 1.593344 C 6.511875 3.792563 4.730625 5.577719 2.5275 5.577719 Z M 2.5275 5.577719 \" transform=\"matrix(1,0,0,-1,34.785,90.816)\"/>\n",
       "</g>\n",
       "<g style=\"fill:rgb(0%,0%,0%);fill-opacity:1;\">\n",
       "  <use xlink:href=\"#glyph-1636526391308281-0-1\" x=\"31.592\" y=\"92.963\"/>\n",
       "</g>\n",
       "</g>\n",
       "</svg>\n",
       "\n"
      ],
      "text/plain": [
       "TikzPicture(\"\\\\graph [layered layout, ] {\\n1/\\\"α\\\" [draw, rounded corners, fill=blue!10],\\n2/\\\"β\\\" [draw, rounded corners, fill=blue!10],\\n3/\\\"γ\\\" [draw, rounded corners, fill=blue!10],\\n4/\\\"α\\\" [draw, rounded corners, fill=blue!10],\\n;\\n1 -> [,] 2;\\n1 -> [,] 4;\\n2 -> [,] 3;\\n3 -> [,] 4;\\n};\\n\", \"\", \"\\\\usepackage{fontspec}\\n\\\\setmainfont{Latin Modern Math}\\n\\\\usetikzlibrary{arrows}\\n\\\\usetikzlibrary{graphs}\\n\\\\usetikzlibrary{graphdrawing}\\n\\n% from: https://tex.stackexchange.com/questions/453132/fresh-install-of-tl2018-no-tikz-graph-drawing-libraries-found\\n\\\\usepackage{luacode}\\n\\\\begin{luacode*}\\n\\tfunction pgf_lookup_and_require(name)\\n\\tlocal sep = package.config:sub(1,1)\\n\\tlocal function lookup(name)\\n\\tlocal sub = name:gsub('%.',sep)  \\n\\tif kpse.find_file(sub, 'lua') then\\n\\trequire(name)\\n\\telseif kpse.find_file(sub, 'clua') then\\n\\tcollectgarbage('stop') \\n\\trequire(name)\\n\\tcollectgarbage('restart')\\n\\telse\\n\\treturn false\\n\\tend\\n\\treturn true\\n\\tend\\n\\treturn\\n\\tlookup('pgf.gd.' .. name .. '.library') or\\n\\tlookup('pgf.gd.' .. name) or\\n\\tlookup(name .. '.library') or\\n\\tlookup(name) \\n\\tend\\n\\\\end{luacode*}\\n\\n\\\\usegdlibrary{layered}\", \"tikzpicture\", \"\", \"\", true, true)"
      ]
     },
     "execution_count": 9,
     "metadata": {},
     "output_type": "execute_result"
    }
   ],
   "source": [
    "TikzGraphs.plot(g, [\"α\", \"β\", \"γ\", \"α\"], node_style=\"draw, rounded corners, fill=blue!10\")"
   ]
  },
  {
   "cell_type": "markdown",
   "metadata": {},
   "source": [
    "You can override the styles of selected nodes using a dictionary."
   ]
  },
  {
   "cell_type": "code",
   "execution_count": 10,
   "metadata": {},
   "outputs": [
    {
     "data": {
      "image/svg+xml": [
       "<?xml version=\"1.0\" encoding=\"UTF-8\"?>\n",
       "<svg xmlns=\"http://www.w3.org/2000/svg\" xmlns:xlink=\"http://www.w3.org/1999/xlink\" width=\"41.498pt\" height=\"96.592pt\" viewBox=\"0 0 41.498 96.592\" version=\"1.1\">\n",
       "<defs>\n",
       "<g>\n",
       "<symbol overflow=\"visible\" id=\"glyph-1636526391308282-0-0\">\n",
       "<path style=\"stroke:none;\" d=\"\"/>\n",
       "</symbol>\n",
       "<symbol overflow=\"visible\" id=\"glyph-1636526391308282-0-1\">\n",
       "<path style=\"stroke:none;\" d=\"M 6.34375 -0.59375 C 6.328125 -0.671875 6.265625 -0.703125 6.203125 -0.703125 C 6.140625 -0.703125 6.109375 -0.671875 6.09375 -0.59375 C 6.046875 -0.109375 5.65625 -0.109375 5.65625 -0.109375 C 5.359375 -0.109375 5.15625 -0.890625 5.109375 -1.125 C 5.046875 -1.328125 5.046875 -1.359375 5.109375 -1.46875 C 5.765625 -2.65625 5.671875 -3.8125 5.671875 -3.8125 C 5.671875 -3.8125 5.640625 -3.921875 5.53125 -3.921875 C 5.4375 -3.921875 5.4375 -3.890625 5.4375 -3.703125 C 5.40625 -3.078125 5.28125 -2.328125 4.953125 -1.734375 L 4.796875 -2.359375 C 4.40625 -3.921875 3.359375 -4.40625 2.625 -4.40625 C 1.25 -4.40625 0.296875 -2.984375 0.640625 -1.578125 C 0.875 -0.640625 1.671875 0.109375 2.6875 0.109375 C 3.3125 0.109375 3.96875 -0.125 4.578125 -0.734375 C 4.828125 -0.203125 5.25 0.109375 5.6875 0.109375 C 6.21875 0.109375 6.390625 -0.4375 6.34375 -0.59375 Z M 4.46875 -0.984375 C 3.78125 -0.21875 3.046875 -0.109375 2.640625 -0.109375 C 2.046875 -0.109375 1.640625 -0.5625 1.46875 -1.203125 C 1.359375 -1.6875 1.34375 -2.765625 1.53125 -3.265625 C 1.828125 -4 2.3125 -4.1875 2.65625 -4.1875 C 3.65625 -4.1875 3.984375 -2.875 4.171875 -2.109375 C 4.265625 -1.734375 4.40625 -1.15625 4.46875 -0.984375 Z M 4.46875 -0.984375 \"/>\n",
       "</symbol>\n",
       "<symbol overflow=\"visible\" id=\"glyph-1636526391308282-0-2\">\n",
       "<path style=\"stroke:none;\" d=\"M 4.84375 -1.859375 C 4.828125 -2.078125 4.8125 -2.296875 4.765625 -2.5 C 4.671875 -2.890625 4.46875 -3.265625 4.203125 -3.5625 C 4.03125 -3.734375 3.859375 -3.890625 3.65625 -4 C 3.734375 -4.0625 3.828125 -4.109375 3.90625 -4.203125 C 4.234375 -4.5 4.421875 -4.90625 4.421875 -5.359375 C 4.421875 -5.484375 4.421875 -5.609375 4.390625 -5.71875 C 4.3125 -6.03125 4.125 -6.3125 3.890625 -6.546875 C 3.53125 -6.859375 3.078125 -7.03125 2.609375 -7.03125 C 1.421875 -7.03125 0.84375 -5.671875 0.84375 -4.3125 L 0.84375 1.8125 C 0.859375 1.890625 0.90625 1.9375 0.96875 1.9375 L 1.015625 1.9375 C 1.0625 1.9375 1.109375 1.90625 1.109375 1.859375 L 1.09375 -0.875 C 1.421875 -0.296875 1.96875 0.109375 2.65625 0.109375 C 3.21875 0.109375 3.78125 -0.078125 4.203125 -0.453125 C 4.59375 -0.8125 4.828125 -1.328125 4.84375 -1.859375 Z M 4.171875 -1.90625 C 4.171875 -1.453125 4.0625 -0.984375 3.765625 -0.625 C 3.46875 -0.296875 3.046875 -0.109375 2.609375 -0.109375 C 1.890625 -0.109375 1.34375 -0.65625 1.171875 -1.359375 C 1.125 -1.53125 1.109375 -1.6875 1.109375 -1.859375 L 1.09375 -4.265625 C 1.109375 -5.515625 1.5625 -6.8125 2.65625 -6.8125 C 2.984375 -6.8125 3.3125 -6.671875 3.53125 -6.40625 C 3.65625 -6.265625 3.734375 -6.09375 3.78125 -5.90625 C 3.8125 -5.734375 3.84375 -5.578125 3.84375 -5.40625 C 3.84375 -5.03125 3.765625 -4.640625 3.515625 -4.359375 C 3.453125 -4.28125 3.375 -4.21875 3.3125 -4.171875 C 3.09375 -4.25 2.84375 -4.296875 2.609375 -4.296875 C 2.25 -4.296875 1.828125 -4.296875 1.828125 -4.03125 L 1.828125 -3.953125 C 1.890625 -3.71875 2.296875 -3.71875 2.65625 -3.71875 C 2.90625 -3.71875 3.140625 -3.765625 3.375 -3.84375 C 3.515625 -3.75 3.65625 -3.625 3.765625 -3.453125 C 3.921875 -3.25 4 -3.015625 4.078125 -2.765625 C 4.140625 -2.5 4.171875 -2.1875 4.171875 -1.90625 Z M 3.015625 -4.015625 C 2.890625 -3.96875 2.734375 -3.9375 2.609375 -3.9375 C 2.375 -3.9375 2.078125 -3.9375 2.078125 -3.984375 C 2.078125 -4.0625 2.40625 -4.0625 2.65625 -4.0625 C 2.78125 -4.0625 2.90625 -4.046875 3.015625 -4.015625 Z M 3.015625 -4.015625 \"/>\n",
       "</symbol>\n",
       "<symbol overflow=\"visible\" id=\"glyph-1636526391308282-0-3\">\n",
       "<path style=\"stroke:none;\" d=\"M 5.140625 -4.203125 C 5.109375 -4.296875 4.984375 -4.296875 4.984375 -4.296875 C 4.953125 -4.296875 4.890625 -4.296875 4.890625 -4.234375 C 4.609375 -3.28125 4.453125 -2.28125 4.3125 -1.28125 C 4.21875 -1.578125 4.015625 -2.34375 3.390625 -3.3125 C 3 -3.921875 2.484375 -4.40625 1.796875 -4.40625 C 0.546875 -4.40625 0.234375 -2.890625 0.296875 -2.578125 C 0.328125 -2.484375 0.421875 -2.484375 0.515625 -2.484375 L 0.546875 -2.53125 C 0.640625 -3.671875 1.734375 -3.6875 1.84375 -3.6875 C 3.34375 -3.6875 3.890625 -1.9375 4.09375 -1.15625 C 4.234375 -0.546875 4.234375 -0.375 4.21875 -0.171875 C 4.171875 0.546875 4.171875 1.703125 4.234375 1.96875 C 4.25 2.078125 4.328125 2.140625 4.40625 2.140625 C 4.53125 2.140625 4.5625 1.921875 4.578125 1.546875 C 4.59375 0.703125 4.546875 0.140625 4.515625 -0.171875 C 4.5 -0.296875 4.484375 -0.421875 4.5 -0.5625 C 4.5625 -1.546875 4.828125 -3.03125 5.03125 -3.8125 C 5.078125 -3.9375 5.140625 -4.15625 5.140625 -4.203125 Z M 5.140625 -4.203125 \"/>\n",
       "</symbol>\n",
       "</g>\n",
       "<clipPath id=\"clip-1636526391308282-1\">\n",
       "  <path d=\"M 28 0 L 41.496094 0 L 41.496094 12 L 28 12 Z M 28 0 \"/>\n",
       "</clipPath>\n",
       "<clipPath id=\"clip-1636526391308282-2\">\n",
       "  <path d=\"M 22 0 L 41.496094 0 L 41.496094 17 L 22 17 Z M 22 0 \"/>\n",
       "</clipPath>\n",
       "<clipPath id=\"clip-1636526391308282-3\">\n",
       "  <path d=\"M 28 85 L 41.496094 85 L 41.496094 96.59375 L 28 96.59375 Z M 28 85 \"/>\n",
       "</clipPath>\n",
       "<clipPath id=\"clip-1636526391308282-4\">\n",
       "  <path d=\"M 22 79 L 41.496094 79 L 41.496094 96.59375 L 22 96.59375 Z M 22 79 \"/>\n",
       "</clipPath>\n",
       "</defs>\n",
       "<g id=\"surface1\">\n",
       "<path style=\"fill:none;stroke-width:0.3985;stroke-linecap:butt;stroke-linejoin:miter;stroke:rgb(0%,0%,0%);stroke-opacity:1;stroke-miterlimit:10;\" d=\"M -4.980313 -4.981813 L -22.2225 -22.220094 \" transform=\"matrix(1,0,0,-1,34.785,5.776)\"/>\n",
       "<path style=\"fill:none;stroke-width:0.31879;stroke-linecap:round;stroke-linejoin:round;stroke:rgb(0%,0%,0%);stroke-opacity:1;stroke-miterlimit:10;\" d=\"M -1.193923 1.594828 C -1.097248 0.995439 -0.000669106 0.0977364 0.300407 0.00106067 C -0.000669106 -0.101139 -1.094485 -0.99608 -1.196685 -1.595469 \" transform=\"matrix(-0.7071,0.7071,0.7071,0.7071,12.56323,27.99777)\"/>\n",
       "<path style=\"fill:none;stroke-width:0.3985;stroke-linecap:butt;stroke-linejoin:miter;stroke:rgb(0%,0%,0%);stroke-opacity:1;stroke-miterlimit:10;\" d=\"M 0.00015625 -5.774781 L 0.00015625 -78.806031 \" transform=\"matrix(1,0,0,-1,34.785,5.776)\"/>\n",
       "<path style=\"fill:none;stroke-width:0.31879;stroke-linecap:round;stroke-linejoin:round;stroke:rgb(0%,0%,0%);stroke-opacity:1;stroke-miterlimit:10;\" d=\"M -1.195021 1.593906 C -1.097365 0.99625 0.00029125 0.0978125 0.297166 0.00015625 C 0.00029125 -0.101406 -1.097365 -0.995938 -1.195021 -1.593594 \" transform=\"matrix(0,1,1,0,34.785,84.58174)\"/>\n",
       "<path style=\"fill:none;stroke-width:0.3985;stroke-linecap:butt;stroke-linejoin:miter;stroke:rgb(0%,0%,0%);stroke-opacity:1;stroke-miterlimit:10;\" d=\"M -28.3475 -36.349 L -28.3475 -49.44275 \" transform=\"matrix(1,0,0,-1,34.785,5.776)\"/>\n",
       "<path style=\"fill:none;stroke-width:0.31879;stroke-linecap:round;stroke-linejoin:round;stroke:rgb(0%,0%,0%);stroke-opacity:1;stroke-miterlimit:10;\" d=\"M -1.195293 1.59305 C -1.097636 0.995394 0.00002 0.100862 0.300801 -0.0007 C 0.00002 -0.0983563 -1.097636 -0.996794 -1.195293 -1.59445 \" transform=\"matrix(0,1,1,0,6.4382,55.21873)\"/>\n",
       "<path style=\"fill:none;stroke-width:0.3985;stroke-linecap:butt;stroke-linejoin:miter;stroke:rgb(0%,0%,0%);stroke-opacity:1;stroke-miterlimit:10;\" d=\"M -22.960781 -62.079469 L -5.304531 -79.735719 \" transform=\"matrix(1,0,0,-1,34.785,5.776)\"/>\n",
       "<path style=\"fill:none;stroke-width:0.31879;stroke-linecap:round;stroke-linejoin:round;stroke:rgb(0%,0%,0%);stroke-opacity:1;stroke-miterlimit:10;\" d=\"M -1.193982 1.593881 C -1.094544 0.997254 0.00203472 0.099551 0.300348 0.000113138 C 0.00203472 -0.0993247 -1.094544 -0.997027 -1.193982 -1.593655 \" transform=\"matrix(0.7071,0.7071,0.7071,-0.7071,29.47895,85.51036)\"/>\n",
       "<g clip-path=\"url(#clip-1636526391308282-1)\" clip-rule=\"nonzero\">\n",
       "<path style=\" stroke:none;fill-rule:nonzero;fill:rgb(89.99939%,100%,89.99939%);fill-opacity:1;\" d=\"M 37.3125 0.199219 L 32.257812 0.199219 C 30.054688 0.199219 28.269531 1.984375 28.269531 4.183594 L 28.269531 7.367188 C 28.269531 9.570312 30.054688 11.351562 32.257812 11.351562 L 37.3125 11.351562 C 39.515625 11.351562 41.296875 9.570312 41.296875 7.367188 L 41.296875 4.183594 C 41.296875 1.984375 39.515625 0.199219 37.3125 0.199219 Z M 37.3125 0.199219 \"/>\n",
       "</g>\n",
       "<g clip-path=\"url(#clip-1636526391308282-2)\" clip-rule=\"nonzero\">\n",
       "<path style=\"fill:none;stroke-width:0.3985;stroke-linecap:butt;stroke-linejoin:miter;stroke:rgb(0%,0%,0%);stroke-opacity:1;stroke-miterlimit:10;\" d=\"M 2.5275 5.576781 L -2.527188 5.576781 C -4.730313 5.576781 -6.515469 3.791625 -6.515469 1.592406 L -6.515469 -1.591188 C -6.515469 -3.794313 -4.730313 -5.575563 -2.527188 -5.575563 L 2.5275 -5.575563 C 4.730625 -5.575563 6.511875 -3.794313 6.511875 -1.591188 L 6.511875 1.592406 C 6.511875 3.791625 4.730625 5.576781 2.5275 5.576781 Z M 2.5275 5.576781 \" transform=\"matrix(1,0,0,-1,34.785,5.776)\"/>\n",
       "</g>\n",
       "<g style=\"fill:rgb(0%,0%,0%);fill-opacity:1;\">\n",
       "  <use xlink:href=\"#glyph-1636526391308282-0-1\" x=\"31.592\" y=\"7.923\"/>\n",
       "</g>\n",
       "<path style=\"fill-rule:nonzero;fill:rgb(89.99939%,89.99939%,100%);fill-opacity:1;stroke-width:0.3985;stroke-linecap:butt;stroke-linejoin:miter;stroke:rgb(0%,0%,0%);stroke-opacity:1;stroke-miterlimit:10;\" d=\"M 2.115687 7.802687 L -2.114781 7.802687 C -4.317906 7.802687 -6.099156 6.021437 -6.099156 3.818312 L -6.099156 -3.818406 C -6.099156 -6.021531 -4.317906 -7.802781 -2.114781 -7.802781 L 2.115687 -7.802781 C 4.314906 -7.802781 6.100062 -6.021531 6.100062 -3.818406 L 6.100062 3.818312 C 6.100062 6.021437 4.314906 7.802687 2.115687 7.802687 Z M 2.115687 7.802687 \" transform=\"matrix(1,0,0,-1,6.439,34.123)\"/>\n",
       "<g style=\"fill:rgb(0%,0%,0%);fill-opacity:1;\">\n",
       "  <use xlink:href=\"#glyph-1636526391308282-0-2\" x=\"3.659\" y=\"36.673\"/>\n",
       "</g>\n",
       "<path style=\"fill-rule:nonzero;fill:rgb(100%,99.488831%,90.000916%);fill-opacity:1;stroke-width:0.3985;stroke-linecap:butt;stroke-linejoin:miter;stroke:rgb(0%,0%,0%);stroke-opacity:1;stroke-miterlimit:10;\" d=\"M 2.256312 6.594 L -2.255406 6.594 C -4.454625 6.594 -6.239781 4.808844 -6.239781 2.609625 L -6.239781 -2.609125 C -6.239781 -4.808344 -4.454625 -6.5935 -2.255406 -6.5935 L 2.256312 -6.5935 C 4.455531 -6.5935 6.240687 -4.808344 6.240687 -2.609125 L 6.240687 2.609625 C 6.240687 4.808844 4.455531 6.594 2.256312 6.594 Z M 2.256312 6.594 \" transform=\"matrix(1,0,0,-1,6.439,62.469)\"/>\n",
       "<g style=\"fill:rgb(0%,0%,0%);fill-opacity:1;\">\n",
       "  <use xlink:href=\"#glyph-1636526391308282-0-3\" x=\"3.52\" y=\"63.6\"/>\n",
       "</g>\n",
       "<g clip-path=\"url(#clip-1636526391308282-3)\" clip-rule=\"nonzero\">\n",
       "<path style=\" stroke:none;fill-rule:nonzero;fill:rgb(89.99939%,89.99939%,100%);fill-opacity:1;\" d=\"M 37.3125 85.238281 L 32.257812 85.238281 C 30.054688 85.238281 28.269531 87.023438 28.269531 89.222656 L 28.269531 92.40625 C 28.269531 94.609375 30.054688 96.394531 32.257812 96.394531 L 37.3125 96.394531 C 39.515625 96.394531 41.296875 94.609375 41.296875 92.40625 L 41.296875 89.222656 C 41.296875 87.023438 39.515625 85.238281 37.3125 85.238281 Z M 37.3125 85.238281 \"/>\n",
       "</g>\n",
       "<g clip-path=\"url(#clip-1636526391308282-4)\" clip-rule=\"nonzero\">\n",
       "<path style=\"fill:none;stroke-width:0.3985;stroke-linecap:butt;stroke-linejoin:miter;stroke:rgb(0%,0%,0%);stroke-opacity:1;stroke-miterlimit:10;\" d=\"M 2.5275 5.577719 L -2.527188 5.577719 C -4.730313 5.577719 -6.515469 3.792563 -6.515469 1.593344 L -6.515469 -1.59025 C -6.515469 -3.793375 -4.730313 -5.578531 -2.527188 -5.578531 L 2.5275 -5.578531 C 4.730625 -5.578531 6.511875 -3.793375 6.511875 -1.59025 L 6.511875 1.593344 C 6.511875 3.792563 4.730625 5.577719 2.5275 5.577719 Z M 2.5275 5.577719 \" transform=\"matrix(1,0,0,-1,34.785,90.816)\"/>\n",
       "</g>\n",
       "<g style=\"fill:rgb(0%,0%,0%);fill-opacity:1;\">\n",
       "  <use xlink:href=\"#glyph-1636526391308282-0-1\" x=\"31.592\" y=\"92.963\"/>\n",
       "</g>\n",
       "</g>\n",
       "</svg>\n",
       "\n"
      ],
      "text/plain": [
       "TikzPicture(\"\\\\graph [layered layout, ] {\\n1/\\\"α\\\" [draw, rounded corners, fill=blue!10,fill=green!10],\\n2/\\\"β\\\" [draw, rounded corners, fill=blue!10],\\n3/\\\"γ\\\" [draw, rounded corners, fill=blue!10,fill=yellow!10],\\n4/\\\"α\\\" [draw, rounded corners, fill=blue!10],\\n;\\n1 -> [,] 2;\\n1 -> [,] 4;\\n2 -> [,] 3;\\n3 -> [,] 4;\\n};\\n\", \"\", \"\\\\usepackage{fontspec}\\n\\\\setmainfont{Latin Modern Math}\\n\\\\usetikzlibrary{arrows}\\n\\\\usetikzlibrary{graphs}\\n\\\\usetikzlibrary{graphdrawing}\\n\\n% from: https://tex.stackexchange.com/questions/453132/fresh-install-of-tl2018-no-tikz-graph-drawing-libraries-found\\n\\\\usepackage{luacode}\\n\\\\begin{luacode*}\\n\\tfunction pgf_lookup_and_require(name)\\n\\tlocal sep = package.config:sub(1,1)\\n\\tlocal function lookup(name)\\n\\tlocal sub = name:gsub('%.',sep)  \\n\\tif kpse.find_file(sub, 'lua') then\\n\\trequire(name)\\n\\telseif kpse.find_file(sub, 'clua') then\\n\\tcollectgarbage('stop') \\n\\trequire(name)\\n\\tcollectgarbage('restart')\\n\\telse\\n\\treturn false\\n\\tend\\n\\treturn true\\n\\tend\\n\\treturn\\n\\tlookup('pgf.gd.' .. name .. '.library') or\\n\\tlookup('pgf.gd.' .. name) or\\n\\tlookup(name .. '.library') or\\n\\tlookup(name) \\n\\tend\\n\\\\end{luacode*}\\n\\n\\\\usegdlibrary{layered}\", \"tikzpicture\", \"\", \"\", true, true)"
      ]
     },
     "execution_count": 10,
     "metadata": {},
     "output_type": "execute_result"
    }
   ],
   "source": [
    "TikzGraphs.plot(g, [\"α\", \"β\", \"γ\", \"α\"], node_style=\"draw, rounded corners, fill=blue!10\", node_styles=Dict(1=>\"fill=green!10\",3=>\"fill=yellow!10\"))"
   ]
  },
  {
   "cell_type": "markdown",
   "metadata": {},
   "source": [
    "## Edges"
   ]
  },
  {
   "cell_type": "markdown",
   "metadata": {},
   "source": [
    "You can set edge labels using a dictionary."
   ]
  },
  {
   "cell_type": "code",
   "execution_count": 11,
   "metadata": {},
   "outputs": [
    {
     "data": {
      "image/svg+xml": [
       "<?xml version=\"1.0\" encoding=\"UTF-8\"?>\n",
       "<svg xmlns=\"http://www.w3.org/2000/svg\" xmlns:xlink=\"http://www.w3.org/1999/xlink\" width=\"46.687pt\" height=\"96.193pt\" viewBox=\"0 0 46.687 96.193\" version=\"1.1\">\n",
       "<defs>\n",
       "<g>\n",
       "<symbol overflow=\"visible\" id=\"glyph-1636526391308283-0-0\">\n",
       "<path style=\"stroke:none;\" d=\"\"/>\n",
       "</symbol>\n",
       "<symbol overflow=\"visible\" id=\"glyph-1636526391308283-0-1\">\n",
       "<path style=\"stroke:none;\" d=\"M 5.140625 0 L 5.140625 -0.3125 C 4.609375 -0.3125 4.421875 -0.328125 4.203125 -0.625 L 2.859375 -2.34375 C 3.15625 -2.71875 3.53125 -3.203125 3.78125 -3.46875 C 4.09375 -3.828125 4.5 -3.984375 4.96875 -3.984375 L 4.96875 -4.296875 C 4.703125 -4.28125 4.40625 -4.265625 4.140625 -4.265625 C 3.84375 -4.265625 3.3125 -4.28125 3.1875 -4.296875 L 3.1875 -3.984375 C 3.40625 -3.96875 3.484375 -3.84375 3.484375 -3.671875 C 3.484375 -3.515625 3.375 -3.390625 3.328125 -3.328125 L 2.71875 -2.546875 L 1.9375 -3.5625 C 1.84375 -3.65625 1.84375 -3.671875 1.84375 -3.734375 C 1.84375 -3.890625 2 -3.984375 2.1875 -3.984375 L 2.1875 -4.296875 L 1.109375 -4.265625 C 0.90625 -4.265625 0.4375 -4.28125 0.171875 -4.296875 L 0.171875 -3.984375 C 0.875 -3.984375 0.875 -3.984375 1.34375 -3.375 L 2.328125 -2.09375 C 1.859375 -1.5 1.859375 -1.46875 1.390625 -0.90625 C 0.921875 -0.328125 0.328125 -0.3125 0.125 -0.3125 L 0.125 0 C 0.375 -0.015625 0.6875 -0.03125 0.953125 -0.03125 L 1.890625 0 L 1.890625 -0.3125 C 1.671875 -0.34375 1.609375 -0.46875 1.609375 -0.625 C 1.609375 -0.84375 1.890625 -1.171875 2.5 -1.890625 L 3.265625 -0.890625 C 3.34375 -0.78125 3.46875 -0.625 3.46875 -0.5625 C 3.46875 -0.46875 3.375 -0.3125 3.109375 -0.3125 L 3.109375 0 L 4.1875 -0.03125 C 4.453125 -0.03125 4.84375 -0.015625 5.140625 0 Z M 5.140625 0 \"/>\n",
       "</symbol>\n",
       "<symbol overflow=\"visible\" id=\"glyph-1636526391308283-0-2\">\n",
       "<path style=\"stroke:none;\" d=\"M 5.0625 -3.984375 L 5.0625 -4.296875 C 4.828125 -4.28125 4.546875 -4.265625 4.3125 -4.265625 L 3.453125 -4.296875 L 3.453125 -3.984375 C 3.765625 -3.984375 3.921875 -3.8125 3.921875 -3.5625 C 3.921875 -3.453125 3.90625 -3.4375 3.859375 -3.3125 L 2.84375 -0.875 L 1.75 -3.546875 C 1.703125 -3.65625 1.6875 -3.6875 1.6875 -3.734375 C 1.6875 -3.984375 2.046875 -3.984375 2.25 -3.984375 L 2.25 -4.296875 L 1.15625 -4.265625 C 0.890625 -4.265625 0.484375 -4.28125 0.1875 -4.296875 L 0.1875 -3.984375 C 0.671875 -3.984375 0.859375 -3.984375 1 -3.640625 L 2.5 0 L 2.25 0.59375 C 2.03125 1.140625 1.75 1.828125 1.109375 1.828125 C 1.0625 1.828125 0.828125 1.828125 0.640625 1.640625 C 0.953125 1.609375 1.03125 1.390625 1.03125 1.21875 C 1.03125 0.96875 0.84375 0.8125 0.609375 0.8125 C 0.40625 0.8125 0.1875 0.9375 0.1875 1.234375 C 0.1875 1.6875 0.609375 2.046875 1.109375 2.046875 C 1.734375 2.046875 2.140625 1.46875 2.375 0.90625 L 4.140625 -3.34375 C 4.390625 -3.984375 4.90625 -3.984375 5.0625 -3.984375 Z M 5.0625 -3.984375 \"/>\n",
       "</symbol>\n",
       "<symbol overflow=\"visible\" id=\"glyph-1636526391308283-0-3\">\n",
       "<path style=\"stroke:none;\" d=\"M 6.34375 -0.59375 C 6.328125 -0.671875 6.265625 -0.703125 6.203125 -0.703125 C 6.140625 -0.703125 6.109375 -0.671875 6.09375 -0.59375 C 6.046875 -0.109375 5.65625 -0.109375 5.65625 -0.109375 C 5.359375 -0.109375 5.15625 -0.890625 5.109375 -1.125 C 5.046875 -1.328125 5.046875 -1.359375 5.109375 -1.46875 C 5.765625 -2.65625 5.671875 -3.8125 5.671875 -3.8125 C 5.671875 -3.8125 5.640625 -3.921875 5.53125 -3.921875 C 5.4375 -3.921875 5.4375 -3.890625 5.4375 -3.703125 C 5.40625 -3.078125 5.28125 -2.328125 4.953125 -1.734375 L 4.796875 -2.359375 C 4.40625 -3.921875 3.359375 -4.40625 2.625 -4.40625 C 1.25 -4.40625 0.296875 -2.984375 0.640625 -1.578125 C 0.875 -0.640625 1.671875 0.109375 2.6875 0.109375 C 3.3125 0.109375 3.96875 -0.125 4.578125 -0.734375 C 4.828125 -0.203125 5.25 0.109375 5.6875 0.109375 C 6.21875 0.109375 6.390625 -0.4375 6.34375 -0.59375 Z M 4.46875 -0.984375 C 3.78125 -0.21875 3.046875 -0.109375 2.640625 -0.109375 C 2.046875 -0.109375 1.640625 -0.5625 1.46875 -1.203125 C 1.359375 -1.6875 1.34375 -2.765625 1.53125 -3.265625 C 1.828125 -4 2.3125 -4.1875 2.65625 -4.1875 C 3.65625 -4.1875 3.984375 -2.875 4.171875 -2.109375 C 4.265625 -1.734375 4.40625 -1.15625 4.46875 -0.984375 Z M 4.46875 -0.984375 \"/>\n",
       "</symbol>\n",
       "<symbol overflow=\"visible\" id=\"glyph-1636526391308283-0-4\">\n",
       "<path style=\"stroke:none;\" d=\"M 4.84375 -1.859375 C 4.828125 -2.078125 4.8125 -2.296875 4.765625 -2.5 C 4.671875 -2.890625 4.46875 -3.265625 4.203125 -3.5625 C 4.03125 -3.734375 3.859375 -3.890625 3.65625 -4 C 3.734375 -4.0625 3.828125 -4.109375 3.90625 -4.203125 C 4.234375 -4.5 4.421875 -4.90625 4.421875 -5.359375 C 4.421875 -5.484375 4.421875 -5.609375 4.390625 -5.71875 C 4.3125 -6.03125 4.125 -6.3125 3.890625 -6.546875 C 3.53125 -6.859375 3.078125 -7.03125 2.609375 -7.03125 C 1.421875 -7.03125 0.84375 -5.671875 0.84375 -4.3125 L 0.84375 1.8125 C 0.859375 1.890625 0.90625 1.9375 0.96875 1.9375 L 1.015625 1.9375 C 1.0625 1.9375 1.109375 1.90625 1.109375 1.859375 L 1.09375 -0.875 C 1.421875 -0.296875 1.96875 0.109375 2.65625 0.109375 C 3.21875 0.109375 3.78125 -0.078125 4.203125 -0.453125 C 4.59375 -0.8125 4.828125 -1.328125 4.84375 -1.859375 Z M 4.171875 -1.90625 C 4.171875 -1.453125 4.0625 -0.984375 3.765625 -0.625 C 3.46875 -0.296875 3.046875 -0.109375 2.609375 -0.109375 C 1.890625 -0.109375 1.34375 -0.65625 1.171875 -1.359375 C 1.125 -1.53125 1.109375 -1.6875 1.109375 -1.859375 L 1.09375 -4.265625 C 1.109375 -5.515625 1.5625 -6.8125 2.65625 -6.8125 C 2.984375 -6.8125 3.3125 -6.671875 3.53125 -6.40625 C 3.65625 -6.265625 3.734375 -6.09375 3.78125 -5.90625 C 3.8125 -5.734375 3.84375 -5.578125 3.84375 -5.40625 C 3.84375 -5.03125 3.765625 -4.640625 3.515625 -4.359375 C 3.453125 -4.28125 3.375 -4.21875 3.3125 -4.171875 C 3.09375 -4.25 2.84375 -4.296875 2.609375 -4.296875 C 2.25 -4.296875 1.828125 -4.296875 1.828125 -4.03125 L 1.828125 -3.953125 C 1.890625 -3.71875 2.296875 -3.71875 2.65625 -3.71875 C 2.90625 -3.71875 3.140625 -3.765625 3.375 -3.84375 C 3.515625 -3.75 3.65625 -3.625 3.765625 -3.453125 C 3.921875 -3.25 4 -3.015625 4.078125 -2.765625 C 4.140625 -2.5 4.171875 -2.1875 4.171875 -1.90625 Z M 3.015625 -4.015625 C 2.890625 -3.96875 2.734375 -3.9375 2.609375 -3.9375 C 2.375 -3.9375 2.078125 -3.9375 2.078125 -3.984375 C 2.078125 -4.0625 2.40625 -4.0625 2.65625 -4.0625 C 2.78125 -4.0625 2.90625 -4.046875 3.015625 -4.015625 Z M 3.015625 -4.015625 \"/>\n",
       "</symbol>\n",
       "<symbol overflow=\"visible\" id=\"glyph-1636526391308283-0-5\">\n",
       "<path style=\"stroke:none;\" d=\"M 5.140625 -4.203125 C 5.109375 -4.296875 4.984375 -4.296875 4.984375 -4.296875 C 4.953125 -4.296875 4.890625 -4.296875 4.890625 -4.234375 C 4.609375 -3.28125 4.453125 -2.28125 4.3125 -1.28125 C 4.21875 -1.578125 4.015625 -2.34375 3.390625 -3.3125 C 3 -3.921875 2.484375 -4.40625 1.796875 -4.40625 C 0.546875 -4.40625 0.234375 -2.890625 0.296875 -2.578125 C 0.328125 -2.484375 0.421875 -2.484375 0.515625 -2.484375 L 0.546875 -2.53125 C 0.640625 -3.671875 1.734375 -3.6875 1.84375 -3.6875 C 3.34375 -3.6875 3.890625 -1.9375 4.09375 -1.15625 C 4.234375 -0.546875 4.234375 -0.375 4.21875 -0.171875 C 4.171875 0.546875 4.171875 1.703125 4.234375 1.96875 C 4.25 2.078125 4.328125 2.140625 4.40625 2.140625 C 4.53125 2.140625 4.5625 1.921875 4.578125 1.546875 C 4.59375 0.703125 4.546875 0.140625 4.515625 -0.171875 C 4.5 -0.296875 4.484375 -0.421875 4.5 -0.5625 C 4.5625 -1.546875 4.828125 -3.03125 5.03125 -3.8125 C 5.078125 -3.9375 5.140625 -4.15625 5.140625 -4.203125 Z M 5.140625 -4.203125 \"/>\n",
       "</symbol>\n",
       "</g>\n",
       "</defs>\n",
       "<g id=\"surface1\">\n",
       "<path style=\"fill:none;stroke-width:0.3985;stroke-linecap:butt;stroke-linejoin:miter;stroke:rgb(0%,0%,0%);stroke-opacity:1;stroke-miterlimit:10;\" d=\"M -5.777406 -5.774563 L -21.722719 -21.723781 \" transform=\"matrix(1,0,0,-1,34.586,5.577)\"/>\n",
       "<path style=\"fill:none;stroke-width:0.31879;stroke-linecap:round;stroke-linejoin:round;stroke:rgb(0%,0%,0%);stroke-opacity:1;stroke-miterlimit:10;\" d=\"M -1.196129 1.594519 C -1.096692 0.997892 -0.000113138 0.100189 0.2982 0.000751308 C -0.000113138 -0.0986865 -1.096692 -0.996389 -1.196129 -1.593016 \" transform=\"matrix(-0.7071,0.7071,0.7071,0.7071,12.86267,27.30033)\"/>\n",
       "<g style=\"fill:rgb(0%,0%,0%);fill-opacity:1;\">\n",
       "  <use xlink:href=\"#glyph-1636526391308283-0-1\" x=\"24.194\" y=\"27.302\"/>\n",
       "</g>\n",
       "<path style=\"fill:none;stroke-width:0.3985;stroke-linecap:butt;stroke-linejoin:miter;stroke:rgb(0%,0%,0%);stroke-opacity:1;stroke-miterlimit:10;\" d=\"M -0.0000625 -5.774563 L -0.0000625 -78.805813 \" transform=\"matrix(1,0,0,-1,34.586,5.577)\"/>\n",
       "<path style=\"fill:none;stroke-width:0.31879;stroke-linecap:round;stroke-linejoin:round;stroke:rgb(0%,0%,0%);stroke-opacity:1;stroke-miterlimit:10;\" d=\"M -1.19526 1.593688 C -1.097604 0.996031 0.0000525 0.1015 0.296928 -0.0000625 C 0.0000525 -0.0977187 -1.097604 -0.996156 -1.19526 -1.593812 \" transform=\"matrix(0,1,1,0,34.586,84.38276)\"/>\n",
       "<g style=\"fill:rgb(0%,0%,0%);fill-opacity:1;\">\n",
       "  <use xlink:href=\"#glyph-1636526391308283-0-2\" x=\"38.106\" y=\"74.68\"/>\n",
       "</g>\n",
       "<path style=\"fill:none;stroke-width:0.3985;stroke-linecap:butt;stroke-linejoin:miter;stroke:rgb(0%,0%,0%);stroke-opacity:1;stroke-miterlimit:10;\" d=\"M -28.347719 -36.348781 L -28.347719 -49.442531 \" transform=\"matrix(1,0,0,-1,34.586,5.577)\"/>\n",
       "<path style=\"fill:none;stroke-width:0.31879;stroke-linecap:round;stroke-linejoin:round;stroke:rgb(0%,0%,0%);stroke-opacity:1;stroke-miterlimit:10;\" d=\"M -1.195531 1.592831 C -1.093969 0.995175 -0.00021875 0.100644 0.300562 -0.00091875 C -0.00021875 -0.098575 -1.093969 -0.997012 -1.195531 -1.594669 \" transform=\"matrix(0,1,1,0,6.2392,55.01975)\"/>\n",
       "<path style=\"fill:none;stroke-width:0.3985;stroke-linecap:butt;stroke-linejoin:miter;stroke:rgb(0%,0%,0%);stroke-opacity:1;stroke-miterlimit:10;\" d=\"M -21.906312 -63.133938 L -6.101625 -78.938625 \" transform=\"matrix(1,0,0,-1,34.586,5.577)\"/>\n",
       "<path style=\"fill:none;stroke-width:0.31879;stroke-linecap:round;stroke-linejoin:round;stroke:rgb(0%,0%,0%);stroke-opacity:1;stroke-miterlimit:10;\" d=\"M -1.197834 1.593881 C -1.095634 0.994492 -0.00181728 0.099551 0.296496 0.000113138 C -0.00181728 -0.0993247 -1.095634 -0.994265 -1.197834 -1.593655 \" transform=\"matrix(0.7071,0.7071,0.7071,-0.7071,28.48558,84.51699)\"/>\n",
       "<g style=\"fill:rgb(0%,0%,0%);fill-opacity:1;\">\n",
       "  <use xlink:href=\"#glyph-1636526391308283-0-3\" x=\"31.393\" y=\"7.724\"/>\n",
       "</g>\n",
       "<g style=\"fill:rgb(0%,0%,0%);fill-opacity:1;\">\n",
       "  <use xlink:href=\"#glyph-1636526391308283-0-4\" x=\"3.46\" y=\"36.473\"/>\n",
       "</g>\n",
       "<g style=\"fill:rgb(0%,0%,0%);fill-opacity:1;\">\n",
       "  <use xlink:href=\"#glyph-1636526391308283-0-5\" x=\"3.321\" y=\"63.4\"/>\n",
       "</g>\n",
       "<g style=\"fill:rgb(0%,0%,0%);fill-opacity:1;\">\n",
       "  <use xlink:href=\"#glyph-1636526391308283-0-3\" x=\"31.393\" y=\"92.763\"/>\n",
       "</g>\n",
       "</g>\n",
       "</svg>\n",
       "\n"
      ],
      "text/plain": [
       "TikzPicture(\"\\\\graph [layered layout, ] {\\n1/\\\"α\\\" [],\\n2/\\\"β\\\" [],\\n3/\\\"γ\\\" [],\\n4/\\\"α\\\" [],\\n;\\n1 -> [,edge label={x},] 2;\\n1 -> [,edge label={y},] 4;\\n2 -> [,] 3;\\n3 -> [,] 4;\\n};\\n\", \"\", \"\\\\usepackage{fontspec}\\n\\\\setmainfont{Latin Modern Math}\\n\\\\usetikzlibrary{arrows}\\n\\\\usetikzlibrary{graphs}\\n\\\\usetikzlibrary{graphdrawing}\\n\\n% from: https://tex.stackexchange.com/questions/453132/fresh-install-of-tl2018-no-tikz-graph-drawing-libraries-found\\n\\\\usepackage{luacode}\\n\\\\begin{luacode*}\\n\\tfunction pgf_lookup_and_require(name)\\n\\tlocal sep = package.config:sub(1,1)\\n\\tlocal function lookup(name)\\n\\tlocal sub = name:gsub('%.',sep)  \\n\\tif kpse.find_file(sub, 'lua') then\\n\\trequire(name)\\n\\telseif kpse.find_file(sub, 'clua') then\\n\\tcollectgarbage('stop') \\n\\trequire(name)\\n\\tcollectgarbage('restart')\\n\\telse\\n\\treturn false\\n\\tend\\n\\treturn true\\n\\tend\\n\\treturn\\n\\tlookup('pgf.gd.' .. name .. '.library') or\\n\\tlookup('pgf.gd.' .. name) or\\n\\tlookup(name .. '.library') or\\n\\tlookup(name) \\n\\tend\\n\\\\end{luacode*}\\n\\n\\\\usegdlibrary{layered}\", \"tikzpicture\", \"\", \"\", true, true)"
      ]
     },
     "execution_count": 11,
     "metadata": {},
     "output_type": "execute_result"
    }
   ],
   "source": [
    "TikzGraphs.plot(g, [\"α\", \"β\", \"γ\", \"α\"], edge_labels=Dict((1,2)=>\"x\", (1,4)=>\"y\"))"
   ]
  },
  {
   "cell_type": "markdown",
   "metadata": {},
   "source": [
    "You can set the style for the edges."
   ]
  },
  {
   "cell_type": "code",
   "execution_count": 12,
   "metadata": {},
   "outputs": [
    {
     "data": {
      "image/svg+xml": [
       "<?xml version=\"1.0\" encoding=\"UTF-8\"?>\n",
       "<svg xmlns=\"http://www.w3.org/2000/svg\" xmlns:xlink=\"http://www.w3.org/1999/xlink\" width=\"46.687pt\" height=\"96.193pt\" viewBox=\"0 0 46.687 96.193\" version=\"1.1\">\n",
       "<defs>\n",
       "<g>\n",
       "<symbol overflow=\"visible\" id=\"glyph-1636526391308284-0-0\">\n",
       "<path style=\"stroke:none;\" d=\"\"/>\n",
       "</symbol>\n",
       "<symbol overflow=\"visible\" id=\"glyph-1636526391308284-0-1\">\n",
       "<path style=\"stroke:none;\" d=\"M 5.140625 0 L 5.140625 -0.3125 C 4.609375 -0.3125 4.421875 -0.328125 4.203125 -0.625 L 2.859375 -2.34375 C 3.15625 -2.71875 3.53125 -3.203125 3.78125 -3.46875 C 4.09375 -3.828125 4.5 -3.984375 4.96875 -3.984375 L 4.96875 -4.296875 C 4.703125 -4.28125 4.40625 -4.265625 4.140625 -4.265625 C 3.84375 -4.265625 3.3125 -4.28125 3.1875 -4.296875 L 3.1875 -3.984375 C 3.40625 -3.96875 3.484375 -3.84375 3.484375 -3.671875 C 3.484375 -3.515625 3.375 -3.390625 3.328125 -3.328125 L 2.71875 -2.546875 L 1.9375 -3.5625 C 1.84375 -3.65625 1.84375 -3.671875 1.84375 -3.734375 C 1.84375 -3.890625 2 -3.984375 2.1875 -3.984375 L 2.1875 -4.296875 L 1.109375 -4.265625 C 0.90625 -4.265625 0.4375 -4.28125 0.171875 -4.296875 L 0.171875 -3.984375 C 0.875 -3.984375 0.875 -3.984375 1.34375 -3.375 L 2.328125 -2.09375 C 1.859375 -1.5 1.859375 -1.46875 1.390625 -0.90625 C 0.921875 -0.328125 0.328125 -0.3125 0.125 -0.3125 L 0.125 0 C 0.375 -0.015625 0.6875 -0.03125 0.953125 -0.03125 L 1.890625 0 L 1.890625 -0.3125 C 1.671875 -0.34375 1.609375 -0.46875 1.609375 -0.625 C 1.609375 -0.84375 1.890625 -1.171875 2.5 -1.890625 L 3.265625 -0.890625 C 3.34375 -0.78125 3.46875 -0.625 3.46875 -0.5625 C 3.46875 -0.46875 3.375 -0.3125 3.109375 -0.3125 L 3.109375 0 L 4.1875 -0.03125 C 4.453125 -0.03125 4.84375 -0.015625 5.140625 0 Z M 5.140625 0 \"/>\n",
       "</symbol>\n",
       "<symbol overflow=\"visible\" id=\"glyph-1636526391308284-0-2\">\n",
       "<path style=\"stroke:none;\" d=\"M 5.0625 -3.984375 L 5.0625 -4.296875 C 4.828125 -4.28125 4.546875 -4.265625 4.3125 -4.265625 L 3.453125 -4.296875 L 3.453125 -3.984375 C 3.765625 -3.984375 3.921875 -3.8125 3.921875 -3.5625 C 3.921875 -3.453125 3.90625 -3.4375 3.859375 -3.3125 L 2.84375 -0.875 L 1.75 -3.546875 C 1.703125 -3.65625 1.6875 -3.6875 1.6875 -3.734375 C 1.6875 -3.984375 2.046875 -3.984375 2.25 -3.984375 L 2.25 -4.296875 L 1.15625 -4.265625 C 0.890625 -4.265625 0.484375 -4.28125 0.1875 -4.296875 L 0.1875 -3.984375 C 0.671875 -3.984375 0.859375 -3.984375 1 -3.640625 L 2.5 0 L 2.25 0.59375 C 2.03125 1.140625 1.75 1.828125 1.109375 1.828125 C 1.0625 1.828125 0.828125 1.828125 0.640625 1.640625 C 0.953125 1.609375 1.03125 1.390625 1.03125 1.21875 C 1.03125 0.96875 0.84375 0.8125 0.609375 0.8125 C 0.40625 0.8125 0.1875 0.9375 0.1875 1.234375 C 0.1875 1.6875 0.609375 2.046875 1.109375 2.046875 C 1.734375 2.046875 2.140625 1.46875 2.375 0.90625 L 4.140625 -3.34375 C 4.390625 -3.984375 4.90625 -3.984375 5.0625 -3.984375 Z M 5.0625 -3.984375 \"/>\n",
       "</symbol>\n",
       "<symbol overflow=\"visible\" id=\"glyph-1636526391308284-0-3\">\n",
       "<path style=\"stroke:none;\" d=\"M 6.34375 -0.59375 C 6.328125 -0.671875 6.265625 -0.703125 6.203125 -0.703125 C 6.140625 -0.703125 6.109375 -0.671875 6.09375 -0.59375 C 6.046875 -0.109375 5.65625 -0.109375 5.65625 -0.109375 C 5.359375 -0.109375 5.15625 -0.890625 5.109375 -1.125 C 5.046875 -1.328125 5.046875 -1.359375 5.109375 -1.46875 C 5.765625 -2.65625 5.671875 -3.8125 5.671875 -3.8125 C 5.671875 -3.8125 5.640625 -3.921875 5.53125 -3.921875 C 5.4375 -3.921875 5.4375 -3.890625 5.4375 -3.703125 C 5.40625 -3.078125 5.28125 -2.328125 4.953125 -1.734375 L 4.796875 -2.359375 C 4.40625 -3.921875 3.359375 -4.40625 2.625 -4.40625 C 1.25 -4.40625 0.296875 -2.984375 0.640625 -1.578125 C 0.875 -0.640625 1.671875 0.109375 2.6875 0.109375 C 3.3125 0.109375 3.96875 -0.125 4.578125 -0.734375 C 4.828125 -0.203125 5.25 0.109375 5.6875 0.109375 C 6.21875 0.109375 6.390625 -0.4375 6.34375 -0.59375 Z M 4.46875 -0.984375 C 3.78125 -0.21875 3.046875 -0.109375 2.640625 -0.109375 C 2.046875 -0.109375 1.640625 -0.5625 1.46875 -1.203125 C 1.359375 -1.6875 1.34375 -2.765625 1.53125 -3.265625 C 1.828125 -4 2.3125 -4.1875 2.65625 -4.1875 C 3.65625 -4.1875 3.984375 -2.875 4.171875 -2.109375 C 4.265625 -1.734375 4.40625 -1.15625 4.46875 -0.984375 Z M 4.46875 -0.984375 \"/>\n",
       "</symbol>\n",
       "<symbol overflow=\"visible\" id=\"glyph-1636526391308284-0-4\">\n",
       "<path style=\"stroke:none;\" d=\"M 4.84375 -1.859375 C 4.828125 -2.078125 4.8125 -2.296875 4.765625 -2.5 C 4.671875 -2.890625 4.46875 -3.265625 4.203125 -3.5625 C 4.03125 -3.734375 3.859375 -3.890625 3.65625 -4 C 3.734375 -4.0625 3.828125 -4.109375 3.90625 -4.203125 C 4.234375 -4.5 4.421875 -4.90625 4.421875 -5.359375 C 4.421875 -5.484375 4.421875 -5.609375 4.390625 -5.71875 C 4.3125 -6.03125 4.125 -6.3125 3.890625 -6.546875 C 3.53125 -6.859375 3.078125 -7.03125 2.609375 -7.03125 C 1.421875 -7.03125 0.84375 -5.671875 0.84375 -4.3125 L 0.84375 1.8125 C 0.859375 1.890625 0.90625 1.9375 0.96875 1.9375 L 1.015625 1.9375 C 1.0625 1.9375 1.109375 1.90625 1.109375 1.859375 L 1.09375 -0.875 C 1.421875 -0.296875 1.96875 0.109375 2.65625 0.109375 C 3.21875 0.109375 3.78125 -0.078125 4.203125 -0.453125 C 4.59375 -0.8125 4.828125 -1.328125 4.84375 -1.859375 Z M 4.171875 -1.90625 C 4.171875 -1.453125 4.0625 -0.984375 3.765625 -0.625 C 3.46875 -0.296875 3.046875 -0.109375 2.609375 -0.109375 C 1.890625 -0.109375 1.34375 -0.65625 1.171875 -1.359375 C 1.125 -1.53125 1.109375 -1.6875 1.109375 -1.859375 L 1.09375 -4.265625 C 1.109375 -5.515625 1.5625 -6.8125 2.65625 -6.8125 C 2.984375 -6.8125 3.3125 -6.671875 3.53125 -6.40625 C 3.65625 -6.265625 3.734375 -6.09375 3.78125 -5.90625 C 3.8125 -5.734375 3.84375 -5.578125 3.84375 -5.40625 C 3.84375 -5.03125 3.765625 -4.640625 3.515625 -4.359375 C 3.453125 -4.28125 3.375 -4.21875 3.3125 -4.171875 C 3.09375 -4.25 2.84375 -4.296875 2.609375 -4.296875 C 2.25 -4.296875 1.828125 -4.296875 1.828125 -4.03125 L 1.828125 -3.953125 C 1.890625 -3.71875 2.296875 -3.71875 2.65625 -3.71875 C 2.90625 -3.71875 3.140625 -3.765625 3.375 -3.84375 C 3.515625 -3.75 3.65625 -3.625 3.765625 -3.453125 C 3.921875 -3.25 4 -3.015625 4.078125 -2.765625 C 4.140625 -2.5 4.171875 -2.1875 4.171875 -1.90625 Z M 3.015625 -4.015625 C 2.890625 -3.96875 2.734375 -3.9375 2.609375 -3.9375 C 2.375 -3.9375 2.078125 -3.9375 2.078125 -3.984375 C 2.078125 -4.0625 2.40625 -4.0625 2.65625 -4.0625 C 2.78125 -4.0625 2.90625 -4.046875 3.015625 -4.015625 Z M 3.015625 -4.015625 \"/>\n",
       "</symbol>\n",
       "<symbol overflow=\"visible\" id=\"glyph-1636526391308284-0-5\">\n",
       "<path style=\"stroke:none;\" d=\"M 5.140625 -4.203125 C 5.109375 -4.296875 4.984375 -4.296875 4.984375 -4.296875 C 4.953125 -4.296875 4.890625 -4.296875 4.890625 -4.234375 C 4.609375 -3.28125 4.453125 -2.28125 4.3125 -1.28125 C 4.21875 -1.578125 4.015625 -2.34375 3.390625 -3.3125 C 3 -3.921875 2.484375 -4.40625 1.796875 -4.40625 C 0.546875 -4.40625 0.234375 -2.890625 0.296875 -2.578125 C 0.328125 -2.484375 0.421875 -2.484375 0.515625 -2.484375 L 0.546875 -2.53125 C 0.640625 -3.671875 1.734375 -3.6875 1.84375 -3.6875 C 3.34375 -3.6875 3.890625 -1.9375 4.09375 -1.15625 C 4.234375 -0.546875 4.234375 -0.375 4.21875 -0.171875 C 4.171875 0.546875 4.171875 1.703125 4.234375 1.96875 C 4.25 2.078125 4.328125 2.140625 4.40625 2.140625 C 4.53125 2.140625 4.5625 1.921875 4.578125 1.546875 C 4.59375 0.703125 4.546875 0.140625 4.515625 -0.171875 C 4.5 -0.296875 4.484375 -0.421875 4.5 -0.5625 C 4.5625 -1.546875 4.828125 -3.03125 5.03125 -3.8125 C 5.078125 -3.9375 5.140625 -4.15625 5.140625 -4.203125 Z M 5.140625 -4.203125 \"/>\n",
       "</symbol>\n",
       "</g>\n",
       "</defs>\n",
       "<g id=\"surface1\">\n",
       "<path style=\"fill:none;stroke-width:0.3985;stroke-linecap:butt;stroke-linejoin:miter;stroke:rgb(0%,100%,0%);stroke-opacity:1;stroke-miterlimit:10;\" d=\"M -5.777406 -5.774563 L -21.722719 -21.723781 \" transform=\"matrix(1,0,0,-1,34.586,5.577)\"/>\n",
       "<path style=\"fill:none;stroke-width:0.31879;stroke-linecap:round;stroke-linejoin:round;stroke:rgb(0%,100%,0%);stroke-opacity:1;stroke-miterlimit:10;\" d=\"M -1.196129 1.594519 C -1.096692 0.997892 -0.000113138 0.100189 0.2982 0.000751308 C -0.000113138 -0.0986865 -1.096692 -0.996389 -1.196129 -1.593016 \" transform=\"matrix(-0.7071,0.7071,0.7071,0.7071,12.86267,27.30033)\"/>\n",
       "<g style=\"fill:rgb(0%,100%,0%);fill-opacity:1;\">\n",
       "  <use xlink:href=\"#glyph-1636526391308284-0-1\" x=\"24.194\" y=\"27.302\"/>\n",
       "</g>\n",
       "<path style=\"fill:none;stroke-width:0.3985;stroke-linecap:butt;stroke-linejoin:miter;stroke:rgb(0%,100%,0%);stroke-opacity:1;stroke-miterlimit:10;\" d=\"M -0.0000625 -5.774563 L -0.0000625 -78.805813 \" transform=\"matrix(1,0,0,-1,34.586,5.577)\"/>\n",
       "<path style=\"fill:none;stroke-width:0.31879;stroke-linecap:round;stroke-linejoin:round;stroke:rgb(0%,100%,0%);stroke-opacity:1;stroke-miterlimit:10;\" d=\"M -1.19526 1.593688 C -1.097604 0.996031 0.0000525 0.1015 0.296928 -0.0000625 C 0.0000525 -0.0977187 -1.097604 -0.996156 -1.19526 -1.593812 \" transform=\"matrix(0,1,1,0,34.586,84.38276)\"/>\n",
       "<g style=\"fill:rgb(0%,100%,0%);fill-opacity:1;\">\n",
       "  <use xlink:href=\"#glyph-1636526391308284-0-2\" x=\"38.106\" y=\"74.68\"/>\n",
       "</g>\n",
       "<path style=\"fill:none;stroke-width:0.3985;stroke-linecap:butt;stroke-linejoin:miter;stroke:rgb(0%,100%,0%);stroke-opacity:1;stroke-miterlimit:10;\" d=\"M -28.347719 -36.348781 L -28.347719 -49.442531 \" transform=\"matrix(1,0,0,-1,34.586,5.577)\"/>\n",
       "<path style=\"fill:none;stroke-width:0.31879;stroke-linecap:round;stroke-linejoin:round;stroke:rgb(0%,100%,0%);stroke-opacity:1;stroke-miterlimit:10;\" d=\"M -1.195531 1.592831 C -1.093969 0.995175 -0.00021875 0.100644 0.300562 -0.00091875 C -0.00021875 -0.098575 -1.093969 -0.997012 -1.195531 -1.594669 \" transform=\"matrix(0,1,1,0,6.2392,55.01975)\"/>\n",
       "<path style=\"fill:none;stroke-width:0.3985;stroke-linecap:butt;stroke-linejoin:miter;stroke:rgb(0%,100%,0%);stroke-opacity:1;stroke-miterlimit:10;\" d=\"M -21.906312 -63.133938 L -6.101625 -78.938625 \" transform=\"matrix(1,0,0,-1,34.586,5.577)\"/>\n",
       "<path style=\"fill:none;stroke-width:0.31879;stroke-linecap:round;stroke-linejoin:round;stroke:rgb(0%,100%,0%);stroke-opacity:1;stroke-miterlimit:10;\" d=\"M -1.197834 1.593881 C -1.095634 0.994492 -0.00181728 0.099551 0.296496 0.000113138 C -0.00181728 -0.0993247 -1.095634 -0.994265 -1.197834 -1.593655 \" transform=\"matrix(0.7071,0.7071,0.7071,-0.7071,28.48558,84.51699)\"/>\n",
       "<g style=\"fill:rgb(0%,0%,0%);fill-opacity:1;\">\n",
       "  <use xlink:href=\"#glyph-1636526391308284-0-3\" x=\"31.393\" y=\"7.724\"/>\n",
       "</g>\n",
       "<g style=\"fill:rgb(0%,0%,0%);fill-opacity:1;\">\n",
       "  <use xlink:href=\"#glyph-1636526391308284-0-4\" x=\"3.46\" y=\"36.473\"/>\n",
       "</g>\n",
       "<g style=\"fill:rgb(0%,0%,0%);fill-opacity:1;\">\n",
       "  <use xlink:href=\"#glyph-1636526391308284-0-5\" x=\"3.321\" y=\"63.4\"/>\n",
       "</g>\n",
       "<g style=\"fill:rgb(0%,0%,0%);fill-opacity:1;\">\n",
       "  <use xlink:href=\"#glyph-1636526391308284-0-3\" x=\"31.393\" y=\"92.763\"/>\n",
       "</g>\n",
       "</g>\n",
       "</svg>\n",
       "\n"
      ],
      "text/plain": [
       "TikzPicture(\"\\\\graph [layered layout, ] {\\n1/\\\"α\\\" [],\\n2/\\\"β\\\" [],\\n3/\\\"γ\\\" [],\\n4/\\\"α\\\" [],\\n;\\n1 -> [green,edge label={x},] 2;\\n1 -> [green,edge label={y},] 4;\\n2 -> [green,] 3;\\n3 -> [green,] 4;\\n};\\n\", \"\", \"\\\\usepackage{fontspec}\\n\\\\setmainfont{Latin Modern Math}\\n\\\\usetikzlibrary{arrows}\\n\\\\usetikzlibrary{graphs}\\n\\\\usetikzlibrary{graphdrawing}\\n\\n% from: https://tex.stackexchange.com/questions/453132/fresh-install-of-tl2018-no-tikz-graph-drawing-libraries-found\\n\\\\usepackage{luacode}\\n\\\\begin{luacode*}\\n\\tfunction pgf_lookup_and_require(name)\\n\\tlocal sep = package.config:sub(1,1)\\n\\tlocal function lookup(name)\\n\\tlocal sub = name:gsub('%.',sep)  \\n\\tif kpse.find_file(sub, 'lua') then\\n\\trequire(name)\\n\\telseif kpse.find_file(sub, 'clua') then\\n\\tcollectgarbage('stop') \\n\\trequire(name)\\n\\tcollectgarbage('restart')\\n\\telse\\n\\treturn false\\n\\tend\\n\\treturn true\\n\\tend\\n\\treturn\\n\\tlookup('pgf.gd.' .. name .. '.library') or\\n\\tlookup('pgf.gd.' .. name) or\\n\\tlookup(name .. '.library') or\\n\\tlookup(name) \\n\\tend\\n\\\\end{luacode*}\\n\\n\\\\usegdlibrary{layered}\", \"tikzpicture\", \"\", \"\", true, true)"
      ]
     },
     "execution_count": 12,
     "metadata": {},
     "output_type": "execute_result"
    }
   ],
   "source": [
    "TikzGraphs.plot(g, [\"α\", \"β\", \"γ\", \"α\"], edge_labels=Dict((1,2)=>\"x\", (1,4)=>\"y\"), edge_style=\"green\")"
   ]
  },
  {
   "cell_type": "markdown",
   "metadata": {},
   "source": [
    "You can overide the style for specific edges as specified by a dictionary."
   ]
  },
  {
   "cell_type": "code",
   "execution_count": 13,
   "metadata": {},
   "outputs": [
    {
     "data": {
      "image/svg+xml": [
       "<?xml version=\"1.0\" encoding=\"UTF-8\"?>\n",
       "<svg xmlns=\"http://www.w3.org/2000/svg\" xmlns:xlink=\"http://www.w3.org/1999/xlink\" width=\"46.258pt\" height=\"98.37pt\" viewBox=\"0 0 46.258 98.37\" version=\"1.1\">\n",
       "<defs>\n",
       "<g>\n",
       "<symbol overflow=\"visible\" id=\"glyph-1636526391308285-0-0\">\n",
       "<path style=\"stroke:none;\" d=\"\"/>\n",
       "</symbol>\n",
       "<symbol overflow=\"visible\" id=\"glyph-1636526391308285-0-1\">\n",
       "<path style=\"stroke:none;\" d=\"M 5.140625 0 L 5.140625 -0.3125 C 4.609375 -0.3125 4.421875 -0.328125 4.203125 -0.625 L 2.859375 -2.34375 C 3.15625 -2.71875 3.53125 -3.203125 3.78125 -3.46875 C 4.09375 -3.828125 4.5 -3.984375 4.96875 -3.984375 L 4.96875 -4.296875 C 4.703125 -4.28125 4.40625 -4.265625 4.140625 -4.265625 C 3.84375 -4.265625 3.3125 -4.28125 3.1875 -4.296875 L 3.1875 -3.984375 C 3.40625 -3.96875 3.484375 -3.84375 3.484375 -3.671875 C 3.484375 -3.515625 3.375 -3.390625 3.328125 -3.328125 L 2.71875 -2.546875 L 1.9375 -3.5625 C 1.84375 -3.65625 1.84375 -3.671875 1.84375 -3.734375 C 1.84375 -3.890625 2 -3.984375 2.1875 -3.984375 L 2.1875 -4.296875 L 1.109375 -4.265625 C 0.90625 -4.265625 0.4375 -4.28125 0.171875 -4.296875 L 0.171875 -3.984375 C 0.875 -3.984375 0.875 -3.984375 1.34375 -3.375 L 2.328125 -2.09375 C 1.859375 -1.5 1.859375 -1.46875 1.390625 -0.90625 C 0.921875 -0.328125 0.328125 -0.3125 0.125 -0.3125 L 0.125 0 C 0.375 -0.015625 0.6875 -0.03125 0.953125 -0.03125 L 1.890625 0 L 1.890625 -0.3125 C 1.671875 -0.34375 1.609375 -0.46875 1.609375 -0.625 C 1.609375 -0.84375 1.890625 -1.171875 2.5 -1.890625 L 3.265625 -0.890625 C 3.34375 -0.78125 3.46875 -0.625 3.46875 -0.5625 C 3.46875 -0.46875 3.375 -0.3125 3.109375 -0.3125 L 3.109375 0 L 4.1875 -0.03125 C 4.453125 -0.03125 4.84375 -0.015625 5.140625 0 Z M 5.140625 0 \"/>\n",
       "</symbol>\n",
       "<symbol overflow=\"visible\" id=\"glyph-1636526391308285-0-2\">\n",
       "<path style=\"stroke:none;\" d=\"M 5.0625 -3.984375 L 5.0625 -4.296875 C 4.828125 -4.28125 4.546875 -4.265625 4.3125 -4.265625 L 3.453125 -4.296875 L 3.453125 -3.984375 C 3.765625 -3.984375 3.921875 -3.8125 3.921875 -3.5625 C 3.921875 -3.453125 3.90625 -3.4375 3.859375 -3.3125 L 2.84375 -0.875 L 1.75 -3.546875 C 1.703125 -3.65625 1.6875 -3.6875 1.6875 -3.734375 C 1.6875 -3.984375 2.046875 -3.984375 2.25 -3.984375 L 2.25 -4.296875 L 1.15625 -4.265625 C 0.890625 -4.265625 0.484375 -4.28125 0.1875 -4.296875 L 0.1875 -3.984375 C 0.671875 -3.984375 0.859375 -3.984375 1 -3.640625 L 2.5 0 L 2.25 0.59375 C 2.03125 1.140625 1.75 1.828125 1.109375 1.828125 C 1.0625 1.828125 0.828125 1.828125 0.640625 1.640625 C 0.953125 1.609375 1.03125 1.390625 1.03125 1.21875 C 1.03125 0.96875 0.84375 0.8125 0.609375 0.8125 C 0.40625 0.8125 0.1875 0.9375 0.1875 1.234375 C 0.1875 1.6875 0.609375 2.046875 1.109375 2.046875 C 1.734375 2.046875 2.140625 1.46875 2.375 0.90625 L 4.140625 -3.34375 C 4.390625 -3.984375 4.90625 -3.984375 5.0625 -3.984375 Z M 5.0625 -3.984375 \"/>\n",
       "</symbol>\n",
       "<symbol overflow=\"visible\" id=\"glyph-1636526391308285-0-3\">\n",
       "<path style=\"stroke:none;\" d=\"M 4.171875 0 L 4.171875 -0.3125 L 3.859375 -0.3125 C 2.953125 -0.3125 2.9375 -0.421875 2.9375 -0.78125 L 2.9375 -6.375 C 2.9375 -6.625 2.9375 -6.640625 2.703125 -6.640625 C 2.078125 -6 1.203125 -6 0.890625 -6 L 0.890625 -5.6875 C 1.09375 -5.6875 1.671875 -5.6875 2.1875 -5.953125 L 2.1875 -0.78125 C 2.1875 -0.421875 2.15625 -0.3125 1.265625 -0.3125 L 0.953125 -0.3125 L 0.953125 0 C 1.296875 -0.03125 2.15625 -0.03125 2.5625 -0.03125 C 2.953125 -0.03125 3.828125 -0.03125 4.171875 0 Z M 4.171875 0 \"/>\n",
       "</symbol>\n",
       "<symbol overflow=\"visible\" id=\"glyph-1636526391308285-0-4\">\n",
       "<path style=\"stroke:none;\" d=\"M 4.46875 -1.734375 L 4.234375 -1.734375 C 4.171875 -1.4375 4.109375 -1 4 -0.84375 C 3.9375 -0.765625 3.28125 -0.765625 3.0625 -0.765625 L 1.265625 -0.765625 L 2.328125 -1.796875 C 3.875 -3.171875 4.46875 -3.703125 4.46875 -4.703125 C 4.46875 -5.84375 3.578125 -6.640625 2.359375 -6.640625 C 1.234375 -6.640625 0.5 -5.71875 0.5 -4.828125 C 0.5 -4.28125 1 -4.28125 1.03125 -4.28125 C 1.203125 -4.28125 1.546875 -4.390625 1.546875 -4.8125 C 1.546875 -5.0625 1.359375 -5.328125 1.015625 -5.328125 C 0.9375 -5.328125 0.921875 -5.328125 0.890625 -5.3125 C 1.109375 -5.96875 1.65625 -6.328125 2.234375 -6.328125 C 3.140625 -6.328125 3.5625 -5.515625 3.5625 -4.703125 C 3.5625 -3.90625 3.078125 -3.125 2.515625 -2.5 L 0.609375 -0.375 C 0.5 -0.265625 0.5 -0.234375 0.5 0 L 4.203125 0 Z M 4.46875 -1.734375 \"/>\n",
       "</symbol>\n",
       "<symbol overflow=\"visible\" id=\"glyph-1636526391308285-0-5\">\n",
       "<path style=\"stroke:none;\" d=\"M 4.5625 -1.703125 C 4.5625 -2.515625 3.921875 -3.296875 2.890625 -3.515625 C 3.703125 -3.78125 4.28125 -4.46875 4.28125 -5.265625 C 4.28125 -6.078125 3.40625 -6.640625 2.453125 -6.640625 C 1.453125 -6.640625 0.6875 -6.046875 0.6875 -5.28125 C 0.6875 -4.953125 0.90625 -4.765625 1.203125 -4.765625 C 1.5 -4.765625 1.703125 -4.984375 1.703125 -5.28125 C 1.703125 -5.765625 1.234375 -5.765625 1.09375 -5.765625 C 1.390625 -6.265625 2.046875 -6.390625 2.40625 -6.390625 C 2.828125 -6.390625 3.375 -6.171875 3.375 -5.28125 C 3.375 -5.15625 3.34375 -4.578125 3.09375 -4.140625 C 2.796875 -3.65625 2.453125 -3.625 2.203125 -3.625 C 2.125 -3.609375 1.890625 -3.59375 1.8125 -3.59375 C 1.734375 -3.578125 1.671875 -3.5625 1.671875 -3.46875 C 1.671875 -3.359375 1.734375 -3.359375 1.90625 -3.359375 L 2.34375 -3.359375 C 3.15625 -3.359375 3.53125 -2.6875 3.53125 -1.703125 C 3.53125 -0.34375 2.84375 -0.0625 2.40625 -0.0625 C 1.96875 -0.0625 1.21875 -0.234375 0.875 -0.8125 C 1.21875 -0.765625 1.53125 -0.984375 1.53125 -1.359375 C 1.53125 -1.71875 1.265625 -1.921875 0.984375 -1.921875 C 0.734375 -1.921875 0.421875 -1.78125 0.421875 -1.34375 C 0.421875 -0.4375 1.34375 0.21875 2.4375 0.21875 C 3.65625 0.21875 4.5625 -0.6875 4.5625 -1.703125 Z M 4.5625 -1.703125 \"/>\n",
       "</symbol>\n",
       "<symbol overflow=\"visible\" id=\"glyph-1636526391308285-0-6\">\n",
       "<path style=\"stroke:none;\" d=\"M 4.6875 -1.640625 L 4.6875 -1.953125 L 3.703125 -1.953125 L 3.703125 -6.484375 C 3.703125 -6.6875 3.703125 -6.75 3.53125 -6.75 C 3.453125 -6.75 3.421875 -6.75 3.34375 -6.625 L 0.28125 -1.953125 L 0.28125 -1.640625 L 2.9375 -1.640625 L 2.9375 -0.78125 C 2.9375 -0.421875 2.90625 -0.3125 2.171875 -0.3125 L 1.96875 -0.3125 L 1.96875 0 C 2.375 -0.03125 2.890625 -0.03125 3.3125 -0.03125 C 3.734375 -0.03125 4.25 -0.03125 4.671875 0 L 4.671875 -0.3125 L 4.453125 -0.3125 C 3.71875 -0.3125 3.703125 -0.421875 3.703125 -0.78125 L 3.703125 -1.640625 Z M 2.984375 -1.953125 L 0.5625 -1.953125 L 2.984375 -5.671875 Z M 2.984375 -1.953125 \"/>\n",
       "</symbol>\n",
       "</g>\n",
       "</defs>\n",
       "<g id=\"surface1\">\n",
       "<path style=\"fill:none;stroke-width:0.3985;stroke-linecap:butt;stroke-linejoin:miter;stroke:rgb(0%,0%,100%);stroke-opacity:1;stroke-miterlimit:10;\" d=\"M -6.009563 -6.010438 L -22.013469 -22.010438 \" transform=\"matrix(1,0,0,-1,34.158,6.638)\"/>\n",
       "<path style=\"fill:none;stroke-width:0.31879;stroke-linecap:round;stroke-linejoin:round;stroke:rgb(0%,0%,100%);stroke-opacity:1;stroke-miterlimit:10;\" d=\"M -1.19366 1.594386 C -1.096984 0.994997 -0.000405706 0.0972944 0.30067 0.000618724 C -0.000405706 -0.101581 -1.094222 -0.996522 -1.19366 -1.593149 \" transform=\"matrix(-0.7071,0.7071,0.7071,0.7071,12.14576,28.65024)\"/>\n",
       "<g style=\"fill:rgb(0%,0%,100%);fill-opacity:1;\">\n",
       "  <use xlink:href=\"#glyph-1636526391308285-0-1\" x=\"23.504\" y=\"28.625\"/>\n",
       "</g>\n",
       "<path style=\"fill:none;stroke-width:0.3985;stroke-linecap:butt;stroke-linejoin:miter;stroke:rgb(0%,100%,0%);stroke-opacity:1;stroke-miterlimit:10;\" d=\"M -0.00175 -6.838563 L -0.00175 -77.690125 \" transform=\"matrix(1,0,0,-1,34.158,6.638)\"/>\n",
       "<path style=\"fill:none;stroke-width:0.31879;stroke-linecap:round;stroke-linejoin:round;stroke:rgb(0%,100%,0%);stroke-opacity:1;stroke-miterlimit:10;\" d=\"M -1.195097 1.595906 C -1.097441 0.994344 0.000215 0.0998125 0.29709 -0.00175 C 0.000215 -0.0994063 -1.097441 -0.997844 -1.195097 -1.5955 \" transform=\"matrix(0,1,1,0,34.158,84.32791)\"/>\n",
       "<g style=\"fill:rgb(0%,100%,0%);fill-opacity:1;\">\n",
       "  <use xlink:href=\"#glyph-1636526391308285-0-2\" x=\"37.677\" y=\"75.184\"/>\n",
       "</g>\n",
       "<path style=\"fill:none;stroke-width:0.3985;stroke-linecap:butt;stroke-linejoin:miter;stroke:rgb(0%,100%,0%);stroke-opacity:1;stroke-miterlimit:10;\" d=\"M -28.3455 -35.182313 L -28.3455 -49.287781 \" transform=\"matrix(1,0,0,-1,34.158,6.638)\"/>\n",
       "<path style=\"fill:none;stroke-width:0.31879;stroke-linecap:round;stroke-linejoin:round;stroke:rgb(0%,100%,0%);stroke-opacity:1;stroke-miterlimit:10;\" d=\"M -1.195831 1.59505 C -1.094269 0.997394 -0.00051875 0.0989563 0.300263 0.0013 C -0.00051875 -0.100262 -1.094269 -0.994794 -1.195831 -1.59245 \" transform=\"matrix(0,1,1,0,5.8112,55.9263)\"/>\n",
       "<path style=\"fill:none;stroke-width:0.3985;stroke-linecap:butt;stroke-linejoin:miter;stroke:rgb(0%,100%,0%);stroke-opacity:1;stroke-miterlimit:10;\" d=\"M -22.337688 -62.70575 L -6.333781 -78.70575 \" transform=\"matrix(1,0,0,-1,34.158,6.638)\"/>\n",
       "<path style=\"fill:none;stroke-width:0.31879;stroke-linecap:round;stroke-linejoin:round;stroke:rgb(0%,100%,0%);stroke-opacity:1;stroke-miterlimit:10;\" d=\"M -1.19555 1.594389 C -1.096113 0.997762 0.000465811 0.100059 0.298779 0.000621376 C 0.000465811 -0.0988165 -1.096113 -0.996519 -1.19555 -1.593146 \" transform=\"matrix(0.7071,0.7071,0.7071,-0.7071,27.82345,85.34386)\"/>\n",
       "<g style=\"fill:rgb(0%,0%,0%);fill-opacity:1;\">\n",
       "  <use xlink:href=\"#glyph-1636526391308285-0-3\" x=\"31.667\" y=\"9.955\"/>\n",
       "</g>\n",
       "<g style=\"fill:rgb(0%,0%,0%);fill-opacity:1;\">\n",
       "  <use xlink:href=\"#glyph-1636526391308285-0-4\" x=\"3.321\" y=\"38.302\"/>\n",
       "</g>\n",
       "<g style=\"fill:rgb(0%,0%,0%);fill-opacity:1;\">\n",
       "  <use xlink:href=\"#glyph-1636526391308285-0-5\" x=\"3.321\" y=\"66.539\"/>\n",
       "</g>\n",
       "<g style=\"fill:rgb(0%,0%,0%);fill-opacity:1;\">\n",
       "  <use xlink:href=\"#glyph-1636526391308285-0-6\" x=\"31.667\" y=\"95.049\"/>\n",
       "</g>\n",
       "</g>\n",
       "</svg>\n",
       "\n"
      ],
      "text/plain": [
       "TikzPicture(\"\\\\graph [layered layout, ] {\\n1/\\\"1\\\" [],\\n2/\\\"2\\\" [],\\n3/\\\"3\\\" [],\\n4/\\\"4\\\" [],\\n;\\n1 -> [green,edge label={x},blue,] 2;\\n1 -> [green,edge label={y},] 4;\\n2 -> [green,] 3;\\n3 -> [green,] 4;\\n};\\n\", \"\", \"\\\\usepackage{fontspec}\\n\\\\setmainfont{Latin Modern Math}\\n\\\\usetikzlibrary{arrows}\\n\\\\usetikzlibrary{graphs}\\n\\\\usetikzlibrary{graphdrawing}\\n\\n% from: https://tex.stackexchange.com/questions/453132/fresh-install-of-tl2018-no-tikz-graph-drawing-libraries-found\\n\\\\usepackage{luacode}\\n\\\\begin{luacode*}\\n\\tfunction pgf_lookup_and_require(name)\\n\\tlocal sep = package.config:sub(1,1)\\n\\tlocal function lookup(name)\\n\\tlocal sub = name:gsub('%.',sep)  \\n\\tif kpse.find_file(sub, 'lua') then\\n\\trequire(name)\\n\\telseif kpse.find_file(sub, 'clua') then\\n\\tcollectgarbage('stop') \\n\\trequire(name)\\n\\tcollectgarbage('restart')\\n\\telse\\n\\treturn false\\n\\tend\\n\\treturn true\\n\\tend\\n\\treturn\\n\\tlookup('pgf.gd.' .. name .. '.library') or\\n\\tlookup('pgf.gd.' .. name) or\\n\\tlookup(name .. '.library') or\\n\\tlookup(name) \\n\\tend\\n\\\\end{luacode*}\\n\\n\\\\usegdlibrary{layered}\", \"tikzpicture\", \"\", \"\", true, true)"
      ]
     },
     "execution_count": 13,
     "metadata": {},
     "output_type": "execute_result"
    }
   ],
   "source": [
    "TikzGraphs.plot(g, edge_labels=Dict((1,2)=>\"x\", (1,4)=>\"y\"), edge_style=\"green\", edge_styles=Dict((1,2)=>\"blue\"))"
   ]
  },
  {
   "cell_type": "markdown",
   "metadata": {},
   "source": [
    "You can draw self-loop edges by specifying the edge style."
   ]
  },
  {
   "cell_type": "code",
   "execution_count": 14,
   "metadata": {},
   "outputs": [
    {
     "data": {
      "image/svg+xml": [
       "<?xml version=\"1.0\" encoding=\"UTF-8\"?>\n",
       "<svg xmlns=\"http://www.w3.org/2000/svg\" xmlns:xlink=\"http://www.w3.org/1999/xlink\" width=\"75.548pt\" height=\"99.421pt\" viewBox=\"0 0 75.548 99.421\" version=\"1.1\">\n",
       "<defs>\n",
       "<g>\n",
       "<symbol overflow=\"visible\" id=\"glyph-1636526391308286-0-0\">\n",
       "<path style=\"stroke:none;\" d=\"\"/>\n",
       "</symbol>\n",
       "<symbol overflow=\"visible\" id=\"glyph-1636526391308286-0-1\">\n",
       "<path style=\"stroke:none;\" d=\"M 5.140625 0 L 5.140625 -0.3125 C 4.609375 -0.3125 4.421875 -0.328125 4.203125 -0.625 L 2.859375 -2.34375 C 3.15625 -2.71875 3.53125 -3.203125 3.78125 -3.46875 C 4.09375 -3.828125 4.5 -3.984375 4.96875 -3.984375 L 4.96875 -4.296875 C 4.703125 -4.28125 4.40625 -4.265625 4.140625 -4.265625 C 3.84375 -4.265625 3.3125 -4.28125 3.1875 -4.296875 L 3.1875 -3.984375 C 3.40625 -3.96875 3.484375 -3.84375 3.484375 -3.671875 C 3.484375 -3.515625 3.375 -3.390625 3.328125 -3.328125 L 2.71875 -2.546875 L 1.9375 -3.5625 C 1.84375 -3.65625 1.84375 -3.671875 1.84375 -3.734375 C 1.84375 -3.890625 2 -3.984375 2.1875 -3.984375 L 2.1875 -4.296875 L 1.109375 -4.265625 C 0.90625 -4.265625 0.4375 -4.28125 0.171875 -4.296875 L 0.171875 -3.984375 C 0.875 -3.984375 0.875 -3.984375 1.34375 -3.375 L 2.328125 -2.09375 C 1.859375 -1.5 1.859375 -1.46875 1.390625 -0.90625 C 0.921875 -0.328125 0.328125 -0.3125 0.125 -0.3125 L 0.125 0 C 0.375 -0.015625 0.6875 -0.03125 0.953125 -0.03125 L 1.890625 0 L 1.890625 -0.3125 C 1.671875 -0.34375 1.609375 -0.46875 1.609375 -0.625 C 1.609375 -0.84375 1.890625 -1.171875 2.5 -1.890625 L 3.265625 -0.890625 C 3.34375 -0.78125 3.46875 -0.625 3.46875 -0.5625 C 3.46875 -0.46875 3.375 -0.3125 3.109375 -0.3125 L 3.109375 0 L 4.1875 -0.03125 C 4.453125 -0.03125 4.84375 -0.015625 5.140625 0 Z M 5.140625 0 \"/>\n",
       "</symbol>\n",
       "<symbol overflow=\"visible\" id=\"glyph-1636526391308286-0-2\">\n",
       "<path style=\"stroke:none;\" d=\"M 5.0625 -3.984375 L 5.0625 -4.296875 C 4.828125 -4.28125 4.546875 -4.265625 4.3125 -4.265625 L 3.453125 -4.296875 L 3.453125 -3.984375 C 3.765625 -3.984375 3.921875 -3.8125 3.921875 -3.5625 C 3.921875 -3.453125 3.90625 -3.4375 3.859375 -3.3125 L 2.84375 -0.875 L 1.75 -3.546875 C 1.703125 -3.65625 1.6875 -3.6875 1.6875 -3.734375 C 1.6875 -3.984375 2.046875 -3.984375 2.25 -3.984375 L 2.25 -4.296875 L 1.15625 -4.265625 C 0.890625 -4.265625 0.484375 -4.28125 0.1875 -4.296875 L 0.1875 -3.984375 C 0.671875 -3.984375 0.859375 -3.984375 1 -3.640625 L 2.5 0 L 2.25 0.59375 C 2.03125 1.140625 1.75 1.828125 1.109375 1.828125 C 1.0625 1.828125 0.828125 1.828125 0.640625 1.640625 C 0.953125 1.609375 1.03125 1.390625 1.03125 1.21875 C 1.03125 0.96875 0.84375 0.8125 0.609375 0.8125 C 0.40625 0.8125 0.1875 0.9375 0.1875 1.234375 C 0.1875 1.6875 0.609375 2.046875 1.109375 2.046875 C 1.734375 2.046875 2.140625 1.46875 2.375 0.90625 L 4.140625 -3.34375 C 4.390625 -3.984375 4.90625 -3.984375 5.0625 -3.984375 Z M 5.0625 -3.984375 \"/>\n",
       "</symbol>\n",
       "<symbol overflow=\"visible\" id=\"glyph-1636526391308286-0-3\">\n",
       "<path style=\"stroke:none;\" d=\"M 2.546875 0 L 2.546875 -0.3125 C 1.875 -0.3125 1.765625 -0.3125 1.765625 -0.75 L 1.765625 -6.921875 L 0.328125 -6.8125 L 0.328125 -6.5 C 1.03125 -6.5 1.109375 -6.4375 1.109375 -5.9375 L 1.109375 -0.75 C 1.109375 -0.3125 1 -0.3125 0.328125 -0.3125 L 0.328125 0 L 1.4375 -0.03125 Z M 2.546875 0 \"/>\n",
       "</symbol>\n",
       "<symbol overflow=\"visible\" id=\"glyph-1636526391308286-0-4\">\n",
       "<path style=\"stroke:none;\" d=\"M 4.6875 -2.140625 C 4.6875 -3.40625 3.703125 -4.46875 2.5 -4.46875 C 1.25 -4.46875 0.28125 -3.375 0.28125 -2.140625 C 0.28125 -0.84375 1.3125 0.109375 2.484375 0.109375 C 3.6875 0.109375 4.6875 -0.875 4.6875 -2.140625 Z M 3.875 -2.21875 C 3.875 -1.859375 3.875 -1.3125 3.65625 -0.875 C 3.421875 -0.421875 2.984375 -0.140625 2.5 -0.140625 C 2.0625 -0.140625 1.625 -0.34375 1.359375 -0.8125 C 1.109375 -1.25 1.109375 -1.859375 1.109375 -2.21875 C 1.109375 -2.609375 1.109375 -3.140625 1.34375 -3.578125 C 1.609375 -4.03125 2.078125 -4.25 2.484375 -4.25 C 2.921875 -4.25 3.34375 -4.03125 3.609375 -3.59375 C 3.875 -3.171875 3.875 -2.59375 3.875 -2.21875 Z M 3.875 -2.21875 \"/>\n",
       "</symbol>\n",
       "<symbol overflow=\"visible\" id=\"glyph-1636526391308286-0-5\">\n",
       "<path style=\"stroke:none;\" d=\"M 5.1875 -2.15625 C 5.1875 -3.421875 4.234375 -4.40625 3.109375 -4.40625 C 2.328125 -4.40625 1.90625 -3.96875 1.71875 -3.75 L 1.71875 -4.40625 L 0.28125 -4.296875 L 0.28125 -3.984375 C 0.984375 -3.984375 1.0625 -3.921875 1.0625 -3.484375 L 1.0625 1.171875 C 1.0625 1.625 0.953125 1.625 0.28125 1.625 L 0.28125 1.9375 L 1.390625 1.90625 L 2.515625 1.9375 L 2.515625 1.625 C 1.859375 1.625 1.75 1.625 1.75 1.171875 L 1.75 -0.59375 C 1.796875 -0.421875 2.21875 0.109375 2.96875 0.109375 C 4.15625 0.109375 5.1875 -0.875 5.1875 -2.15625 Z M 4.359375 -2.15625 C 4.359375 -0.953125 3.671875 -0.109375 2.9375 -0.109375 C 2.53125 -0.109375 2.15625 -0.3125 1.890625 -0.71875 C 1.75 -0.921875 1.75 -0.9375 1.75 -1.140625 L 1.75 -3.359375 C 2.03125 -3.875 2.515625 -4.15625 3.03125 -4.15625 C 3.765625 -4.15625 4.359375 -3.28125 4.359375 -2.15625 Z M 4.359375 -2.15625 \"/>\n",
       "</symbol>\n",
       "<symbol overflow=\"visible\" id=\"glyph-1636526391308286-0-6\">\n",
       "<path style=\"stroke:none;\" d=\"M 4.171875 0 L 4.171875 -0.3125 L 3.859375 -0.3125 C 2.953125 -0.3125 2.9375 -0.421875 2.9375 -0.78125 L 2.9375 -6.375 C 2.9375 -6.625 2.9375 -6.640625 2.703125 -6.640625 C 2.078125 -6 1.203125 -6 0.890625 -6 L 0.890625 -5.6875 C 1.09375 -5.6875 1.671875 -5.6875 2.1875 -5.953125 L 2.1875 -0.78125 C 2.1875 -0.421875 2.15625 -0.3125 1.265625 -0.3125 L 0.953125 -0.3125 L 0.953125 0 C 1.296875 -0.03125 2.15625 -0.03125 2.5625 -0.03125 C 2.953125 -0.03125 3.828125 -0.03125 4.171875 0 Z M 4.171875 0 \"/>\n",
       "</symbol>\n",
       "<symbol overflow=\"visible\" id=\"glyph-1636526391308286-0-7\">\n",
       "<path style=\"stroke:none;\" d=\"M 4.46875 -1.734375 L 4.234375 -1.734375 C 4.171875 -1.4375 4.109375 -1 4 -0.84375 C 3.9375 -0.765625 3.28125 -0.765625 3.0625 -0.765625 L 1.265625 -0.765625 L 2.328125 -1.796875 C 3.875 -3.171875 4.46875 -3.703125 4.46875 -4.703125 C 4.46875 -5.84375 3.578125 -6.640625 2.359375 -6.640625 C 1.234375 -6.640625 0.5 -5.71875 0.5 -4.828125 C 0.5 -4.28125 1 -4.28125 1.03125 -4.28125 C 1.203125 -4.28125 1.546875 -4.390625 1.546875 -4.8125 C 1.546875 -5.0625 1.359375 -5.328125 1.015625 -5.328125 C 0.9375 -5.328125 0.921875 -5.328125 0.890625 -5.3125 C 1.109375 -5.96875 1.65625 -6.328125 2.234375 -6.328125 C 3.140625 -6.328125 3.5625 -5.515625 3.5625 -4.703125 C 3.5625 -3.90625 3.078125 -3.125 2.515625 -2.5 L 0.609375 -0.375 C 0.5 -0.265625 0.5 -0.234375 0.5 0 L 4.203125 0 Z M 4.46875 -1.734375 \"/>\n",
       "</symbol>\n",
       "<symbol overflow=\"visible\" id=\"glyph-1636526391308286-0-8\">\n",
       "<path style=\"stroke:none;\" d=\"M 4.5625 -1.703125 C 4.5625 -2.515625 3.921875 -3.296875 2.890625 -3.515625 C 3.703125 -3.78125 4.28125 -4.46875 4.28125 -5.265625 C 4.28125 -6.078125 3.40625 -6.640625 2.453125 -6.640625 C 1.453125 -6.640625 0.6875 -6.046875 0.6875 -5.28125 C 0.6875 -4.953125 0.90625 -4.765625 1.203125 -4.765625 C 1.5 -4.765625 1.703125 -4.984375 1.703125 -5.28125 C 1.703125 -5.765625 1.234375 -5.765625 1.09375 -5.765625 C 1.390625 -6.265625 2.046875 -6.390625 2.40625 -6.390625 C 2.828125 -6.390625 3.375 -6.171875 3.375 -5.28125 C 3.375 -5.15625 3.34375 -4.578125 3.09375 -4.140625 C 2.796875 -3.65625 2.453125 -3.625 2.203125 -3.625 C 2.125 -3.609375 1.890625 -3.59375 1.8125 -3.59375 C 1.734375 -3.578125 1.671875 -3.5625 1.671875 -3.46875 C 1.671875 -3.359375 1.734375 -3.359375 1.90625 -3.359375 L 2.34375 -3.359375 C 3.15625 -3.359375 3.53125 -2.6875 3.53125 -1.703125 C 3.53125 -0.34375 2.84375 -0.0625 2.40625 -0.0625 C 1.96875 -0.0625 1.21875 -0.234375 0.875 -0.8125 C 1.21875 -0.765625 1.53125 -0.984375 1.53125 -1.359375 C 1.53125 -1.71875 1.265625 -1.921875 0.984375 -1.921875 C 0.734375 -1.921875 0.421875 -1.78125 0.421875 -1.34375 C 0.421875 -0.4375 1.34375 0.21875 2.4375 0.21875 C 3.65625 0.21875 4.5625 -0.6875 4.5625 -1.703125 Z M 4.5625 -1.703125 \"/>\n",
       "</symbol>\n",
       "<symbol overflow=\"visible\" id=\"glyph-1636526391308286-0-9\">\n",
       "<path style=\"stroke:none;\" d=\"M 4.6875 -1.640625 L 4.6875 -1.953125 L 3.703125 -1.953125 L 3.703125 -6.484375 C 3.703125 -6.6875 3.703125 -6.75 3.53125 -6.75 C 3.453125 -6.75 3.421875 -6.75 3.34375 -6.625 L 0.28125 -1.953125 L 0.28125 -1.640625 L 2.9375 -1.640625 L 2.9375 -0.78125 C 2.9375 -0.421875 2.90625 -0.3125 2.171875 -0.3125 L 1.96875 -0.3125 L 1.96875 0 C 2.375 -0.03125 2.890625 -0.03125 3.3125 -0.03125 C 3.734375 -0.03125 4.25 -0.03125 4.671875 0 L 4.671875 -0.3125 L 4.453125 -0.3125 C 3.71875 -0.3125 3.703125 -0.421875 3.703125 -0.78125 L 3.703125 -1.640625 Z M 2.984375 -1.953125 L 0.5625 -1.953125 L 2.984375 -5.671875 Z M 2.984375 -1.953125 \"/>\n",
       "</symbol>\n",
       "</g>\n",
       "<clipPath id=\"clip-1636526391308286-1\">\n",
       "  <path d=\"M 34 83 L 57 83 L 57 99.421875 L 34 99.421875 Z M 34 83 \"/>\n",
       "</clipPath>\n",
       "</defs>\n",
       "<g id=\"surface1\">\n",
       "<path style=\"fill:none;stroke-width:0.3985;stroke-linecap:butt;stroke-linejoin:miter;stroke:rgb(0%,0%,0%);stroke-opacity:1;stroke-miterlimit:10;\" d=\"M -6.009563 -6.010437 L -22.013469 -22.010437 \" transform=\"matrix(1,0,0,-1,34.158,6.638)\"/>\n",
       "<path style=\"fill:none;stroke-width:0.31879;stroke-linecap:round;stroke-linejoin:round;stroke:rgb(0%,0%,0%);stroke-opacity:1;stroke-miterlimit:10;\" d=\"M -1.19366 1.594386 C -1.096984 0.994997 -0.000405706 0.0972944 0.30067 0.000618724 C -0.000405706 -0.101581 -1.094222 -0.996522 -1.19366 -1.593149 \" transform=\"matrix(-0.7071,0.7071,0.7071,0.7071,12.14576,28.65024)\"/>\n",
       "<g style=\"fill:rgb(0%,0%,0%);fill-opacity:1;\">\n",
       "  <use xlink:href=\"#glyph-1636526391308286-0-1\" x=\"23.504\" y=\"28.625\"/>\n",
       "</g>\n",
       "<path style=\"fill:none;stroke-width:0.3985;stroke-linecap:butt;stroke-linejoin:miter;stroke:rgb(0%,0%,0%);stroke-opacity:1;stroke-miterlimit:10;\" d=\"M -0.00175 -6.838562 L -0.00175 -77.690125 \" transform=\"matrix(1,0,0,-1,34.158,6.638)\"/>\n",
       "<path style=\"fill:none;stroke-width:0.31879;stroke-linecap:round;stroke-linejoin:round;stroke:rgb(0%,0%,0%);stroke-opacity:1;stroke-miterlimit:10;\" d=\"M -1.195098 1.595906 C -1.097441 0.994344 0.000215 0.0998125 0.29709 -0.00175 C 0.000215 -0.0994063 -1.097441 -0.997844 -1.195098 -1.5955 \" transform=\"matrix(0,1,1,0,34.158,84.32791)\"/>\n",
       "<g style=\"fill:rgb(0%,0%,0%);fill-opacity:1;\">\n",
       "  <use xlink:href=\"#glyph-1636526391308286-0-2\" x=\"37.677\" y=\"75.184\"/>\n",
       "</g>\n",
       "<path style=\"fill:none;stroke-width:0.3985;stroke-linecap:butt;stroke-linejoin:miter;stroke:rgb(0%,0%,0%);stroke-opacity:1;stroke-miterlimit:10;\" d=\"M -28.3455 -35.182312 L -28.3455 -49.287781 \" transform=\"matrix(1,0,0,-1,34.158,6.638)\"/>\n",
       "<path style=\"fill:none;stroke-width:0.31879;stroke-linecap:round;stroke-linejoin:round;stroke:rgb(0%,0%,0%);stroke-opacity:1;stroke-miterlimit:10;\" d=\"M -1.195831 1.59505 C -1.094269 0.997394 -0.00051875 0.0989563 0.300262 0.0013 C -0.00051875 -0.100262 -1.094269 -0.994794 -1.195831 -1.59245 \" transform=\"matrix(0,1,1,0,5.8112,55.9263)\"/>\n",
       "<path style=\"fill:none;stroke-width:0.3985;stroke-linecap:butt;stroke-linejoin:miter;stroke:rgb(0%,0%,0%);stroke-opacity:1;stroke-miterlimit:10;\" d=\"M -22.337688 -62.70575 L -6.333781 -78.70575 \" transform=\"matrix(1,0,0,-1,34.158,6.638)\"/>\n",
       "<path style=\"fill:none;stroke-width:0.31879;stroke-linecap:round;stroke-linejoin:round;stroke:rgb(0%,0%,0%);stroke-opacity:1;stroke-miterlimit:10;\" d=\"M -1.19555 1.594389 C -1.096113 0.997762 0.000465811 0.100059 0.298779 0.000621376 C 0.000465811 -0.0988165 -1.096113 -0.996519 -1.19555 -1.593146 \" transform=\"matrix(0.7071,0.7071,0.7071,-0.7071,27.82345,85.34386)\"/>\n",
       "<g clip-path=\"url(#clip-1636526391308286-1)\" clip-rule=\"nonzero\">\n",
       "<path style=\"fill:none;stroke-width:0.3985;stroke-linecap:butt;stroke-linejoin:miter;stroke:rgb(0%,0%,0%);stroke-opacity:1;stroke-miterlimit:10;\" d=\"M 6.009969 -83.428406 C 19.701375 -79.760437 19.701375 -90.319031 7.416219 -87.026062 \" transform=\"matrix(1,0,0,-1,34.158,6.638)\"/>\n",
       "</g>\n",
       "<path style=\"fill:none;stroke-width:0.31879;stroke-linecap:round;stroke-linejoin:round;stroke:rgb(0%,0%,0%);stroke-opacity:1;stroke-miterlimit:10;\" d=\"M -1.196469 1.595034 C -1.096376 0.995026 0.000746365 0.10002 0.29803 0.00172986 C 0.00122926 -0.0980085 -1.097072 -0.994824 -1.195007 -1.595315 \" transform=\"matrix(-0.96593,-0.25879,-0.25879,0.96593,41.57348,93.6653)\"/>\n",
       "<g style=\"fill:rgb(0%,0%,0%);fill-opacity:1;\">\n",
       "  <use xlink:href=\"#glyph-1636526391308286-0-3\" x=\"53.956\" y=\"94.168\"/>\n",
       "  <use xlink:href=\"#glyph-1636526391308286-0-4\" x=\"56.725614\" y=\"94.168\"/>\n",
       "  <use xlink:href=\"#glyph-1636526391308286-0-4\" x=\"61.706934\" y=\"94.168\"/>\n",
       "  <use xlink:href=\"#glyph-1636526391308286-0-5\" x=\"66.688254\" y=\"94.168\"/>\n",
       "</g>\n",
       "<g style=\"fill:rgb(0%,0%,0%);fill-opacity:1;\">\n",
       "  <use xlink:href=\"#glyph-1636526391308286-0-6\" x=\"31.667\" y=\"9.955\"/>\n",
       "</g>\n",
       "<g style=\"fill:rgb(0%,0%,0%);fill-opacity:1;\">\n",
       "  <use xlink:href=\"#glyph-1636526391308286-0-7\" x=\"3.321\" y=\"38.302\"/>\n",
       "</g>\n",
       "<g style=\"fill:rgb(0%,0%,0%);fill-opacity:1;\">\n",
       "  <use xlink:href=\"#glyph-1636526391308286-0-8\" x=\"3.321\" y=\"66.539\"/>\n",
       "</g>\n",
       "<g style=\"fill:rgb(0%,0%,0%);fill-opacity:1;\">\n",
       "  <use xlink:href=\"#glyph-1636526391308286-0-9\" x=\"31.667\" y=\"95.049\"/>\n",
       "</g>\n",
       "</g>\n",
       "</svg>\n",
       "\n"
      ],
      "text/plain": [
       "TikzPicture(\"\\\\graph [layered layout, ] {\\n1/\\\"1\\\" [],\\n2/\\\"2\\\" [],\\n3/\\\"3\\\" [],\\n4/\\\"4\\\" [],\\n;\\n1 -> [,edge label={x},] 2;\\n1 -> [,edge label={y},] 4;\\n2 -> [,] 3;\\n3 -> [,] 4;\\n4 -> [,edge label={loop},loop right,] 4;\\n};\\n\", \"\", \"\\\\usepackage{fontspec}\\n\\\\setmainfont{Latin Modern Math}\\n\\\\usetikzlibrary{arrows}\\n\\\\usetikzlibrary{graphs}\\n\\\\usetikzlibrary{graphdrawing}\\n\\n% from: https://tex.stackexchange.com/questions/453132/fresh-install-of-tl2018-no-tikz-graph-drawing-libraries-found\\n\\\\usepackage{luacode}\\n\\\\begin{luacode*}\\n\\tfunction pgf_lookup_and_require(name)\\n\\tlocal sep = package.config:sub(1,1)\\n\\tlocal function lookup(name)\\n\\tlocal sub = name:gsub('%.',sep)  \\n\\tif kpse.find_file(sub, 'lua') then\\n\\trequire(name)\\n\\telseif kpse.find_file(sub, 'clua') then\\n\\tcollectgarbage('stop') \\n\\trequire(name)\\n\\tcollectgarbage('restart')\\n\\telse\\n\\treturn false\\n\\tend\\n\\treturn true\\n\\tend\\n\\treturn\\n\\tlookup('pgf.gd.' .. name .. '.library') or\\n\\tlookup('pgf.gd.' .. name) or\\n\\tlookup(name .. '.library') or\\n\\tlookup(name) \\n\\tend\\n\\\\end{luacode*}\\n\\n\\\\usegdlibrary{layered}\", \"tikzpicture\", \"\", \"\", true, true)"
      ]
     },
     "execution_count": 14,
     "metadata": {},
     "output_type": "execute_result"
    }
   ],
   "source": [
    "loop_g = deepcopy(g)\n",
    "add_edge!(loop_g, (4,4))\n",
    "TikzGraphs.plot(loop_g, edge_labels=Dict((1,2)=>\"x\", (1,4)=>\"y\", (4,4)=>\"loop\"), edge_styles=Dict((4,4)=>\"loop right\"))"
   ]
  },
  {
   "cell_type": "markdown",
   "metadata": {},
   "source": [
    "## Layouts"
   ]
  },
  {
   "cell_type": "markdown",
   "metadata": {},
   "source": [
    "You can use different layouts (currently just Layered [default], Spring, and SimpleNecklace are supported)."
   ]
  },
  {
   "cell_type": "code",
   "execution_count": 15,
   "metadata": {},
   "outputs": [
    {
     "data": {
      "image/svg+xml": [
       "<?xml version=\"1.0\" encoding=\"UTF-8\"?>\n",
       "<svg xmlns=\"http://www.w3.org/2000/svg\" xmlns:xlink=\"http://www.w3.org/1999/xlink\" width=\"39.969pt\" height=\"98.37pt\" viewBox=\"0 0 39.969 98.37\" version=\"1.1\">\n",
       "<defs>\n",
       "<g>\n",
       "<symbol overflow=\"visible\" id=\"glyph-1636526391308287-0-0\">\n",
       "<path style=\"stroke:none;\" d=\"\"/>\n",
       "</symbol>\n",
       "<symbol overflow=\"visible\" id=\"glyph-1636526391308287-0-1\">\n",
       "<path style=\"stroke:none;\" d=\"M 4.171875 0 L 4.171875 -0.3125 L 3.859375 -0.3125 C 2.953125 -0.3125 2.9375 -0.421875 2.9375 -0.78125 L 2.9375 -6.375 C 2.9375 -6.625 2.9375 -6.640625 2.703125 -6.640625 C 2.078125 -6 1.203125 -6 0.890625 -6 L 0.890625 -5.6875 C 1.09375 -5.6875 1.671875 -5.6875 2.1875 -5.953125 L 2.1875 -0.78125 C 2.1875 -0.421875 2.15625 -0.3125 1.265625 -0.3125 L 0.953125 -0.3125 L 0.953125 0 C 1.296875 -0.03125 2.15625 -0.03125 2.5625 -0.03125 C 2.953125 -0.03125 3.828125 -0.03125 4.171875 0 Z M 4.171875 0 \"/>\n",
       "</symbol>\n",
       "<symbol overflow=\"visible\" id=\"glyph-1636526391308287-0-2\">\n",
       "<path style=\"stroke:none;\" d=\"M 4.46875 -1.734375 L 4.234375 -1.734375 C 4.171875 -1.4375 4.109375 -1 4 -0.84375 C 3.9375 -0.765625 3.28125 -0.765625 3.0625 -0.765625 L 1.265625 -0.765625 L 2.328125 -1.796875 C 3.875 -3.171875 4.46875 -3.703125 4.46875 -4.703125 C 4.46875 -5.84375 3.578125 -6.640625 2.359375 -6.640625 C 1.234375 -6.640625 0.5 -5.71875 0.5 -4.828125 C 0.5 -4.28125 1 -4.28125 1.03125 -4.28125 C 1.203125 -4.28125 1.546875 -4.390625 1.546875 -4.8125 C 1.546875 -5.0625 1.359375 -5.328125 1.015625 -5.328125 C 0.9375 -5.328125 0.921875 -5.328125 0.890625 -5.3125 C 1.109375 -5.96875 1.65625 -6.328125 2.234375 -6.328125 C 3.140625 -6.328125 3.5625 -5.515625 3.5625 -4.703125 C 3.5625 -3.90625 3.078125 -3.125 2.515625 -2.5 L 0.609375 -0.375 C 0.5 -0.265625 0.5 -0.234375 0.5 0 L 4.203125 0 Z M 4.46875 -1.734375 \"/>\n",
       "</symbol>\n",
       "<symbol overflow=\"visible\" id=\"glyph-1636526391308287-0-3\">\n",
       "<path style=\"stroke:none;\" d=\"M 4.5625 -1.703125 C 4.5625 -2.515625 3.921875 -3.296875 2.890625 -3.515625 C 3.703125 -3.78125 4.28125 -4.46875 4.28125 -5.265625 C 4.28125 -6.078125 3.40625 -6.640625 2.453125 -6.640625 C 1.453125 -6.640625 0.6875 -6.046875 0.6875 -5.28125 C 0.6875 -4.953125 0.90625 -4.765625 1.203125 -4.765625 C 1.5 -4.765625 1.703125 -4.984375 1.703125 -5.28125 C 1.703125 -5.765625 1.234375 -5.765625 1.09375 -5.765625 C 1.390625 -6.265625 2.046875 -6.390625 2.40625 -6.390625 C 2.828125 -6.390625 3.375 -6.171875 3.375 -5.28125 C 3.375 -5.15625 3.34375 -4.578125 3.09375 -4.140625 C 2.796875 -3.65625 2.453125 -3.625 2.203125 -3.625 C 2.125 -3.609375 1.890625 -3.59375 1.8125 -3.59375 C 1.734375 -3.578125 1.671875 -3.5625 1.671875 -3.46875 C 1.671875 -3.359375 1.734375 -3.359375 1.90625 -3.359375 L 2.34375 -3.359375 C 3.15625 -3.359375 3.53125 -2.6875 3.53125 -1.703125 C 3.53125 -0.34375 2.84375 -0.0625 2.40625 -0.0625 C 1.96875 -0.0625 1.21875 -0.234375 0.875 -0.8125 C 1.21875 -0.765625 1.53125 -0.984375 1.53125 -1.359375 C 1.53125 -1.71875 1.265625 -1.921875 0.984375 -1.921875 C 0.734375 -1.921875 0.421875 -1.78125 0.421875 -1.34375 C 0.421875 -0.4375 1.34375 0.21875 2.4375 0.21875 C 3.65625 0.21875 4.5625 -0.6875 4.5625 -1.703125 Z M 4.5625 -1.703125 \"/>\n",
       "</symbol>\n",
       "<symbol overflow=\"visible\" id=\"glyph-1636526391308287-0-4\">\n",
       "<path style=\"stroke:none;\" d=\"M 4.6875 -1.640625 L 4.6875 -1.953125 L 3.703125 -1.953125 L 3.703125 -6.484375 C 3.703125 -6.6875 3.703125 -6.75 3.53125 -6.75 C 3.453125 -6.75 3.421875 -6.75 3.34375 -6.625 L 0.28125 -1.953125 L 0.28125 -1.640625 L 2.9375 -1.640625 L 2.9375 -0.78125 C 2.9375 -0.421875 2.90625 -0.3125 2.171875 -0.3125 L 1.96875 -0.3125 L 1.96875 0 C 2.375 -0.03125 2.890625 -0.03125 3.3125 -0.03125 C 3.734375 -0.03125 4.25 -0.03125 4.671875 0 L 4.671875 -0.3125 L 4.453125 -0.3125 C 3.71875 -0.3125 3.703125 -0.421875 3.703125 -0.78125 L 3.703125 -1.640625 Z M 2.984375 -1.953125 L 0.5625 -1.953125 L 2.984375 -5.671875 Z M 2.984375 -1.953125 \"/>\n",
       "</symbol>\n",
       "</g>\n",
       "</defs>\n",
       "<g id=\"surface1\">\n",
       "<path style=\"fill:none;stroke-width:0.3985;stroke-linecap:butt;stroke-linejoin:miter;stroke:rgb(0%,0%,0%);stroke-opacity:1;stroke-miterlimit:10;\" d=\"M -6.009563 -6.010438 L -22.013469 -22.010438 \" transform=\"matrix(1,0,0,-1,34.158,6.638)\"/>\n",
       "<path style=\"fill:none;stroke-width:0.31879;stroke-linecap:round;stroke-linejoin:round;stroke:rgb(0%,0%,0%);stroke-opacity:1;stroke-miterlimit:10;\" d=\"M -1.19366 1.594386 C -1.096984 0.994997 -0.000405706 0.0972944 0.30067 0.000618724 C -0.000405706 -0.101581 -1.094222 -0.996522 -1.19366 -1.593149 \" transform=\"matrix(-0.7071,0.7071,0.7071,0.7071,12.14576,28.65024)\"/>\n",
       "<path style=\"fill:none;stroke-width:0.3985;stroke-linecap:butt;stroke-linejoin:miter;stroke:rgb(0%,0%,0%);stroke-opacity:1;stroke-miterlimit:10;\" d=\"M -0.00175 -6.838563 L -0.00175 -77.690125 \" transform=\"matrix(1,0,0,-1,34.158,6.638)\"/>\n",
       "<path style=\"fill:none;stroke-width:0.31879;stroke-linecap:round;stroke-linejoin:round;stroke:rgb(0%,0%,0%);stroke-opacity:1;stroke-miterlimit:10;\" d=\"M -1.195097 1.595906 C -1.097441 0.994344 0.000215 0.0998125 0.29709 -0.00175 C 0.000215 -0.0994063 -1.097441 -0.997844 -1.195097 -1.5955 \" transform=\"matrix(0,1,1,0,34.158,84.32791)\"/>\n",
       "<path style=\"fill:none;stroke-width:0.3985;stroke-linecap:butt;stroke-linejoin:miter;stroke:rgb(0%,0%,0%);stroke-opacity:1;stroke-miterlimit:10;\" d=\"M -28.3455 -35.182313 L -28.3455 -49.287781 \" transform=\"matrix(1,0,0,-1,34.158,6.638)\"/>\n",
       "<path style=\"fill:none;stroke-width:0.31879;stroke-linecap:round;stroke-linejoin:round;stroke:rgb(0%,0%,0%);stroke-opacity:1;stroke-miterlimit:10;\" d=\"M -1.195831 1.59505 C -1.094269 0.997394 -0.00051875 0.0989563 0.300263 0.0013 C -0.00051875 -0.100262 -1.094269 -0.994794 -1.195831 -1.59245 \" transform=\"matrix(0,1,1,0,5.8112,55.9263)\"/>\n",
       "<path style=\"fill:none;stroke-width:0.3985;stroke-linecap:butt;stroke-linejoin:miter;stroke:rgb(0%,0%,0%);stroke-opacity:1;stroke-miterlimit:10;\" d=\"M -22.337688 -62.70575 L -6.333781 -78.70575 \" transform=\"matrix(1,0,0,-1,34.158,6.638)\"/>\n",
       "<path style=\"fill:none;stroke-width:0.31879;stroke-linecap:round;stroke-linejoin:round;stroke:rgb(0%,0%,0%);stroke-opacity:1;stroke-miterlimit:10;\" d=\"M -1.19555 1.594389 C -1.096113 0.997762 0.000465811 0.100059 0.298779 0.000621376 C 0.000465811 -0.0988165 -1.096113 -0.996519 -1.19555 -1.593146 \" transform=\"matrix(0.7071,0.7071,0.7071,-0.7071,27.82345,85.34386)\"/>\n",
       "<g style=\"fill:rgb(0%,0%,0%);fill-opacity:1;\">\n",
       "  <use xlink:href=\"#glyph-1636526391308287-0-1\" x=\"31.667\" y=\"9.955\"/>\n",
       "</g>\n",
       "<g style=\"fill:rgb(0%,0%,0%);fill-opacity:1;\">\n",
       "  <use xlink:href=\"#glyph-1636526391308287-0-2\" x=\"3.321\" y=\"38.302\"/>\n",
       "</g>\n",
       "<g style=\"fill:rgb(0%,0%,0%);fill-opacity:1;\">\n",
       "  <use xlink:href=\"#glyph-1636526391308287-0-3\" x=\"3.321\" y=\"66.539\"/>\n",
       "</g>\n",
       "<g style=\"fill:rgb(0%,0%,0%);fill-opacity:1;\">\n",
       "  <use xlink:href=\"#glyph-1636526391308287-0-4\" x=\"31.667\" y=\"95.049\"/>\n",
       "</g>\n",
       "</g>\n",
       "</svg>\n",
       "\n"
      ],
      "text/plain": [
       "TikzPicture(\"\\\\graph [layered layout, ] {\\n1/\\\"1\\\" [],\\n2/\\\"2\\\" [],\\n3/\\\"3\\\" [],\\n4/\\\"4\\\" [],\\n;\\n1 -> [,] 2;\\n1 -> [,] 4;\\n2 -> [,] 3;\\n3 -> [,] 4;\\n};\\n\", \"\", \"\\\\usepackage{fontspec}\\n\\\\setmainfont{Latin Modern Math}\\n\\\\usetikzlibrary{arrows}\\n\\\\usetikzlibrary{graphs}\\n\\\\usetikzlibrary{graphdrawing}\\n\\n% from: https://tex.stackexchange.com/questions/453132/fresh-install-of-tl2018-no-tikz-graph-drawing-libraries-found\\n\\\\usepackage{luacode}\\n\\\\begin{luacode*}\\n\\tfunction pgf_lookup_and_require(name)\\n\\tlocal sep = package.config:sub(1,1)\\n\\tlocal function lookup(name)\\n\\tlocal sub = name:gsub('%.',sep)  \\n\\tif kpse.find_file(sub, 'lua') then\\n\\trequire(name)\\n\\telseif kpse.find_file(sub, 'clua') then\\n\\tcollectgarbage('stop') \\n\\trequire(name)\\n\\tcollectgarbage('restart')\\n\\telse\\n\\treturn false\\n\\tend\\n\\treturn true\\n\\tend\\n\\treturn\\n\\tlookup('pgf.gd.' .. name .. '.library') or\\n\\tlookup('pgf.gd.' .. name) or\\n\\tlookup(name .. '.library') or\\n\\tlookup(name) \\n\\tend\\n\\\\end{luacode*}\\n\\n\\\\usegdlibrary{layered}\", \"tikzpicture\", \"\", \"\", true, true)"
      ]
     },
     "execution_count": 15,
     "metadata": {},
     "output_type": "execute_result"
    }
   ],
   "source": [
    "TikzGraphs.plot(g, Layouts.Layered())"
   ]
  },
  {
   "cell_type": "code",
   "execution_count": 16,
   "metadata": {},
   "outputs": [
    {
     "data": {
      "image/svg+xml": [
       "<?xml version=\"1.0\" encoding=\"UTF-8\"?>\n",
       "<svg xmlns=\"http://www.w3.org/2000/svg\" xmlns:xlink=\"http://www.w3.org/1999/xlink\" width=\"60.768pt\" height=\"38.174pt\" viewBox=\"0 0 60.768 38.174\" version=\"1.1\">\n",
       "<defs>\n",
       "<g>\n",
       "<symbol overflow=\"visible\" id=\"glyph-1636526391308288-0-0\">\n",
       "<path style=\"stroke:none;\" d=\"\"/>\n",
       "</symbol>\n",
       "<symbol overflow=\"visible\" id=\"glyph-1636526391308288-0-1\">\n",
       "<path style=\"stroke:none;\" d=\"M 4.171875 0 L 4.171875 -0.3125 L 3.859375 -0.3125 C 2.953125 -0.3125 2.9375 -0.421875 2.9375 -0.78125 L 2.9375 -6.375 C 2.9375 -6.625 2.9375 -6.640625 2.703125 -6.640625 C 2.078125 -6 1.203125 -6 0.890625 -6 L 0.890625 -5.6875 C 1.09375 -5.6875 1.671875 -5.6875 2.1875 -5.953125 L 2.1875 -0.78125 C 2.1875 -0.421875 2.15625 -0.3125 1.265625 -0.3125 L 0.953125 -0.3125 L 0.953125 0 C 1.296875 -0.03125 2.15625 -0.03125 2.5625 -0.03125 C 2.953125 -0.03125 3.828125 -0.03125 4.171875 0 Z M 4.171875 0 \"/>\n",
       "</symbol>\n",
       "<symbol overflow=\"visible\" id=\"glyph-1636526391308288-0-2\">\n",
       "<path style=\"stroke:none;\" d=\"M 4.46875 -1.734375 L 4.234375 -1.734375 C 4.171875 -1.4375 4.109375 -1 4 -0.84375 C 3.9375 -0.765625 3.28125 -0.765625 3.0625 -0.765625 L 1.265625 -0.765625 L 2.328125 -1.796875 C 3.875 -3.171875 4.46875 -3.703125 4.46875 -4.703125 C 4.46875 -5.84375 3.578125 -6.640625 2.359375 -6.640625 C 1.234375 -6.640625 0.5 -5.71875 0.5 -4.828125 C 0.5 -4.28125 1 -4.28125 1.03125 -4.28125 C 1.203125 -4.28125 1.546875 -4.390625 1.546875 -4.8125 C 1.546875 -5.0625 1.359375 -5.328125 1.015625 -5.328125 C 0.9375 -5.328125 0.921875 -5.328125 0.890625 -5.3125 C 1.109375 -5.96875 1.65625 -6.328125 2.234375 -6.328125 C 3.140625 -6.328125 3.5625 -5.515625 3.5625 -4.703125 C 3.5625 -3.90625 3.078125 -3.125 2.515625 -2.5 L 0.609375 -0.375 C 0.5 -0.265625 0.5 -0.234375 0.5 0 L 4.203125 0 Z M 4.46875 -1.734375 \"/>\n",
       "</symbol>\n",
       "<symbol overflow=\"visible\" id=\"glyph-1636526391308288-0-3\">\n",
       "<path style=\"stroke:none;\" d=\"M 4.5625 -1.703125 C 4.5625 -2.515625 3.921875 -3.296875 2.890625 -3.515625 C 3.703125 -3.78125 4.28125 -4.46875 4.28125 -5.265625 C 4.28125 -6.078125 3.40625 -6.640625 2.453125 -6.640625 C 1.453125 -6.640625 0.6875 -6.046875 0.6875 -5.28125 C 0.6875 -4.953125 0.90625 -4.765625 1.203125 -4.765625 C 1.5 -4.765625 1.703125 -4.984375 1.703125 -5.28125 C 1.703125 -5.765625 1.234375 -5.765625 1.09375 -5.765625 C 1.390625 -6.265625 2.046875 -6.390625 2.40625 -6.390625 C 2.828125 -6.390625 3.375 -6.171875 3.375 -5.28125 C 3.375 -5.15625 3.34375 -4.578125 3.09375 -4.140625 C 2.796875 -3.65625 2.453125 -3.625 2.203125 -3.625 C 2.125 -3.609375 1.890625 -3.59375 1.8125 -3.59375 C 1.734375 -3.578125 1.671875 -3.5625 1.671875 -3.46875 C 1.671875 -3.359375 1.734375 -3.359375 1.90625 -3.359375 L 2.34375 -3.359375 C 3.15625 -3.359375 3.53125 -2.6875 3.53125 -1.703125 C 3.53125 -0.34375 2.84375 -0.0625 2.40625 -0.0625 C 1.96875 -0.0625 1.21875 -0.234375 0.875 -0.8125 C 1.21875 -0.765625 1.53125 -0.984375 1.53125 -1.359375 C 1.53125 -1.71875 1.265625 -1.921875 0.984375 -1.921875 C 0.734375 -1.921875 0.421875 -1.78125 0.421875 -1.34375 C 0.421875 -0.4375 1.34375 0.21875 2.4375 0.21875 C 3.65625 0.21875 4.5625 -0.6875 4.5625 -1.703125 Z M 4.5625 -1.703125 \"/>\n",
       "</symbol>\n",
       "<symbol overflow=\"visible\" id=\"glyph-1636526391308288-0-4\">\n",
       "<path style=\"stroke:none;\" d=\"M 4.6875 -1.640625 L 4.6875 -1.953125 L 3.703125 -1.953125 L 3.703125 -6.484375 C 3.703125 -6.6875 3.703125 -6.75 3.53125 -6.75 C 3.453125 -6.75 3.421875 -6.75 3.34375 -6.625 L 0.28125 -1.953125 L 0.28125 -1.640625 L 2.9375 -1.640625 L 2.9375 -0.78125 C 2.9375 -0.421875 2.90625 -0.3125 2.171875 -0.3125 L 1.96875 -0.3125 L 1.96875 0 C 2.375 -0.03125 2.890625 -0.03125 3.3125 -0.03125 C 3.734375 -0.03125 4.25 -0.03125 4.671875 0 L 4.671875 -0.3125 L 4.453125 -0.3125 C 3.71875 -0.3125 3.703125 -0.421875 3.703125 -0.78125 L 3.703125 -1.640625 Z M 2.984375 -1.953125 L 0.5625 -1.953125 L 2.984375 -5.671875 Z M 2.984375 -1.953125 \"/>\n",
       "</symbol>\n",
       "</g>\n",
       "</defs>\n",
       "<g id=\"surface1\">\n",
       "<path style=\"fill:none;stroke-width:0.3985;stroke-linecap:butt;stroke-linejoin:miter;stroke:rgb(0%,0%,0%);stroke-opacity:1;stroke-miterlimit:10;\" d=\"M 0.00003125 -6.838563 L 0.00003125 -17.385438 \" transform=\"matrix(1,0,0,-1,54.957,6.638)\"/>\n",
       "<path style=\"fill:none;stroke-width:0.31879;stroke-linecap:round;stroke-linejoin:round;stroke:rgb(0%,0%,0%);stroke-opacity:1;stroke-miterlimit:10;\" d=\"M -1.195575 1.593781 C -1.094012 0.996125 -0.0002625 0.0976875 0.300519 0.00003125 C -0.0002625 -0.101531 -1.094012 -0.996062 -1.195575 -1.593719 \" transform=\"matrix(0,1,1,0,54.957,24.0237)\"/>\n",
       "<path style=\"fill:none;stroke-width:0.3985;stroke-linecap:butt;stroke-linejoin:miter;stroke:rgb(0%,0%,0%);stroke-opacity:1;stroke-miterlimit:10;\" d=\"M -6.011687 -3.053406 L -42.484344 -21.58075 \" transform=\"matrix(1,0,0,-1,54.957,6.638)\"/>\n",
       "<path style=\"fill:none;stroke-width:0.31879;stroke-linecap:round;stroke-linejoin:round;stroke:rgb(0%,0%,0%);stroke-opacity:1;stroke-miterlimit:10;\" d=\"M -1.195086 1.595725 C -1.095829 0.997613 -0.000942214 0.0996495 0.298907 -0.000096897 C -0.000455116 -0.0977661 -1.096322 -0.995725 -1.194481 -1.594323 \" transform=\"matrix(-0.89153,0.4529,0.4529,0.89153,12.47356,28.22018)\"/>\n",
       "<path style=\"fill:none;stroke-width:0.3985;stroke-linecap:butt;stroke-linejoin:miter;stroke:rgb(0%,0%,0%);stroke-opacity:1;stroke-miterlimit:10;\" d=\"M -6.011687 -21.701844 L -42.726531 -3.506531 \" transform=\"matrix(1,0,0,-1,54.957,6.638)\"/>\n",
       "<path style=\"fill:none;stroke-width:0.31879;stroke-linecap:round;stroke-linejoin:round;stroke:rgb(0%,0%,0%);stroke-opacity:1;stroke-miterlimit:10;\" d=\"M -1.194588 1.59493 C -1.093633 0.995337 0.000338087 0.0987277 0.298727 -0.00190936 C -0.00210732 -0.0986796 -1.095444 -0.998033 -1.197132 -1.593415 \" transform=\"matrix(-0.89595,-0.44402,-0.44402,0.89595,12.23164,10.14607)\"/>\n",
       "<path style=\"fill:none;stroke-width:0.3985;stroke-linecap:butt;stroke-linejoin:miter;stroke:rgb(0%,0%,0%);stroke-opacity:1;stroke-miterlimit:10;\" d=\"M -49.078094 -7.272156 L -48.976531 -17.490906 \" transform=\"matrix(1,0,0,-1,54.957,6.638)\"/>\n",
       "<path style=\"fill:none;stroke-width:0.31879;stroke-linecap:round;stroke-linejoin:round;stroke:rgb(0%,0%,0%);stroke-opacity:1;stroke-miterlimit:10;\" d=\"M -1.196977 1.593213 C -1.097456 0.994513 -0.000781775 0.100708 0.299025 0.0000597066 C 0.00114205 -0.0985477 -1.097749 -0.997851 -1.197445 -1.594569 \" transform=\"matrix(0.00995,0.99991,0.99991,-0.00995,5.98134,24.13069)\"/>\n",
       "<g style=\"fill:rgb(0%,0%,0%);fill-opacity:1;\">\n",
       "  <use xlink:href=\"#glyph-1636526391308288-0-1\" x=\"52.466\" y=\"9.956\"/>\n",
       "</g>\n",
       "<g style=\"fill:rgb(0%,0%,0%);fill-opacity:1;\">\n",
       "  <use xlink:href=\"#glyph-1636526391308288-0-2\" x=\"52.466\" y=\"34.637\"/>\n",
       "</g>\n",
       "<g style=\"fill:rgb(0%,0%,0%);fill-opacity:1;\">\n",
       "  <use xlink:href=\"#glyph-1636526391308288-0-3\" x=\"3.321\" y=\"10.172\"/>\n",
       "</g>\n",
       "<g style=\"fill:rgb(0%,0%,0%);fill-opacity:1;\">\n",
       "  <use xlink:href=\"#glyph-1636526391308288-0-4\" x=\"3.564\" y=\"34.853\"/>\n",
       "</g>\n",
       "</g>\n",
       "</svg>\n",
       "\n"
      ],
      "text/plain": [
       "TikzPicture(\"\\\\graph [spring layout, random seed = 42,] {\\n1/\\\"1\\\" [],\\n2/\\\"2\\\" [],\\n3/\\\"3\\\" [],\\n4/\\\"4\\\" [],\\n;\\n1 -> [,] 2;\\n1 -> [,] 4;\\n2 -> [,] 3;\\n3 -> [,] 4;\\n};\\n\", \"\", \"\\\\usepackage{fontspec}\\n\\\\setmainfont{Latin Modern Math}\\n\\\\usetikzlibrary{arrows}\\n\\\\usetikzlibrary{graphs}\\n\\\\usetikzlibrary{graphdrawing}\\n\\n% from: https://tex.stackexchange.com/questions/453132/fresh-install-of-tl2018-no-tikz-graph-drawing-libraries-found\\n\\\\usepackage{luacode}\\n\\\\begin{luacode*}\\n\\tfunction pgf_lookup_and_require(name)\\n\\tlocal sep = package.config:sub(1,1)\\n\\tlocal function lookup(name)\\n\\tlocal sub = name:gsub('%.',sep)  \\n\\tif kpse.find_file(sub, 'lua') then\\n\\trequire(name)\\n\\telseif kpse.find_file(sub, 'clua') then\\n\\tcollectgarbage('stop') \\n\\trequire(name)\\n\\tcollectgarbage('restart')\\n\\telse\\n\\treturn false\\n\\tend\\n\\treturn true\\n\\tend\\n\\treturn\\n\\tlookup('pgf.gd.' .. name .. '.library') or\\n\\tlookup('pgf.gd.' .. name) or\\n\\tlookup(name .. '.library') or\\n\\tlookup(name) \\n\\tend\\n\\\\end{luacode*}\\n\\n\\\\usegdlibrary{force}\", \"tikzpicture\", \"\", \"\", true, true)"
      ]
     },
     "execution_count": 16,
     "metadata": {},
     "output_type": "execute_result"
    }
   ],
   "source": [
    "TikzGraphs.plot(g, Layouts.Spring())"
   ]
  },
  {
   "cell_type": "markdown",
   "metadata": {},
   "source": [
    "You can set the random seed for the Spring layout."
   ]
  },
  {
   "cell_type": "code",
   "execution_count": 17,
   "metadata": {},
   "outputs": [
    {
     "data": {
      "image/svg+xml": [
       "<?xml version=\"1.0\" encoding=\"UTF-8\"?>\n",
       "<svg xmlns=\"http://www.w3.org/2000/svg\" xmlns:xlink=\"http://www.w3.org/1999/xlink\" width=\"60.819pt\" height=\"38.003pt\" viewBox=\"0 0 60.819 38.003\" version=\"1.1\">\n",
       "<defs>\n",
       "<g>\n",
       "<symbol overflow=\"visible\" id=\"glyph-1636526391308289-0-0\">\n",
       "<path style=\"stroke:none;\" d=\"\"/>\n",
       "</symbol>\n",
       "<symbol overflow=\"visible\" id=\"glyph-1636526391308289-0-1\">\n",
       "<path style=\"stroke:none;\" d=\"M 4.171875 0 L 4.171875 -0.3125 L 3.859375 -0.3125 C 2.953125 -0.3125 2.9375 -0.421875 2.9375 -0.78125 L 2.9375 -6.375 C 2.9375 -6.625 2.9375 -6.640625 2.703125 -6.640625 C 2.078125 -6 1.203125 -6 0.890625 -6 L 0.890625 -5.6875 C 1.09375 -5.6875 1.671875 -5.6875 2.1875 -5.953125 L 2.1875 -0.78125 C 2.1875 -0.421875 2.15625 -0.3125 1.265625 -0.3125 L 0.953125 -0.3125 L 0.953125 0 C 1.296875 -0.03125 2.15625 -0.03125 2.5625 -0.03125 C 2.953125 -0.03125 3.828125 -0.03125 4.171875 0 Z M 4.171875 0 \"/>\n",
       "</symbol>\n",
       "<symbol overflow=\"visible\" id=\"glyph-1636526391308289-0-2\">\n",
       "<path style=\"stroke:none;\" d=\"M 4.46875 -1.734375 L 4.234375 -1.734375 C 4.171875 -1.4375 4.109375 -1 4 -0.84375 C 3.9375 -0.765625 3.28125 -0.765625 3.0625 -0.765625 L 1.265625 -0.765625 L 2.328125 -1.796875 C 3.875 -3.171875 4.46875 -3.703125 4.46875 -4.703125 C 4.46875 -5.84375 3.578125 -6.640625 2.359375 -6.640625 C 1.234375 -6.640625 0.5 -5.71875 0.5 -4.828125 C 0.5 -4.28125 1 -4.28125 1.03125 -4.28125 C 1.203125 -4.28125 1.546875 -4.390625 1.546875 -4.8125 C 1.546875 -5.0625 1.359375 -5.328125 1.015625 -5.328125 C 0.9375 -5.328125 0.921875 -5.328125 0.890625 -5.3125 C 1.109375 -5.96875 1.65625 -6.328125 2.234375 -6.328125 C 3.140625 -6.328125 3.5625 -5.515625 3.5625 -4.703125 C 3.5625 -3.90625 3.078125 -3.125 2.515625 -2.5 L 0.609375 -0.375 C 0.5 -0.265625 0.5 -0.234375 0.5 0 L 4.203125 0 Z M 4.46875 -1.734375 \"/>\n",
       "</symbol>\n",
       "<symbol overflow=\"visible\" id=\"glyph-1636526391308289-0-3\">\n",
       "<path style=\"stroke:none;\" d=\"M 4.5625 -1.703125 C 4.5625 -2.515625 3.921875 -3.296875 2.890625 -3.515625 C 3.703125 -3.78125 4.28125 -4.46875 4.28125 -5.265625 C 4.28125 -6.078125 3.40625 -6.640625 2.453125 -6.640625 C 1.453125 -6.640625 0.6875 -6.046875 0.6875 -5.28125 C 0.6875 -4.953125 0.90625 -4.765625 1.203125 -4.765625 C 1.5 -4.765625 1.703125 -4.984375 1.703125 -5.28125 C 1.703125 -5.765625 1.234375 -5.765625 1.09375 -5.765625 C 1.390625 -6.265625 2.046875 -6.390625 2.40625 -6.390625 C 2.828125 -6.390625 3.375 -6.171875 3.375 -5.28125 C 3.375 -5.15625 3.34375 -4.578125 3.09375 -4.140625 C 2.796875 -3.65625 2.453125 -3.625 2.203125 -3.625 C 2.125 -3.609375 1.890625 -3.59375 1.8125 -3.59375 C 1.734375 -3.578125 1.671875 -3.5625 1.671875 -3.46875 C 1.671875 -3.359375 1.734375 -3.359375 1.90625 -3.359375 L 2.34375 -3.359375 C 3.15625 -3.359375 3.53125 -2.6875 3.53125 -1.703125 C 3.53125 -0.34375 2.84375 -0.0625 2.40625 -0.0625 C 1.96875 -0.0625 1.21875 -0.234375 0.875 -0.8125 C 1.21875 -0.765625 1.53125 -0.984375 1.53125 -1.359375 C 1.53125 -1.71875 1.265625 -1.921875 0.984375 -1.921875 C 0.734375 -1.921875 0.421875 -1.78125 0.421875 -1.34375 C 0.421875 -0.4375 1.34375 0.21875 2.4375 0.21875 C 3.65625 0.21875 4.5625 -0.6875 4.5625 -1.703125 Z M 4.5625 -1.703125 \"/>\n",
       "</symbol>\n",
       "<symbol overflow=\"visible\" id=\"glyph-1636526391308289-0-4\">\n",
       "<path style=\"stroke:none;\" d=\"M 4.6875 -1.640625 L 4.6875 -1.953125 L 3.703125 -1.953125 L 3.703125 -6.484375 C 3.703125 -6.6875 3.703125 -6.75 3.53125 -6.75 C 3.453125 -6.75 3.421875 -6.75 3.34375 -6.625 L 0.28125 -1.953125 L 0.28125 -1.640625 L 2.9375 -1.640625 L 2.9375 -0.78125 C 2.9375 -0.421875 2.90625 -0.3125 2.171875 -0.3125 L 1.96875 -0.3125 L 1.96875 0 C 2.375 -0.03125 2.890625 -0.03125 3.3125 -0.03125 C 3.734375 -0.03125 4.25 -0.03125 4.671875 0 L 4.671875 -0.3125 L 4.453125 -0.3125 C 3.71875 -0.3125 3.703125 -0.421875 3.703125 -0.78125 L 3.703125 -1.640625 Z M 2.984375 -1.953125 L 0.5625 -1.953125 L 2.984375 -5.671875 Z M 2.984375 -1.953125 \"/>\n",
       "</symbol>\n",
       "</g>\n",
       "</defs>\n",
       "<g id=\"surface1\">\n",
       "<path style=\"fill:none;stroke-width:0.3985;stroke-linecap:butt;stroke-linejoin:miter;stroke:rgb(0%,0%,0%);stroke-opacity:1;stroke-miterlimit:10;\" d=\"M -0.0001875 -6.838594 L -0.0001875 -17.350312 \" transform=\"matrix(1,0,0,-1,55.008,6.72)\"/>\n",
       "<path style=\"fill:none;stroke-width:0.31879;stroke-linecap:round;stroke-linejoin:round;stroke:rgb(0%,0%,0%);stroke-opacity:1;stroke-miterlimit:10;\" d=\"M -1.19429 1.593562 C -1.096634 0.995906 0.0010225 0.101375 0.297897 -0.0001875 C 0.0010225 -0.0978438 -1.096634 -0.996281 -1.19429 -1.593938 \" transform=\"matrix(0,1,1,0,55.008,24.06929)\"/>\n",
       "<path style=\"fill:none;stroke-width:0.3985;stroke-linecap:butt;stroke-linejoin:miter;stroke:rgb(0%,0%,0%);stroke-opacity:1;stroke-miterlimit:10;\" d=\"M -6.011906 -3.002656 L -42.777531 -21.381562 \" transform=\"matrix(1,0,0,-1,55.008,6.72)\"/>\n",
       "<path style=\"fill:none;stroke-width:0.31879;stroke-linecap:round;stroke-linejoin:round;stroke:rgb(0%,0%,0%);stroke-opacity:1;stroke-miterlimit:10;\" d=\"M -1.194265 1.594627 C -1.096323 0.995403 0.00099108 0.0976108 0.298008 0.00157563 C -0.000720974 -0.0980602 -1.095967 -0.996245 -1.193695 -1.593756 \" transform=\"matrix(-0.89444,0.44702,0.44702,0.89444,12.23069,28.09975)\"/>\n",
       "<path style=\"fill:none;stroke-width:0.3985;stroke-linecap:butt;stroke-linejoin:miter;stroke:rgb(0%,0%,0%);stroke-opacity:1;stroke-miterlimit:10;\" d=\"M -6.011906 -21.62375 L -42.582219 -3.252656 \" transform=\"matrix(1,0,0,-1,55.008,6.72)\"/>\n",
       "<path style=\"fill:none;stroke-width:0.31879;stroke-linecap:round;stroke-linejoin:round;stroke:rgb(0%,0%,0%);stroke-opacity:1;stroke-miterlimit:10;\" d=\"M -1.194074 1.595152 C -1.095094 0.997852 -0.00146918 0.100223 0.297465 0.00121533 C -0.0010837 -0.100686 -1.094763 -0.995524 -1.196692 -1.593208 \" transform=\"matrix(-0.89351,-0.4489,-0.4489,0.89351,12.42649,9.97229)\"/>\n",
       "<path style=\"fill:none;stroke-width:0.3985;stroke-linecap:butt;stroke-linejoin:miter;stroke:rgb(0%,0%,0%);stroke-opacity:1;stroke-miterlimit:10;\" d=\"M -49.058781 -6.975312 L -49.140813 -17.237031 \" transform=\"matrix(1,0,0,-1,55.008,6.72)\"/>\n",
       "<path style=\"fill:none;stroke-width:0.31879;stroke-linecap:round;stroke-linejoin:round;stroke:rgb(0%,0%,0%);stroke-opacity:1;stroke-miterlimit:10;\" d=\"M -1.193644 1.594259 C -1.095123 0.997341 -0.00193485 0.0997425 0.299662 0.000578848 C -0.000344931 -0.0994795 -1.094849 -0.995004 -1.195549 -1.593512 \" transform=\"matrix(-0.00798,0.99992,0.99992,0.00798,5.869,23.95817)\"/>\n",
       "<g style=\"fill:rgb(0%,0%,0%);fill-opacity:1;\">\n",
       "  <use xlink:href=\"#glyph-1636526391308289-0-1\" x=\"52.518\" y=\"10.038\"/>\n",
       "</g>\n",
       "<g style=\"fill:rgb(0%,0%,0%);fill-opacity:1;\">\n",
       "  <use xlink:href=\"#glyph-1636526391308289-0-2\" x=\"52.518\" y=\"34.682\"/>\n",
       "</g>\n",
       "<g style=\"fill:rgb(0%,0%,0%);fill-opacity:1;\">\n",
       "  <use xlink:href=\"#glyph-1636526391308289-0-3\" x=\"3.517\" y=\"9.955\"/>\n",
       "</g>\n",
       "<g style=\"fill:rgb(0%,0%,0%);fill-opacity:1;\">\n",
       "  <use xlink:href=\"#glyph-1636526391308289-0-4\" x=\"3.321\" y=\"34.681\"/>\n",
       "</g>\n",
       "</g>\n",
       "</svg>\n",
       "\n"
      ],
      "text/plain": [
       "TikzPicture(\"\\\\graph [spring layout, random seed = 52,] {\\n1/\\\"1\\\" [],\\n2/\\\"2\\\" [],\\n3/\\\"3\\\" [],\\n4/\\\"4\\\" [],\\n;\\n1 -> [,] 2;\\n1 -> [,] 4;\\n2 -> [,] 3;\\n3 -> [,] 4;\\n};\\n\", \"\", \"\\\\usepackage{fontspec}\\n\\\\setmainfont{Latin Modern Math}\\n\\\\usetikzlibrary{arrows}\\n\\\\usetikzlibrary{graphs}\\n\\\\usetikzlibrary{graphdrawing}\\n\\n% from: https://tex.stackexchange.com/questions/453132/fresh-install-of-tl2018-no-tikz-graph-drawing-libraries-found\\n\\\\usepackage{luacode}\\n\\\\begin{luacode*}\\n\\tfunction pgf_lookup_and_require(name)\\n\\tlocal sep = package.config:sub(1,1)\\n\\tlocal function lookup(name)\\n\\tlocal sub = name:gsub('%.',sep)  \\n\\tif kpse.find_file(sub, 'lua') then\\n\\trequire(name)\\n\\telseif kpse.find_file(sub, 'clua') then\\n\\tcollectgarbage('stop') \\n\\trequire(name)\\n\\tcollectgarbage('restart')\\n\\telse\\n\\treturn false\\n\\tend\\n\\treturn true\\n\\tend\\n\\treturn\\n\\tlookup('pgf.gd.' .. name .. '.library') or\\n\\tlookup('pgf.gd.' .. name) or\\n\\tlookup(name .. '.library') or\\n\\tlookup(name) \\n\\tend\\n\\\\end{luacode*}\\n\\n\\\\usegdlibrary{force}\", \"tikzpicture\", \"\", \"\", true, true)"
      ]
     },
     "execution_count": 17,
     "metadata": {},
     "output_type": "execute_result"
    }
   ],
   "source": [
    "TikzGraphs.plot(g, Layouts.Spring(randomSeed=52))"
   ]
  },
  {
   "cell_type": "code",
   "execution_count": 18,
   "metadata": {},
   "outputs": [
    {
     "data": {
      "image/svg+xml": [
       "<?xml version=\"1.0\" encoding=\"UTF-8\"?>\n",
       "<svg xmlns=\"http://www.w3.org/2000/svg\" xmlns:xlink=\"http://www.w3.org/1999/xlink\" width=\"47.714pt\" height=\"49.478pt\" viewBox=\"0 0 47.714 49.478\" version=\"1.1\">\n",
       "<defs>\n",
       "<g>\n",
       "<symbol overflow=\"visible\" id=\"glyph-1636526391308290-0-0\">\n",
       "<path style=\"stroke:none;\" d=\"\"/>\n",
       "</symbol>\n",
       "<symbol overflow=\"visible\" id=\"glyph-1636526391308290-0-1\">\n",
       "<path style=\"stroke:none;\" d=\"M 4.171875 0 L 4.171875 -0.3125 L 3.859375 -0.3125 C 2.953125 -0.3125 2.9375 -0.421875 2.9375 -0.78125 L 2.9375 -6.375 C 2.9375 -6.625 2.9375 -6.640625 2.703125 -6.640625 C 2.078125 -6 1.203125 -6 0.890625 -6 L 0.890625 -5.6875 C 1.09375 -5.6875 1.671875 -5.6875 2.1875 -5.953125 L 2.1875 -0.78125 C 2.1875 -0.421875 2.15625 -0.3125 1.265625 -0.3125 L 0.953125 -0.3125 L 0.953125 0 C 1.296875 -0.03125 2.15625 -0.03125 2.5625 -0.03125 C 2.953125 -0.03125 3.828125 -0.03125 4.171875 0 Z M 4.171875 0 \"/>\n",
       "</symbol>\n",
       "<symbol overflow=\"visible\" id=\"glyph-1636526391308290-0-2\">\n",
       "<path style=\"stroke:none;\" d=\"M 4.46875 -1.734375 L 4.234375 -1.734375 C 4.171875 -1.4375 4.109375 -1 4 -0.84375 C 3.9375 -0.765625 3.28125 -0.765625 3.0625 -0.765625 L 1.265625 -0.765625 L 2.328125 -1.796875 C 3.875 -3.171875 4.46875 -3.703125 4.46875 -4.703125 C 4.46875 -5.84375 3.578125 -6.640625 2.359375 -6.640625 C 1.234375 -6.640625 0.5 -5.71875 0.5 -4.828125 C 0.5 -4.28125 1 -4.28125 1.03125 -4.28125 C 1.203125 -4.28125 1.546875 -4.390625 1.546875 -4.8125 C 1.546875 -5.0625 1.359375 -5.328125 1.015625 -5.328125 C 0.9375 -5.328125 0.921875 -5.328125 0.890625 -5.3125 C 1.109375 -5.96875 1.65625 -6.328125 2.234375 -6.328125 C 3.140625 -6.328125 3.5625 -5.515625 3.5625 -4.703125 C 3.5625 -3.90625 3.078125 -3.125 2.515625 -2.5 L 0.609375 -0.375 C 0.5 -0.265625 0.5 -0.234375 0.5 0 L 4.203125 0 Z M 4.46875 -1.734375 \"/>\n",
       "</symbol>\n",
       "<symbol overflow=\"visible\" id=\"glyph-1636526391308290-0-3\">\n",
       "<path style=\"stroke:none;\" d=\"M 4.5625 -1.703125 C 4.5625 -2.515625 3.921875 -3.296875 2.890625 -3.515625 C 3.703125 -3.78125 4.28125 -4.46875 4.28125 -5.265625 C 4.28125 -6.078125 3.40625 -6.640625 2.453125 -6.640625 C 1.453125 -6.640625 0.6875 -6.046875 0.6875 -5.28125 C 0.6875 -4.953125 0.90625 -4.765625 1.203125 -4.765625 C 1.5 -4.765625 1.703125 -4.984375 1.703125 -5.28125 C 1.703125 -5.765625 1.234375 -5.765625 1.09375 -5.765625 C 1.390625 -6.265625 2.046875 -6.390625 2.40625 -6.390625 C 2.828125 -6.390625 3.375 -6.171875 3.375 -5.28125 C 3.375 -5.15625 3.34375 -4.578125 3.09375 -4.140625 C 2.796875 -3.65625 2.453125 -3.625 2.203125 -3.625 C 2.125 -3.609375 1.890625 -3.59375 1.8125 -3.59375 C 1.734375 -3.578125 1.671875 -3.5625 1.671875 -3.46875 C 1.671875 -3.359375 1.734375 -3.359375 1.90625 -3.359375 L 2.34375 -3.359375 C 3.15625 -3.359375 3.53125 -2.6875 3.53125 -1.703125 C 3.53125 -0.34375 2.84375 -0.0625 2.40625 -0.0625 C 1.96875 -0.0625 1.21875 -0.234375 0.875 -0.8125 C 1.21875 -0.765625 1.53125 -0.984375 1.53125 -1.359375 C 1.53125 -1.71875 1.265625 -1.921875 0.984375 -1.921875 C 0.734375 -1.921875 0.421875 -1.78125 0.421875 -1.34375 C 0.421875 -0.4375 1.34375 0.21875 2.4375 0.21875 C 3.65625 0.21875 4.5625 -0.6875 4.5625 -1.703125 Z M 4.5625 -1.703125 \"/>\n",
       "</symbol>\n",
       "<symbol overflow=\"visible\" id=\"glyph-1636526391308290-0-4\">\n",
       "<path style=\"stroke:none;\" d=\"M 4.6875 -1.640625 L 4.6875 -1.953125 L 3.703125 -1.953125 L 3.703125 -6.484375 C 3.703125 -6.6875 3.703125 -6.75 3.53125 -6.75 C 3.453125 -6.75 3.421875 -6.75 3.34375 -6.625 L 0.28125 -1.953125 L 0.28125 -1.640625 L 2.9375 -1.640625 L 2.9375 -0.78125 C 2.9375 -0.421875 2.90625 -0.3125 2.171875 -0.3125 L 1.96875 -0.3125 L 1.96875 0 C 2.375 -0.03125 2.890625 -0.03125 3.3125 -0.03125 C 3.734375 -0.03125 4.25 -0.03125 4.671875 0 L 4.671875 -0.3125 L 4.453125 -0.3125 C 3.71875 -0.3125 3.703125 -0.421875 3.703125 -0.78125 L 3.703125 -1.640625 Z M 2.984375 -1.953125 L 0.5625 -1.953125 L 2.984375 -5.671875 Z M 2.984375 -1.953125 \"/>\n",
       "</symbol>\n",
       "</g>\n",
       "</defs>\n",
       "<g id=\"surface1\">\n",
       "<path style=\"fill:none;stroke-width:0.3985;stroke-linecap:butt;stroke-linejoin:miter;stroke:rgb(0%,0%,0%);stroke-opacity:1;stroke-miterlimit:10;\" d=\"M -6.009344 -6.010437 L -11.712469 -11.709656 \" transform=\"matrix(1,0,0,-1,23.857,6.638)\"/>\n",
       "<path style=\"fill:none;stroke-width:0.31879;stroke-linecap:round;stroke-linejoin:round;stroke:rgb(0%,0%,0%);stroke-opacity:1;stroke-miterlimit:10;\" d=\"M -1.193986 1.594541 C -1.09731 0.995152 0.0020303 0.100211 0.300344 0.000773405 C -0.000731863 -0.101427 -1.094548 -0.996367 -1.193986 -1.592994 \" transform=\"matrix(-0.7071,0.7071,0.7071,0.7071,12.14542,18.34958)\"/>\n",
       "<path style=\"fill:none;stroke-width:0.3985;stroke-linecap:butt;stroke-linejoin:miter;stroke:rgb(0%,0%,0%);stroke-opacity:1;stroke-miterlimit:10;\" d=\"M 6.010187 -6.010437 L 11.713312 -11.709656 \" transform=\"matrix(1,0,0,-1,23.857,6.638)\"/>\n",
       "<path style=\"fill:none;stroke-width:0.31879;stroke-linecap:round;stroke-linejoin:round;stroke:rgb(0%,0%,0%);stroke-opacity:1;stroke-miterlimit:10;\" d=\"M -1.193361 1.593591 C -1.093923 0.996964 -0.000106951 0.102023 0.300969 -0.000176778 C 0.00265521 -0.0996146 -1.096685 -0.994555 -1.193361 -1.593944 \" transform=\"matrix(0.7071,0.7071,0.7071,-0.7071,35.56856,18.34956)\"/>\n",
       "<path style=\"fill:none;stroke-width:0.3985;stroke-linecap:butt;stroke-linejoin:miter;stroke:rgb(0%,0%,0%);stroke-opacity:1;stroke-miterlimit:10;\" d=\"M -12.036688 -24.057312 L -6.333563 -29.756531 \" transform=\"matrix(1,0,0,-1,23.857,6.638)\"/>\n",
       "<path style=\"fill:none;stroke-width:0.31879;stroke-linecap:round;stroke-linejoin:round;stroke:rgb(0%,0%,0%);stroke-opacity:1;stroke-miterlimit:10;\" d=\"M -1.196137 1.595285 C -1.093937 0.995896 -0.000121093 0.100955 0.298192 0.00151764 C -0.000121093 -0.0979202 -1.0967 -0.995623 -1.196137 -1.59225 \" transform=\"matrix(0.7071,0.7071,0.7071,-0.7071,17.52245,36.39569)\"/>\n",
       "<path style=\"fill:none;stroke-width:0.3985;stroke-linecap:butt;stroke-linejoin:miter;stroke:rgb(0%,0%,0%);stroke-opacity:1;stroke-miterlimit:10;\" d=\"M 6.010187 -30.08075 L 11.713312 -24.381531 \" transform=\"matrix(1,0,0,-1,23.857,6.638)\"/>\n",
       "<path style=\"fill:none;stroke-width:0.31879;stroke-linecap:round;stroke-linejoin:round;stroke:rgb(0%,0%,0%);stroke-opacity:1;stroke-miterlimit:10;\" d=\"M -1.195372 1.591934 C -1.095934 0.995307 0.000644357 0.0976038 0.298958 -0.00183408 C 0.000644357 -0.101272 -1.093172 -0.996213 -1.195372 -1.595602 \" transform=\"matrix(0.7071,-0.7071,-0.7071,-0.7071,35.56856,31.01869)\"/>\n",
       "<g style=\"fill:rgb(0%,0%,0%);fill-opacity:1;\">\n",
       "  <use xlink:href=\"#glyph-1636526391308290-0-1\" x=\"21.366\" y=\"9.956\"/>\n",
       "</g>\n",
       "<g style=\"fill:rgb(0%,0%,0%);fill-opacity:1;\">\n",
       "  <use xlink:href=\"#glyph-1636526391308290-0-2\" x=\"3.321\" y=\"28.002\"/>\n",
       "</g>\n",
       "<g style=\"fill:rgb(0%,0%,0%);fill-opacity:1;\">\n",
       "  <use xlink:href=\"#glyph-1636526391308290-0-3\" x=\"21.366\" y=\"45.938\"/>\n",
       "</g>\n",
       "<g style=\"fill:rgb(0%,0%,0%);fill-opacity:1;\">\n",
       "  <use xlink:href=\"#glyph-1636526391308290-0-4\" x=\"39.412\" y=\"28.057\"/>\n",
       "</g>\n",
       "</g>\n",
       "</svg>\n",
       "\n"
      ],
      "text/plain": [
       "TikzPicture(\"\\\\graph [simple necklace layout, ] {\\n1/\\\"1\\\" [],\\n2/\\\"2\\\" [],\\n3/\\\"3\\\" [],\\n4/\\\"4\\\" [],\\n;\\n1 -> [,] 2;\\n1 -> [,] 4;\\n2 -> [,] 3;\\n3 -> [,] 4;\\n};\\n\", \"\", \"\\\\usepackage{fontspec}\\n\\\\setmainfont{Latin Modern Math}\\n\\\\usetikzlibrary{arrows}\\n\\\\usetikzlibrary{graphs}\\n\\\\usetikzlibrary{graphdrawing}\\n\\n% from: https://tex.stackexchange.com/questions/453132/fresh-install-of-tl2018-no-tikz-graph-drawing-libraries-found\\n\\\\usepackage{luacode}\\n\\\\begin{luacode*}\\n\\tfunction pgf_lookup_and_require(name)\\n\\tlocal sep = package.config:sub(1,1)\\n\\tlocal function lookup(name)\\n\\tlocal sub = name:gsub('%.',sep)  \\n\\tif kpse.find_file(sub, 'lua') then\\n\\trequire(name)\\n\\telseif kpse.find_file(sub, 'clua') then\\n\\tcollectgarbage('stop') \\n\\trequire(name)\\n\\tcollectgarbage('restart')\\n\\telse\\n\\treturn false\\n\\tend\\n\\treturn true\\n\\tend\\n\\treturn\\n\\tlookup('pgf.gd.' .. name .. '.library') or\\n\\tlookup('pgf.gd.' .. name) or\\n\\tlookup(name .. '.library') or\\n\\tlookup(name) \\n\\tend\\n\\\\end{luacode*}\\n\\n\\\\usegdlibrary{circular}\", \"tikzpicture\", \"\", \"\", true, true)"
      ]
     },
     "execution_count": 18,
     "metadata": {},
     "output_type": "execute_result"
    }
   ],
   "source": [
    "TikzGraphs.plot(g, Layouts.SimpleNecklace())"
   ]
  },
  {
   "cell_type": "markdown",
   "metadata": {},
   "source": [
    "## Options"
   ]
  },
  {
   "cell_type": "code",
   "execution_count": 19,
   "metadata": {},
   "outputs": [
    {
     "data": {
      "image/svg+xml": [
       "<?xml version=\"1.0\" encoding=\"UTF-8\"?>\n",
       "<svg xmlns=\"http://www.w3.org/2000/svg\" xmlns:xlink=\"http://www.w3.org/1999/xlink\" width=\"73.444pt\" height=\"190.838pt\" viewBox=\"0 0 73.444 190.838\" version=\"1.1\">\n",
       "<defs>\n",
       "<g>\n",
       "<symbol overflow=\"visible\" id=\"glyph-1636526391308291-0-0\">\n",
       "<path style=\"stroke:none;\" d=\"\"/>\n",
       "</symbol>\n",
       "<symbol overflow=\"visible\" id=\"glyph-1636526391308291-0-1\">\n",
       "<path style=\"stroke:none;\" d=\"M 8.296875 0 L 8.296875 -1.203125 L 5.859375 -1.203125 L 5.859375 -13.875 L 5.46875 -13.875 C 4.359375 -12.71875 3.0625 -12.5625 1.734375 -12.515625 L 1.734375 -11.3125 C 2.328125 -11.34375 3.3125 -11.375 4.28125 -11.8125 L 4.28125 -1.203125 L 1.84375 -1.203125 L 1.84375 0 Z M 8.296875 0 \"/>\n",
       "</symbol>\n",
       "<symbol overflow=\"visible\" id=\"glyph-1636526391308291-0-2\">\n",
       "<path style=\"stroke:none;\" d=\"M 8.71875 0 L 8.71875 -1.40625 L 5.203125 -1.40625 C 4.953125 -1.40625 4.703125 -1.390625 4.46875 -1.390625 L 2.390625 -1.390625 L 2.390625 -1.40625 L 5.328125 -4.375 C 5.90625 -4.984375 6.78125 -5.703125 7.375 -6.421875 C 7.953125 -7.125 8.71875 -8.125 8.71875 -9.5625 C 8.71875 -11.84375 7.1875 -13.875 4.578125 -13.875 C 2.546875 -13.875 1.359375 -12.59375 0.8125 -10.59375 L 1.609375 -9.484375 C 2.0625 -11.359375 2.703125 -12.5625 4.3125 -12.5625 C 6.09375 -12.5625 7.078125 -11.109375 7.078125 -9.515625 C 7.078125 -7.625 5.640625 -6.15625 4.546875 -5.0625 L 0.96875 -1.328125 L 0.96875 0 Z M 8.71875 0 \"/>\n",
       "</symbol>\n",
       "<symbol overflow=\"visible\" id=\"glyph-1636526391308291-0-3\">\n",
       "<path style=\"stroke:none;\" d=\"M 8.875 -3.796875 C 8.875 -5.4375 7.75 -6.796875 6.203125 -7.3125 C 7.4375 -8 8.34375 -9.28125 8.34375 -10.765625 C 8.34375 -12.5 6.75 -13.875 4.8125 -13.875 C 3.03125 -13.875 1.65625 -12.78125 1.078125 -11.609375 C 1.21875 -11.40625 1.59375 -10.796875 1.78125 -10.5 C 2.234375 -11.71875 3.40625 -12.625 4.796875 -12.625 C 5.953125 -12.625 6.71875 -11.859375 6.71875 -10.765625 C 6.71875 -9.625 5.984375 -8.390625 4.765625 -8.09375 C 4.6875 -8.09375 3.40625 -7.96875 3.25 -7.953125 L 3.25 -6.6875 L 4.640625 -6.6875 C 6.59375 -6.6875 7.140625 -5 7.140625 -3.828125 C 7.140625 -2.203125 6.234375 -0.953125 4.75 -0.953125 C 3.59375 -0.953125 1.96875 -1.53125 1.03125 -3.0625 C 0.890625 -2.328125 0.890625 -2.296875 0.8125 -1.796875 C 1.78125 -0.375 3.34375 0.328125 4.796875 0.328125 C 7.140625 0.328125 8.875 -1.625 8.875 -3.796875 Z M 8.875 -3.796875 \"/>\n",
       "</symbol>\n",
       "<symbol overflow=\"visible\" id=\"glyph-1636526391308291-0-4\">\n",
       "<path style=\"stroke:none;\" d=\"M 9.15625 -3.53125 L 9.15625 -4.796875 L 7.265625 -4.796875 L 7.265625 -13.546875 L 5.453125 -13.546875 L 0.53125 -4.796875 L 0.53125 -3.53125 L 5.640625 -3.53125 L 5.640625 0 L 7.265625 0 L 7.265625 -3.53125 Z M 5.703125 -4.796875 L 2.125 -4.796875 C 3.328125 -6.90625 5.6875 -11.15625 5.703125 -12.59375 Z M 5.703125 -4.796875 \"/>\n",
       "</symbol>\n",
       "</g>\n",
       "<clipPath id=\"clip-1636526391308291-1\">\n",
       "  <path d=\"M 56 0 L 73.445312 0 L 73.445312 21 L 56 21 Z M 56 0 \"/>\n",
       "</clipPath>\n",
       "<clipPath id=\"clip-1636526391308291-2\">\n",
       "  <path d=\"M 56 170 L 73.445312 170 L 73.445312 190.839844 L 56 190.839844 Z M 56 170 \"/>\n",
       "</clipPath>\n",
       "</defs>\n",
       "<g id=\"surface1\">\n",
       "<path style=\"fill:none;stroke-width:0.3985;stroke-linecap:butt;stroke-linejoin:miter;stroke:rgb(0%,0%,0%);stroke-opacity:1;stroke-miterlimit:10;\" d=\"M -16.751594 -16.752844 L -39.618781 -39.620031 \" transform=\"matrix(1,0,0,-1,65.068,10.462)\"/>\n",
       "<path style=\"fill:none;stroke-width:0.31879;stroke-linecap:round;stroke-linejoin:round;stroke:rgb(0%,0%,0%);stroke-opacity:1;stroke-miterlimit:10;\" d=\"M -1.194565 1.594652 C -1.095127 0.998025 0.00145135 0.100322 0.299765 0.000883892 C 0.00145135 -0.098554 -1.095127 -0.996257 -1.194565 -1.592884 \" transform=\"matrix(-0.7071,0.7071,0.7071,0.7071,25.44962,50.08038)\"/>\n",
       "<path style=\"fill:none;stroke-width:0.3985;stroke-linecap:butt;stroke-linejoin:miter;stroke:rgb(0%,0%,0%);stroke-opacity:1;stroke-miterlimit:10;\" d=\"M -0.00159375 -20.924719 L -0.00159375 -149.026281 \" transform=\"matrix(1,0,0,-1,65.068,10.462)\"/>\n",
       "<path style=\"fill:none;stroke-width:0.31879;stroke-linecap:round;stroke-linejoin:round;stroke:rgb(0%,0%,0%);stroke-opacity:1;stroke-miterlimit:10;\" d=\"M -1.197151 1.592156 C -1.095589 0.9945 -0.00183875 0.0999688 0.298942 -0.00159375 C -0.00183875 -0.09925 -1.095589 -0.997687 -1.197151 -1.595344 \" transform=\"matrix(0,1,1,0,65.068,159.49012)\"/>\n",
       "<path style=\"fill:none;stroke-width:0.3985;stroke-linecap:butt;stroke-linejoin:miter;stroke:rgb(0%,0%,0%);stroke-opacity:1;stroke-miterlimit:10;\" d=\"M -56.693 -77.620031 L -56.693 -91.674719 \" transform=\"matrix(1,0,0,-1,65.068,10.462)\"/>\n",
       "<path style=\"fill:none;stroke-width:0.31879;stroke-linecap:round;stroke-linejoin:round;stroke:rgb(0%,0%,0%);stroke-opacity:1;stroke-miterlimit:10;\" d=\"M -1.193904 1.59437 C -1.096248 0.996714 0.00140875 0.0982763 0.298284 0.00062 C 0.00140875 -0.100942 -1.096248 -0.995474 -1.193904 -1.59313 \" transform=\"matrix(0,1,1,0,8.37438,102.13531)\"/>\n",
       "<path style=\"fill:none;stroke-width:0.3985;stroke-linecap:butt;stroke-linejoin:miter;stroke:rgb(0%,0%,0%);stroke-opacity:1;stroke-miterlimit:10;\" d=\"M -39.943 -130.139562 L -17.075812 -153.00675 \" transform=\"matrix(1,0,0,-1,65.068,10.462)\"/>\n",
       "<path style=\"fill:none;stroke-width:0.31879;stroke-linecap:round;stroke-linejoin:round;stroke:rgb(0%,0%,0%);stroke-opacity:1;stroke-miterlimit:10;\" d=\"M -1.195657 1.592543 C -1.09622 0.995916 0.00035886 0.0982128 0.298672 -0.00122507 C 0.00035886 -0.100663 -1.09622 -0.998366 -1.195657 -1.594993 \" transform=\"matrix(0.7071,0.7071,0.7071,-0.7071,47.9928,163.46763)\"/>\n",
       "<g clip-path=\"url(#clip-1636526391308291-1)\" clip-rule=\"nonzero\">\n",
       "<path style=\"fill:none;stroke-width:0.3985;stroke-linecap:butt;stroke-linejoin:miter;stroke:rgb(0%,0%,0%);stroke-opacity:1;stroke-miterlimit:10;\" d=\"M -8.177375 -10.264562 L 8.178094 -10.264562 L 8.178094 10.262781 L -8.177375 10.262781 Z M -8.177375 -10.264562 \" transform=\"matrix(1,0,0,-1,65.068,10.462)\"/>\n",
       "</g>\n",
       "<g style=\"fill:rgb(0%,0%,0%);fill-opacity:1;\">\n",
       "  <use xlink:href=\"#glyph-1636526391308291-0-1\" x=\"60.213\" y=\"17.405\"/>\n",
       "</g>\n",
       "<path style=\"fill:none;stroke-width:0.3985;stroke-linecap:butt;stroke-linejoin:miter;stroke:rgb(0%,0%,0%);stroke-opacity:1;stroke-miterlimit:10;\" d=\"M -8.175781 -10.262969 L 8.175781 -10.262969 L 8.175781 10.264375 L -8.175781 10.264375 Z M -8.175781 -10.262969 \" transform=\"matrix(1,0,0,-1,8.375,67.155)\"/>\n",
       "<g style=\"fill:rgb(0%,0%,0%);fill-opacity:1;\">\n",
       "  <use xlink:href=\"#glyph-1636526391308291-0-2\" x=\"3.52\" y=\"74.098\"/>\n",
       "</g>\n",
       "<path style=\"fill:none;stroke-width:0.3985;stroke-linecap:butt;stroke-linejoin:miter;stroke:rgb(0%,0%,0%);stroke-opacity:1;stroke-miterlimit:10;\" d=\"M -8.175781 -10.429344 L 8.175781 -10.429344 L 8.175781 10.430031 L -8.175781 10.430031 Z M -8.175781 -10.429344 \" transform=\"matrix(1,0,0,-1,8.375,123.848)\"/>\n",
       "<g style=\"fill:rgb(0%,0%,0%);fill-opacity:1;\">\n",
       "  <use xlink:href=\"#glyph-1636526391308291-0-3\" x=\"3.52\" y=\"130.625\"/>\n",
       "</g>\n",
       "<g clip-path=\"url(#clip-1636526391308291-2)\" clip-rule=\"nonzero\">\n",
       "<path style=\"fill:none;stroke-width:0.3985;stroke-linecap:butt;stroke-linejoin:miter;stroke:rgb(0%,0%,0%);stroke-opacity:1;stroke-miterlimit:10;\" d=\"M -8.177375 -10.099625 L 8.178094 -10.099625 L 8.178094 10.099594 L -8.177375 10.099594 Z M -8.177375 -10.099625 \" transform=\"matrix(1,0,0,-1,65.068,180.541)\"/>\n",
       "</g>\n",
       "<g style=\"fill:rgb(0%,0%,0%);fill-opacity:1;\">\n",
       "  <use xlink:href=\"#glyph-1636526391308291-0-4\" x=\"60.213\" y=\"187.318\"/>\n",
       "</g>\n",
       "</g>\n",
       "</svg>\n",
       "\n"
      ],
      "text/plain": [
       "TikzPicture(\"\\\\graph [layered layout, ] {\\n1/\\\"1\\\" [draw],\\n2/\\\"2\\\" [draw],\\n3/\\\"3\\\" [draw],\\n4/\\\"4\\\" [draw],\\n;\\n1 -> [,] 2;\\n1 -> [,] 4;\\n2 -> [,] 3;\\n3 -> [,] 4;\\n};\\n\", \"scale=2, font=\\\\huge\\\\sf\", \"\\\\usepackage{fontspec}\\n\\\\setmainfont{Latin Modern Math}\\n\\\\usetikzlibrary{arrows}\\n\\\\usetikzlibrary{graphs}\\n\\\\usetikzlibrary{graphdrawing}\\n\\n% from: https://tex.stackexchange.com/questions/453132/fresh-install-of-tl2018-no-tikz-graph-drawing-libraries-found\\n\\\\usepackage{luacode}\\n\\\\begin{luacode*}\\n\\tfunction pgf_lookup_and_require(name)\\n\\tlocal sep = package.config:sub(1,1)\\n\\tlocal function lookup(name)\\n\\tlocal sub = name:gsub('%.',sep)  \\n\\tif kpse.find_file(sub, 'lua') then\\n\\trequire(name)\\n\\telseif kpse.find_file(sub, 'clua') then\\n\\tcollectgarbage('stop') \\n\\trequire(name)\\n\\tcollectgarbage('restart')\\n\\telse\\n\\treturn false\\n\\tend\\n\\treturn true\\n\\tend\\n\\treturn\\n\\tlookup('pgf.gd.' .. name .. '.library') or\\n\\tlookup('pgf.gd.' .. name) or\\n\\tlookup(name .. '.library') or\\n\\tlookup(name) \\n\\tend\\n\\\\end{luacode*}\\n\\n\\\\usegdlibrary{layered}\", \"tikzpicture\", \"\", \"\", true, true)"
      ]
     },
     "execution_count": 19,
     "metadata": {},
     "output_type": "execute_result"
    }
   ],
   "source": [
    "TikzGraphs.plot(g, node_style=\"draw\", options=\"scale=2, font=\\\\huge\\\\sf\")"
   ]
  },
  {
   "cell_type": "markdown",
   "metadata": {},
   "source": [
    "## Future Plans"
   ]
  },
  {
   "cell_type": "markdown",
   "metadata": {},
   "source": [
    "Gradually, more functionality from pgf/tikz will be migrated into this package."
   ]
  }
 ],
 "metadata": {
  "@webio": {
   "lastCommId": null,
   "lastKernelId": null
  },
  "kernelspec": {
   "display_name": "Julia 1.6.0",
   "language": "julia",
   "name": "julia-1.6"
  },
  "language_info": {
   "file_extension": ".jl",
   "mimetype": "application/julia",
   "name": "julia",
   "version": "1.6.0"
  }
 },
 "nbformat": 4,
 "nbformat_minor": 1
}
